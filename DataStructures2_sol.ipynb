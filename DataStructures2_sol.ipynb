{
 "cells": [
  {
   "cell_type": "markdown",
   "metadata": {},
   "source": [
    "## Data Structures: Arrays/ Lists (continued) and Dictionaries"
   ]
  },
  {
   "cell_type": "markdown",
   "metadata": {},
   "source": [
    "### Lists, continued\n",
    "\n",
    "### List Comprehension\n",
    "\n",
    "List comprehension is a concise and elegant way to create lists based on existing iterables (like lists, tuples, or ranges). It allows you to generate a new list by applying an expression or condition to each element of an iterable."
   ]
  },
  {
   "cell_type": "markdown",
   "metadata": {},
   "source": [
    "### Syntax\n",
    "\n",
    "```python\n",
    "new_list = [expression for item in iterable if condition]\n",
    "```\n",
    "\n",
    "- **`expression`**: The value or transformation to apply to each item in the iterable.\n",
    "- **`item`**: A variable representing each element in the iterable.\n",
    "- **`iterable`**: The source of elements (e.g., a list, range, or another iterable).\n",
    "- **`condition`** *(optional)*: A filter to include only items that satisfy the condition."
   ]
  },
  {
   "cell_type": "markdown",
   "metadata": {},
   "source": [
    "---\n",
    "\n",
    "## Examples"
   ]
  },
  {
   "cell_type": "markdown",
   "metadata": {},
   "source": [
    "Create a List of Squares"
   ]
  },
  {
   "cell_type": "code",
   "execution_count": 5,
   "metadata": {},
   "outputs": [
    {
     "name": "stdout",
     "output_type": "stream",
     "text": [
      "[1, 4, 9, 16, 25]\n"
     ]
    }
   ],
   "source": [
    "numbers = [1, 2, 3, 4, 5]\n",
    "squares = [x ** 2 for x in numbers]\n",
    "print(squares)  # Output: [1, 4, 9, 16, 25]"
   ]
  },
  {
   "cell_type": "markdown",
   "metadata": {},
   "source": [
    "Filter Even Numbers"
   ]
  },
  {
   "cell_type": "code",
   "execution_count": 3,
   "metadata": {},
   "outputs": [
    {
     "name": "stdout",
     "output_type": "stream",
     "text": [
      "[2, 4, 6]\n"
     ]
    }
   ],
   "source": [
    "numbers = [1, 2, 3, 4, 5, 6]\n",
    "evens = [x for x in numbers if x % 2 == 0]\n",
    "print(evens)  # Output: [2, 4, 6]"
   ]
  },
  {
   "cell_type": "markdown",
   "metadata": {},
   "source": [
    "Transform Strings"
   ]
  },
  {
   "cell_type": "code",
   "execution_count": 1,
   "metadata": {},
   "outputs": [
    {
     "name": "stdout",
     "output_type": "stream",
     "text": [
      "['HELLO', 'WORLD', 'PYTHON']\n"
     ]
    }
   ],
   "source": [
    "words = [\"hello\", \"world\", \"python\"]\n",
    "uppercase_words = [word.upper() for word in words]\n",
    "print(uppercase_words)  # Output: ['HELLO', 'WORLD', 'PYTHON']"
   ]
  },
  {
   "cell_type": "markdown",
   "metadata": {},
   "source": [
    "Apply Multiple Conditions"
   ]
  },
  {
   "cell_type": "code",
   "execution_count": 7,
   "metadata": {},
   "outputs": [
    {
     "name": "stdout",
     "output_type": "stream",
     "text": [
      "[4, 6, 8]\n"
     ]
    }
   ],
   "source": [
    "numbers = range(10)\n",
    "filtered_numbers = [x for x in numbers if x % 2 == 0 and x > 3]\n",
    "print(filtered_numbers)  # Output: [4, 6, 8]"
   ]
  },
  {
   "cell_type": "markdown",
   "metadata": {},
   "source": [
    "List Comprehension nested loop example"
   ]
  },
  {
   "cell_type": "code",
   "execution_count": null,
   "metadata": {},
   "outputs": [],
   "source": [
    "pairs = [(x, y) for x in [1, 2, 3] for y in [4, 5, 6]]\n",
    "print(pairs)\n",
    "# Output: [(1, 4), (1, 5), (1, 6), (2, 4), (2, 5), (2, 6), (3, 4), (3, 5), (3, 6)]"
   ]
  },
  {
   "cell_type": "markdown",
   "metadata": {},
   "source": [
    "Create a list of tuples, where each tuple consists of a number and its square, for integers ranging from 5 to 15.\n"
   ]
  },
  {
   "cell_type": "code",
   "execution_count": 1,
   "metadata": {},
   "outputs": [
    {
     "name": "stdout",
     "output_type": "stream",
     "text": [
      "[(5, 25), (6, 36), (7, 49), (8, 64), (9, 81), (10, 100), (11, 121), (12, 144), (13, 169), (14, 196), (15, 225)]\n"
     ]
    }
   ],
   "source": [
    "\n",
    "n_n2_5_15 = [(x,x**2) for x in range(5,16)]\n",
    "print(n_n2_5_15)"
   ]
  },
  {
   "cell_type": "markdown",
   "metadata": {},
   "source": [
    "---\n",
    "\n",
    "### Why List Comprehension?\n",
    "\n",
    "1. **Readability**: Makes the code more concise and easier to understand.\n",
    "2. **Performance**: Often faster than equivalent loops because it is optimized internally.\n",
    "3. **Compactness**: Reduces the number of lines of code."
   ]
  },
  {
   "cell_type": "markdown",
   "metadata": {},
   "source": [
    "---\n",
    "\n",
    "##  List Comprehension vs. For Loop"
   ]
  },
  {
   "cell_type": "markdown",
   "metadata": {},
   "source": [
    "### Using a `for` Loop"
   ]
  },
  {
   "cell_type": "code",
   "execution_count": 11,
   "metadata": {},
   "outputs": [
    {
     "name": "stdout",
     "output_type": "stream",
     "text": [
      "[1, 4, 9, 16, 25]\n"
     ]
    }
   ],
   "source": [
    "numbers = [1, 2, 3, 4, 5]\n",
    "squares = []\n",
    "for x in numbers:\n",
    "    squares.append(x ** 2)\n",
    "print(squares)  # Output: [1, 4, 9, 16, 25]"
   ]
  },
  {
   "cell_type": "markdown",
   "metadata": {},
   "source": [
    "### Using List Comprehension"
   ]
  },
  {
   "cell_type": "code",
   "execution_count": 13,
   "metadata": {},
   "outputs": [
    {
     "name": "stdout",
     "output_type": "stream",
     "text": [
      "[1, 4, 9, 16, 25]\n"
     ]
    }
   ],
   "source": [
    "numbers = [1, 2, 3, 4, 5]\n",
    "squares = [x ** 2 for x in numbers]\n",
    "print(squares)  # Output: [1, 4, 9, 16, 25]"
   ]
  },
  {
   "cell_type": "markdown",
   "metadata": {},
   "source": [
    "### Practice Problems\n",
    "\n",
    "Suppose you collected a survey from students at Rhodes and you asked them when they were going to get married.  You produced the following dataset.   Notice that it contains some noisy data with '+', 'Never', '35-40'"
   ]
  },
  {
   "cell_type": "code",
   "execution_count": 6,
   "metadata": {},
   "outputs": [
    {
     "name": "stdout",
     "output_type": "stream",
     "text": [
      "[24, 30, 28, 29, 30, 27, 26, 28, 26, 28, 30, 30, 30, 30, 25, 25, 30, 28, 30, 25, 28, 28, 25, 25, 27, 28, 30, 30, 35, 26, 28, 27, 27, 30, 25, 30, 26, 32, 27, 26, 27, 26, 28, 37, 28, 28, 28, 35, 28, 27, 28, 26, 28, 26, 30, 27, 30, 28, 25, 26, 28, 35, 29, 27, 27, 30, 24, 25, 29, 27, 33, 30, 30, 25, 26, 30, 32, 26, 30, 30, 25, 27, 27, 25, 27, 27, 32, 26, 25, 28, 33, 28, 35, 25, 30, 29, 30, 31, 28, 28, 30, 40, 30, 28, 30, 27, 28, 27, 28, 35, 30, 30, 30, 35, 28, 31, 30, 27, 33, 32, 27, 27, 26, 25, 26, 29, 28, 34, 26, 24, 28, 30, 120, 25, 33, 27, 28, 32, 30, 26, 30, 30, 28, 27, 27, 27, 27, 27, 27, 28, 30, 30, 30, 28, 30, 28, 30, 30, 28, 28, 30, 27, 30, 28, 25, 420, 28, 28, 33, 30, 28, 28, 26, 30, 26, 27, 30, 25, 27, 27, 25, 23, 22]\n",
      "28.94535519125683\n",
      "0.366120218579235\n"
     ]
    }
   ],
   "source": [
    "marriage_age = ['24', '30', '28', '29', '30', '27', '26', '28', '30+', '26', '28', '30', '30', '30', 'probably never', \n",
    "'30', '25', '25', '30', '28', '30+ ', '30', '25', '28', '28', '25', '25', '27', '28', '30', '30', '35', '26', '28', '27', \n",
    "'27', '30', '25', '30', '26', '32', '27', '26', '27', '26', '28', '37', '28', '28', '28', '35', '28', '27', '28', '26', \n",
    "'28', '26', '30', '27', '30', '28', '25', '26', '28', '35', '29', '27', '27', '30', '24', '25', '29', '27', '33', '30', \n",
    "'30', '25', '26', '30', '32', '26', '30', '30', 'I wont', '25', '27', '27', '25', '27', '27', '32', '26', '25', 'never', \n",
    "'28', '33', '28', '35', '25', '30', '29', '30', '31', '28', '28', '30', '40', '30', '28', '30', '27', 'by 30', '28', \n",
    "'27', '28', '30-35', '35', '30', '30', 'never', '30', '35', '28', '31', '30', '27', '33', '32', '27', '27', '26', 'N/A', \n",
    "'25', '26', '29', '28', '34', '26', '24', '28', '30', '120', '25', '33', '27', '28', '32', '30', '26', '30', '30', '28', \n",
    "'27', '27', '27', '27', '27', '27', '28', '30', '30', '30', '28', '30', '28', '30', '30', '28', '28', '30', '27', '30', \n",
    "'28', '25', 'never', '420', '28', '28', '33', '30', '28', '28', '26', '30', '26', '27', '30', '25', 'Never', '27', '27', \n",
    "'25','not', '35-40','23','22']\n",
    "\n",
    "#filter out all strings that are not integers\n",
    "#make marriage_age a list of ints\n",
    "filtered=[int(age)  for age in marriage_age if age.isdigit()]\n",
    "print(filtered)\n",
    "\n",
    "\n",
    "\n",
    "\n",
    "#Cap the values greater than 80 to 80\n",
    "cap_80=[min(i, 80) for i in filtered ]\n",
    "\n",
    "\n",
    "\n",
    "\n",
    "#What is the mean age when people expect to marry?\n",
    "print(sum(cap_80)/len(cap_80))\n",
    "\n",
    "\n",
    "#Determine the percentage of people who expect to marry at an age of 30 or more.\n",
    "ages_greater30=[age  for age in filtered if age>=30]\n",
    "print(len(ages_greater30)/len(filtered))\n"
   ]
  },
  {
   "cell_type": "markdown",
   "metadata": {},
   "source": [
    "Filter a list of strings to include only those that start with a specific letter, 'A', and find the length of the new list.\n",
    "\n"
   ]
  },
  {
   "cell_type": "code",
   "execution_count": 14,
   "metadata": {},
   "outputs": [
    {
     "name": "stdout",
     "output_type": "stream",
     "text": [
      "8\n",
      "8\n"
     ]
    }
   ],
   "source": [
    "names = ['Alice', 'Bob', 'Aya', 'Eugene', 'Kai', 'Idris','Malik','Naomi','Mia', 'Samir', 'Shreya',\n",
    "         'Talia', 'Hugo', 'Alex', 'Amanda', 'Charlie', 'Annie', 'Brian', 'Anna', 'Albert', 'Yara',\n",
    "        'Catherine','Aadago','Kimmie','Wuppie']\n",
    "\n",
    "\n",
    "names[0].\n",
    "\n",
    "print(len([ name  for name in names  if name.startswith('A')]))\n",
    "\n",
    "print(len([ name  for name in names  if name[0]=='A']))"
   ]
  },
  {
   "cell_type": "markdown",
   "metadata": {},
   "source": [
    "###  Combining Lists\n",
    "Similar to tuples, you can join two or more lists using the `+` operator:\n"
   ]
  },
  {
   "cell_type": "code",
   "execution_count": null,
   "metadata": {},
   "outputs": [],
   "source": [
    "list_ex4 = [24, 'yo', 2] \n",
    "list_ex4 = list_ex4 + [None, '8', 1]\n",
    "list_ex4"
   ]
  },
  {
   "cell_type": "markdown",
   "metadata": {},
   "source": [
    "However, it's generally better to use the `extend` method for adding elements to an existing list. The `extend` method directly modifies the original list, making it more memory-efficient compared to the `+` operator, which creates a new list."
   ]
  },
  {
   "cell_type": "code",
   "execution_count": null,
   "metadata": {},
   "outputs": [],
   "source": [
    "list_ex4 = [24, 'yo', 2] \n",
    "list_ex4.extend([None, '8', 1])\n",
    "list_ex4"
   ]
  },
  {
   "cell_type": "markdown",
   "metadata": {},
   "source": [
    "### Mutating a List\n",
    "You can change the indices in a list."
   ]
  },
  {
   "cell_type": "code",
   "execution_count": null,
   "metadata": {},
   "outputs": [],
   "source": [
    "list_ex4[1]='dachshund'\n",
    "print(list_ex4)"
   ]
  },
  {
   "cell_type": "markdown",
   "metadata": {},
   "source": [
    "### Assignment Creates a Reference, Not a Copy\n",
    "When you assign a list to another variable, both variables point to the same memory location. Modifying one will affect the other.\n"
   ]
  },
  {
   "cell_type": "code",
   "execution_count": 16,
   "metadata": {},
   "outputs": [
    {
     "name": "stdout",
     "output_type": "stream",
     "text": [
      "list1: [99, 2, 3]\n",
      "list2: [99, 2, 3]\n"
     ]
    }
   ],
   "source": [
    "list1 = [1, 2, 3]\n",
    "list2 = list1  # Assign list1 to list2\n",
    "\n",
    "list2[0] = 99  # Modify list2\n",
    "print(\"list1:\", list1)  # list1 is also modified\n",
    "print(\"list2:\", list2)"
   ]
  },
  {
   "cell_type": "markdown",
   "metadata": {},
   "source": [
    "### Assignment statements and lists\n",
    "To create a true copy of a list (a separate object in memory), use one of the following methods:\n"
   ]
  },
  {
   "cell_type": "code",
   "execution_count": 18,
   "metadata": {},
   "outputs": [
    {
     "name": "stdout",
     "output_type": "stream",
     "text": [
      "list1: [1, 2, 3]\n",
      "list2: [99, 2, 3]\n",
      "list1: [1, 2, 3]\n",
      "list2: [99, 2, 3]\n"
     ]
    }
   ],
   "source": [
    "#slicing\n",
    "list1 = [1, 2, 3]\n",
    "list2 = list1[:]  # Create a shallow copy\n",
    "list2[0] = 99\n",
    "print(\"list1:\", list1)  # list1 remains unchanged\n",
    "print(\"list2:\", list2)\n",
    "\n",
    "#copy\n",
    "import copy\n",
    "list1 = [1, 2, 3]\n",
    "list2 = copy.copy(list1)  # Create a shallow copy\n",
    "list2[0] = 99\n",
    "print(\"list1:\", list1)  # list1 remains unchanged\n",
    "print(\"list2:\", list2)"
   ]
  },
  {
   "cell_type": "markdown",
   "metadata": {},
   "source": [
    "### Functions and lists\n",
    "When passing a list to a function, the function works with the same object unless explicitly copied.  This concept is directly related to the idea of pass by reference versus pass by type.  You'll see an example of this below.\n",
    "\n"
   ]
  },
  {
   "cell_type": "code",
   "execution_count": null,
   "metadata": {},
   "outputs": [],
   "source": [
    "def modify_list(lst):\n",
    "    lst.append(4)\n",
    "    lst[0]=2\n",
    "\n",
    "my_list = [1, 2, 3]\n",
    "modify_list(my_list)\n",
    "print(my_list)  # The original list is modified\n",
    "\n",
    "\n",
    "def changeMe(foo):\n",
    "    foo=5\n",
    "\n",
    "#this is not true with primitive types (int, float, etc)\n",
    "x=4\n",
    "changeMe(x)\n",
    "print(x)\n",
    "\n",
    "#PASS BY REFERENCE or PASS BY VALUE\n",
    "\n",
    "\n"
   ]
  },
  {
   "cell_type": "markdown",
   "metadata": {},
   "source": [
    "### Pass by Reference and Pass by Value\n",
    "\n",
    "Pass by Reference and Pass by Value are important concepts/terminology in computing.  Let's make sure we understand the terminology.\n",
    "\n",
    "* ***Pass by Reference:*** When arguments are passed by reference, a reference to the actual memory location of the variable is passed to the function.\n",
    "Changes made to the parameter inside the function affect the original value outside the function.\n",
    "\n",
    "* ***Pass by Value:*** When arguments are passed by value, a copy of the value is passed to the function.\n",
    "Changes made to the parameter inside the function do not affect the original value outside the function.\n",
    "\n",
    "\n",
    "***How Does Python Handle This?*** In Python, the behavior depends on the type of the object being passed:\n",
    " * Immutable types (e.g., int, float, str, tuple):\n",
    "They behave like pass by value because you cannot change the object itself; you can only reassign the variable inside the function. \n",
    "* Mutable types (e.g., list, dict, set):\n",
    "They behave like pass by reference because you can modify the object in place.  Any object created from a class you created will be pass by reference and mutable.\n",
    "\n",
    "Look back at the example above and make sure you understand this idea.  "
   ]
  },
  {
   "cell_type": "code",
   "execution_count": null,
   "metadata": {},
   "outputs": [],
   "source": []
  },
  {
   "cell_type": "markdown",
   "metadata": {},
   "source": [
    "### Sorting a List\n",
    "You can sort a list in place using the `sort` method. For example:\n"
   ]
  },
  {
   "cell_type": "code",
   "execution_count": null,
   "metadata": {},
   "outputs": [],
   "source": [
    "list_ex5=[1,2,8,9,11,45,33,12,7,3,18,92,31,22, 4]\n",
    "print(list_ex5)\n",
    "list_ex5.sort()\n",
    "\n",
    "help(list)  #look at the params for sort\n",
    "print(list_ex5)\n",
    "list_ex5.sort(reverse=True) \n",
    "print(list_ex5) \n",
    "\n"
   ]
  },
  {
   "cell_type": "markdown",
   "metadata": {},
   "source": [
    "### List slicing\n",
    "You can extract or modify a section of a list using slicing. To do this, pass the starting index (`start`) and stopping index (`stop`) as `start:stop:step` within square brackets."
   ]
  },
  {
   "cell_type": "code",
   "execution_count": 22,
   "metadata": {},
   "outputs": [
    {
     "name": "stdout",
     "output_type": "stream",
     "text": [
      "list_ex6[2:6]  [23, 12, 67, 89]\n",
      "list_ex6[:7]  [34, 242, 23, 12, 67, 89, 223]\n",
      "list_ex6[2:]  [23, 12, 67, 89, 223, 56, 99, 89, 100]\n",
      "list_ex6[-4:]  [56, 99, 89, 100]\n",
      "list_ex6[::3]  [34, 12, 223, 89]\n",
      "list_ex6[::-1]  [100, 89, 99, 56, 223, 89, 67, 12, 23, 242, 34]\n"
     ]
    }
   ],
   "source": [
    "list_ex6=[34, 242, 23,12, 67, 89, 223, 56, 99, 89,100]\n",
    "\n",
    "# Extract a slice from index 2 to 5 (stop index is excluded)\n",
    "print(\"list_ex6[2:6] \", list_ex6[2:6])  #23, 12, 67, 89\n",
    "\n",
    "#Omit the `start` index to begin from the start and up to and not including the stop:\n",
    "print(\"list_ex6[:7] \", list_ex6[:7])  #[34, 242, 23,12, 67, 89, 223,\n",
    "\n",
    "#Omit the `stop` index to include all elements till the end:\n",
    "print(\"list_ex6[2:] \",list_ex6[2:])  #23,12, 67, 89, 223, 56, 99, 89,100\n",
    "\n",
    "#Negative indices start counting from the other end..\n",
    "print(\"list_ex6[-4:] \", list_ex6[-4:])  # 56, 99, 89,100\n",
    "\n",
    "#Extract every third element\n",
    "print(\"list_ex6[::3] \", list_ex6[::3])  #34, 12, 223, 89\n",
    "\n",
    "#Reverse the list\n",
    "print( \"list_ex6[::-1] \",list_ex6[::-1])\n",
    "\n"
   ]
  },
  {
   "cell_type": "markdown",
   "metadata": {},
   "source": [
    "### Lists versus Tuples in Python\n",
    "\n",
    "While lists are more versatile and can often replace tuples in most scenarios, there are specific reasons to choose tuples over lists:\n",
    "\n",
    "**Space**:  \n",
    "     Lists require more memory because they are designed to grow dynamically. When a list is created, extra space is allocated to accommodate future additions. Tuples, being immutable, use less memory compared to lists of the same length.\n",
    "     \n",
    "**Efficiency**:  \n",
    "     Tuples directly reference their elements, while lists use an additional layer of pointers to reference elements. This makes element retrieval faster for tuples.  However, other algorithms will run faster on lists.  It depends on what you are commonly doing to your data.\n",
    "\n",
    "\n",
    "---"
   ]
  },
  {
   "cell_type": "code",
   "execution_count": 4,
   "metadata": {},
   "outputs": [
    {
     "name": "stdout",
     "output_type": "stream",
     "text": [
      "Space taken by tuple = 56  bytes\n",
      "Space taken by list = 72  bytes\n"
     ]
    }
   ],
   "source": [
    "#Example showing tuples take less storage space than lists for the same elements\n",
    "tuple_ex = (2, 4, 2, 'Data Analytics')\n",
    "list_ex = [2, 4, 2, 'Data Analytics']\n",
    "print(\"Space taken by tuple =\",tuple_ex.__sizeof__(),\" bytes\")\n",
    "print(\"Space taken by list =\",list_ex.__sizeof__(),\" bytes\")"
   ]
  },
  {
   "cell_type": "code",
   "execution_count": 6,
   "metadata": {},
   "outputs": [
    {
     "name": "stdout",
     "output_type": "stream",
     "text": [
      "Time taken to retrieve every 2nd element from a list = 0.023270845413208008\n",
      "Time taken to retrieve every 2nd element from a tuple = 0.009238004684448242\n"
     ]
    }
   ],
   "source": [
    "#Tuples are faster because of direct reference\n",
    "import time as t\n",
    "# Retrieving elements from a list\n",
    "tt = t.time()\n",
    "list_ex = list(range(1000000))  # List containing integers up to 1 million\n",
    "result = list_ex[::-2]\n",
    "print(\"Time taken to retrieve every 2nd element from a list =\", t.time() - tt)\n",
    "\n",
    "# Retrieving elements from a tuple\n",
    "tt = t.time()\n",
    "tuple_ex = tuple(range(1000000))  # Tuple containing integers up to 1 million\n",
    "result = tuple_ex[::-2]\n",
    "print(\"Time taken to retrieve every 2nd element from a tuple =\", t.time() - tt)\n",
    "\n"
   ]
  },
  {
   "cell_type": "code",
   "execution_count": null,
   "metadata": {},
   "outputs": [],
   "source": [
    "#Less Memory example\n",
    "tuple_ex = (2, 4, 2, 'Data')\n",
    "list_ex = [2, 4, 2, 'Data']\n",
    "print(\"Size of tuple =\", tuple_ex.__sizeof__(), \"bytes\")\n",
    "print(\"Size of list =\", list_ex.__sizeof__(), \"bytes\")\n",
    "\n",
    "\n"
   ]
  },
  {
   "cell_type": "code",
   "execution_count": null,
   "metadata": {},
   "outputs": [],
   "source": [
    "#Less Memory example\n",
    "tuple_ex = (2, 4, 2, 'Data')\n",
    "list_ex = [2, 4, 2, 'Data']\n",
    "print(\"Size of tuple =\", tuple_ex.__sizeof__(), \"bytes\")\n",
    "print(\"Size of list =\", list_ex.__sizeof__(), \"bytes\")\n",
    "\n",
    "\n"
   ]
  },
  {
   "cell_type": "code",
   "execution_count": null,
   "metadata": {},
   "outputs": [],
   "source": []
  },
  {
   "cell_type": "markdown",
   "metadata": {},
   "source": [
    "***Tuples verus Lists:*** By understanding the differences between lists and tuples, you can make an informed decision about which data structure to use based on your specific needs. Tuples are the better choice when memory efficiency and faster access are priorities, while lists are ideal for scenarios requiring flexibility and dynamic modifications."
   ]
  },
  {
   "cell_type": "code",
   "execution_count": 11,
   "metadata": {},
   "outputs": [
    {
     "name": "stdout",
     "output_type": "stream",
     "text": [
      "Is tuple_copy same as tuple_ex? True\n",
      "Is list_copy same as list_ex? False\n"
     ]
    }
   ],
   "source": [
    "#Examples showing a tuples are not copied, while lists can be copied\n",
    "tuple_cpy = tuple(tuple_ex)\n",
    "print(\"Is tuple_copy same as tuple_ex?\", tuple_ex is tuple_cpy)\n",
    "list_cpy = list(list_ex)\n",
    "print(\"Is list_copy same as list_ex?\",list_ex is list_cpy)"
   ]
  },
  {
   "cell_type": "markdown",
   "metadata": {},
   "source": [
    "## Practice"
   ]
  },
  {
   "cell_type": "code",
   "execution_count": 34,
   "metadata": {},
   "outputs": [
    {
     "name": "stdout",
     "output_type": "stream",
     "text": [
      "[23, 37, 70, 94, 40, 5, 0, 45, 75, 30, 36, 25, 2, 88, 68, 15, 10, 97, 18, 90, 36, 95, 46, 26, 68, 48, 33, 60, 1, 7, 74, 75, 33, 24, 92, 90, 84, 30, 76, 13, 45, 32, 46, 0, 37, 92, 39, 12, 70, 36, 8, 5, 75, 90, 57, 61, 60, 31, 84, 62, 7, 25, 65, 88, 49, 72, 73, 69, 22, 87, 0, 53, 78, 25, 65, 85, 94, 72, 5, 59, 19, 16, 27, 55, 32, 60, 63, 62, 3, 69, 48, 62, 78, 87, 81, 47, 49, 75, 8, 12, 92, 44, 34, 66]\n",
      "49.06730769230769\n"
     ]
    }
   ],
   "source": [
    "#Make a list of 100 random integers between 0 and 100\n",
    "import random\n",
    "\n",
    "random_nums=[random.randint(0,100)  for x in range(100)]\n",
    "\n",
    "\n",
    "\n",
    "\n",
    "#Add [44, 34, 66] to the list\n",
    "random_nums+=[44,34,66]\n",
    "\n",
    "\n",
    "\n",
    "#Insert a 75 ad index 8\n",
    "random_nums.insert(8,75)\n",
    "print(random_nums)\n",
    "\n",
    "\n",
    "#Double the elements in the list (concatenate it onto itself)\n",
    "random_nums+=random_nums\n",
    "\n",
    "\n",
    "#count the number of elements greater than 50\n",
    "len([i  for i in random_nums if i>50])\n",
    "\n",
    "\n",
    "#Print out the average of the list\n",
    "print(sum(random_nums)/len(random_nums))\n",
    "\n",
    "\n",
    "#What is the difference between list object methods and functions that take in lists??  Use the sum function and list count method as an example.\n",
    "\n"
   ]
  },
  {
   "cell_type": "markdown",
   "metadata": {},
   "source": [
    "# **Dictionaries**\n",
    "\n",
    "A dictionary in Python consists of **key-value pairs**, where the keys and values are Python objects. The keys must be immutable types (e.g., strings, integers, tuples), while the values can be of any type. For example, a list can be a value but cannot serve as a key, as lists are mutable.\n",
    "\n",
    "A dictionary can be defined using curly braces `{}` or the `dict()` function, with colons `:` separating keys and values and commas `,` separating key-value pairs:\n"
   ]
  },
  {
   "cell_type": "code",
   "execution_count": 5,
   "metadata": {},
   "outputs": [],
   "source": [
    "student_grades = {\n",
    "    \"Sophie\": 85,\n",
    "    \"GiGi\": 92,\n",
    "    \"Lucy\": 78,\n",
    "    \"Tilly\": 95,\n",
    "    \"Buddy\": 88\n",
    "}\n",
    "\n"
   ]
  },
  {
   "cell_type": "markdown",
   "metadata": {},
   "source": [
    "You can retrieve a value from the dictionary using its key.  "
   ]
  },
  {
   "cell_type": "code",
   "execution_count": 7,
   "metadata": {},
   "outputs": [
    {
     "name": "stdout",
     "output_type": "stream",
     "text": [
      "88\n"
     ]
    }
   ],
   "source": [
    "print(student_grades[\"Buddy\"])"
   ]
  },
  {
   "cell_type": "code",
   "execution_count": 9,
   "metadata": {},
   "outputs": [
    {
     "name": "stdout",
     "output_type": "stream",
     "text": [
      "Keyshawn's subject: Math\n",
      "Keyshawn's grade: 85\n",
      "Keyshawn's letter grade: A\n"
     ]
    }
   ],
   "source": [
    "# Linking a string to multiple values using a tuple\n",
    "student_info = {\n",
    "    'Keyshawn': ('Math', 85, 'A'),\n",
    "    'Jing': ('Science', 92, 'A'),\n",
    "    'Darrel': ('History', 78, 'B'),\n",
    "    #'Kelsey': ('Data Analytic', 'A', 100)  User error\n",
    "}\n",
    "\n",
    "# Accessing the linked values\n",
    "print(\"Keyshawn's subject:\", student_info['Keyshawn'][0]) \n",
    "print(\"Keyshawn's grade:\", student_info['Keyshawn'][1])  \n",
    "print(\"Keyshawn's letter grade:\", student_info['Keyshawn'][2]) "
   ]
  },
  {
   "cell_type": "markdown",
   "metadata": {},
   "source": [
    "### Adding and Removing Elements in a Dictionary\n",
    "\n",
    "* ***Adding Elements:*** New elements can be added to a dictionary by assigning a value to a new key:\n",
    "\n",
    "* ***Removing Elements:***\n",
    "You can remove elements from a dictionary using either the `del` statement or the `pop()` method:"
   ]
  },
  {
   "cell_type": "code",
   "execution_count": 38,
   "metadata": {},
   "outputs": [
    {
     "name": "stdout",
     "output_type": "stream",
     "text": [
      "{'Sophie': 85, 'GiGi': 92, 'Lucy': 78, 'Tilly': 95, 'Buddy': 88, 'Ollie': 99, 'Test Student': 'nothing'}\n"
     ]
    }
   ],
   "source": [
    "student_grades[\"Ollie\"]=99\n",
    "student_grades[\"Test Student\"]=\"nothing\"   #notice that this work but the types are different for the value in the dictionary.\n",
    "print(student_grades)\n"
   ]
  },
  {
   "cell_type": "code",
   "execution_count": 40,
   "metadata": {},
   "outputs": [],
   "source": [
    "del student_grades['Test Student']\n"
   ]
  },
  {
   "cell_type": "code",
   "execution_count": 42,
   "metadata": {},
   "outputs": [
    {
     "name": "stdout",
     "output_type": "stream",
     "text": [
      "{'Sophie': 85, 'GiGi': 92, 'Lucy': 78, 'Tilly': 95, 'Buddy': 88, 'Ollie': 99}\n"
     ]
    }
   ],
   "source": [
    "print(student_grades)"
   ]
  },
  {
   "cell_type": "code",
   "execution_count": 40,
   "metadata": {},
   "outputs": [],
   "source": [
    "# Remove element with \"Buddy\" and return it as a variable\n",
    "dog= student_grades.pop(\"Buddy\")"
   ]
  },
  {
   "cell_type": "code",
   "execution_count": 42,
   "metadata": {},
   "outputs": [
    {
     "name": "stdout",
     "output_type": "stream",
     "text": [
      "88\n"
     ]
    }
   ],
   "source": [
    "print(dog)"
   ]
  },
  {
   "cell_type": "code",
   "execution_count": 46,
   "metadata": {},
   "outputs": [
    {
     "name": "stdout",
     "output_type": "stream",
     "text": [
      "{'Sophie': 85, 'GiGi': 92, 'Lucy': 78, 'Tilly': 100, 'Ollie': 99}\n"
     ]
    }
   ],
   "source": [
    "# You can update values using update\n",
    "\n",
    "student_grades.update({\"Tilly\":100})   #careful with the syntax\n",
    "print(student_grades)"
   ]
  },
  {
   "cell_type": "code",
   "execution_count": 13,
   "metadata": {},
   "outputs": [
    {
     "name": "stdout",
     "output_type": "stream",
     "text": [
      "Sophie had a final grade of 85\n",
      "Sophie\n",
      "GiGi had a final grade of 92\n",
      "GiGi\n",
      "Lucy had a final grade of 78\n",
      "Lucy\n",
      "Tilly had a final grade of 95\n",
      "Tilly\n",
      "Buddy had a final grade of 88\n",
      "Buddy\n",
      "{'Sophie': 85, 'GiGi': 92, 'Lucy': 78, 'Tilly': 95, 'Buddy': 88}\n",
      "Sophie is there\n"
     ]
    }
   ],
   "source": [
    "###  Iterating over a dictionary\n",
    "for key, value in student_grades.items():\n",
    "    print(f\"{key} had a final grade of {value}\")\n",
    "    print(f\"{key}\")\n",
    "print(f\"{student_grades}\")\n",
    "\n",
    "\n",
    "#Checking if a key is in the dictionary\n",
    "if \"Sophie\" in student_grades:\n",
    "    print(\"Sophie is there\")"
   ]
  },
  {
   "cell_type": "markdown",
   "metadata": {},
   "source": [
    "### Practice Exercise\n",
    "\n",
    "We'll go back to our GDP example!   Now, in the cell below creates a dictionary representing the The GDP per capita of USA for most years from 1960 to 2021.\n",
    "\n",
    "In the cell below do the following:\n",
    "   1.  Print the GDP per capita in 2015\n",
    "   2.  The year 2014 is missing from the dataset.   The GDP for that year is the average of 2013 and 2015.\n",
    "   3.  There are other missing years, but no consecutive missing years.  Please find the missing years and use the average to insert the new years."
   ]
  },
  {
   "cell_type": "code",
   "execution_count": 39,
   "metadata": {},
   "outputs": [],
   "source": [
    "dict_GDP = {'1960':3007,'1961':3067,'1962':3244,'1963':3375,'1964':3574,'1965':3828,'1966':4146,'1967':4336,'1968':4696,'1970':5234,'1971':5609,'1972':6094,'1973':6726,'1974':7226,'1975':7801,'1976':8592,'1978':10565,'1979':11674, '1980':12575,'1981':13976,'1982':14434,'1983':15544,'1984':17121,'1985':18237,  '1986':19071,'1987':20039,'1988':21417,'1989':22857,'1990':23889,'1991':24342,  '1992':25419,'1993':26387,'1994':27695,'1995':28691,'1996':29968,'1997':31459,  '1998':32854,'2000':36330,'2001':37134,'2002':37998,'2003':39490,'2004':41725,  '2005':44123,'2006':46302,'2007':48050,'2008':48570,'2009':47195,'2010':48651,  '2011':50066,'2012':51784,'2013':53291,'2015':56763,'2016':57867,'2017':59915,'2018':62805, '2019':65095,'2020':63028,'2021':69288}"
   ]
  },
  {
   "cell_type": "code",
   "execution_count": 41,
   "metadata": {},
   "outputs": [
    {
     "name": "stdout",
     "output_type": "stream",
     "text": [
      "56763\n",
      "55027.0\n",
      "1969 not in the dictionary\n",
      "1977 not in the dictionary\n",
      "1999 not in the dictionary\n",
      "19157\n"
     ]
    }
   ],
   "source": [
    "#notice that the years are strings...\n",
    "#1\n",
    "print(dict_GDP['2015'])\n",
    "\n",
    "\n",
    "#2 \n",
    "dict_GDP['2014']=(dict_GDP['2013'] + dict_GDP['2015'])/2\n",
    "print(dict_GDP['2014'])\n",
    "\n",
    "#3\n",
    "for year in range(1960,2022):\n",
    "    if str(year) not in dict_GDP:\n",
    "        print(f\"{year} not in the dictionary\")\n",
    "        dict_GDP[str(year)]=dict_GDP[str(year-1)]+dict_GDP[str(year+1)]\n",
    "\n",
    "print(dict_GDP['1977'])\n",
    "\n"
   ]
  },
  {
   "cell_type": "code",
   "execution_count": 51,
   "metadata": {},
   "outputs": [
    {
     "name": "stdout",
     "output_type": "stream",
     "text": [
      "[(2, 'spades'), (3, 'spades'), (4, 'spades'), (5, 'spades'), (6, 'spades'), (7, 'spades'), (8, 'spades'), (9, 'spades'), (10, 'spades'), (11, 'spades'), (12, 'spades'), (13, 'spades'), (14, 'spades'), (2, 'clubs'), (3, 'clubs'), (4, 'clubs'), (5, 'clubs'), (6, 'clubs'), (7, 'clubs'), (8, 'clubs'), (9, 'clubs'), (10, 'clubs'), (11, 'clubs'), (12, 'clubs'), (13, 'clubs'), (14, 'clubs'), (2, 'hearts'), (3, 'hearts'), (4, 'hearts'), (5, 'hearts'), (6, 'hearts'), (7, 'hearts'), (8, 'hearts'), (9, 'hearts'), (10, 'hearts'), (11, 'hearts'), (12, 'hearts'), (13, 'hearts'), (14, 'hearts'), (2, 'diamonds'), (3, 'diamonds'), (4, 'diamonds'), (5, 'diamonds'), (6, 'diamonds'), (7, 'diamonds'), (8, 'diamonds'), (9, 'diamonds'), (10, 'diamonds'), (11, 'diamonds'), (12, 'diamonds'), (13, 'diamonds'), (14, 'diamonds')]\n",
      "[{'value': 2, 'suit': 'spades'}, {'value': 3, 'suit': 'spades'}, {'value': 4, 'suit': 'spades'}, {'value': 5, 'suit': 'spades'}, {'value': 6, 'suit': 'spades'}, {'value': 7, 'suit': 'spades'}, {'value': 8, 'suit': 'spades'}, {'value': 9, 'suit': 'spades'}, {'value': 10, 'suit': 'spades'}, {'value': 11, 'suit': 'spades'}, {'value': 12, 'suit': 'spades'}, {'value': 13, 'suit': 'spades'}, {'value': 14, 'suit': 'spades'}, {'value': 2, 'suit': 'clubs'}, {'value': 3, 'suit': 'clubs'}, {'value': 4, 'suit': 'clubs'}, {'value': 5, 'suit': 'clubs'}, {'value': 6, 'suit': 'clubs'}, {'value': 7, 'suit': 'clubs'}, {'value': 8, 'suit': 'clubs'}, {'value': 9, 'suit': 'clubs'}, {'value': 10, 'suit': 'clubs'}, {'value': 11, 'suit': 'clubs'}, {'value': 12, 'suit': 'clubs'}, {'value': 13, 'suit': 'clubs'}, {'value': 14, 'suit': 'clubs'}, {'value': 2, 'suit': 'hearts'}, {'value': 3, 'suit': 'hearts'}, {'value': 4, 'suit': 'hearts'}, {'value': 5, 'suit': 'hearts'}, {'value': 6, 'suit': 'hearts'}, {'value': 7, 'suit': 'hearts'}, {'value': 8, 'suit': 'hearts'}, {'value': 9, 'suit': 'hearts'}, {'value': 10, 'suit': 'hearts'}, {'value': 11, 'suit': 'hearts'}, {'value': 12, 'suit': 'hearts'}, {'value': 13, 'suit': 'hearts'}, {'value': 14, 'suit': 'hearts'}, {'value': 2, 'suit': 'diamonds'}, {'value': 3, 'suit': 'diamonds'}, {'value': 4, 'suit': 'diamonds'}, {'value': 5, 'suit': 'diamonds'}, {'value': 6, 'suit': 'diamonds'}, {'value': 7, 'suit': 'diamonds'}, {'value': 8, 'suit': 'diamonds'}, {'value': 9, 'suit': 'diamonds'}, {'value': 10, 'suit': 'diamonds'}, {'value': 11, 'suit': 'diamonds'}, {'value': 12, 'suit': 'diamonds'}, {'value': 13, 'suit': 'diamonds'}, {'value': 14, 'suit': 'diamonds'}]\n",
      "2 spades\n",
      "2 spades\n"
     ]
    }
   ],
   "source": [
    "#Putting it all together...\n",
    "\n",
    "#What would be the best way to model a deck of cards?   Maybe a list of tuples?\n",
    "\n",
    "deck = [(i, c) for c in ['spades', 'clubs', 'hearts', 'diamonds']  for i in range(2,15)]\n",
    "print(deck)\n",
    "\n",
    "\n",
    "# You could also make it list of  dictionaries with strings to grab the \"suit\" \"value\" at any time\n",
    "deck2 = [{\"value\":i, \"suit\":c} for c in ['spades', 'clubs', 'hearts', 'diamonds']  for i in range(2,15)]\n",
    "print(deck2)\n",
    "\n",
    "#Discuss advantages of both methods\n",
    "\n",
    "#printing one card\n",
    "print(deck[0][0], deck[0][1])\n",
    "\n",
    "\n",
    "print(deck2[0]['value'], deck2[0]['suit'])\n",
    "\n"
   ]
  },
  {
   "cell_type": "markdown",
   "metadata": {},
   "source": [
    "### Pratice Exercise\n",
    "To represent Chick-fil-A's nutritional information in a Python dictionary, you can structure it with menu items as keys and their corresponding nutritional details as values (also stored as a dictionary). Here's an example:"
   ]
  },
  {
   "cell_type": "code",
   "execution_count": 45,
   "metadata": {},
   "outputs": [
    {
     "name": "stdout",
     "output_type": "stream",
     "text": [
      "<class 'dict'>\n"
     ]
    }
   ],
   "source": [
    "chickfila_nutrition = {\n",
    "    'Chick-fil-A Filet': {\n",
    "        'Calories': 260,\n",
    "        'Fat': 12,\n",
    "        'Carbs': 13,\n",
    "        'Protein': 25\n",
    "    },\n",
    "    'Chicken Sandwich': {\n",
    "        'Calories': 440,\n",
    "        'Fat': 19,\n",
    "        'Carbs': 40,\n",
    "        'Protein': 28\n",
    "    },\n",
    "    'Grilled Chicken Sandwich': {\n",
    "        'Calories': 320,\n",
    "        'Fat': 6,\n",
    "        'Carbs': 39,\n",
    "        'Protein': 29\n",
    "    },\n",
    "    'Chicken Nuggets (8-count)': {\n",
    "        'Calories': 250,\n",
    "        'Fat': 12,\n",
    "        'Carbs': 11,\n",
    "        'Protein': 14\n",
    "    },\n",
    "    'Grilled Chicken Nuggets (8-count)': {\n",
    "        'Calories': 140,\n",
    "        'Fat': 3,\n",
    "        'Carbs': 2,\n",
    "        'Protein': 26\n",
    "    },\n",
    "    'Waffle Potato Fries (Medium)': {\n",
    "        'Calories': 400,\n",
    "        'Fat': 24,\n",
    "        'Carbs': 45,\n",
    "        'Protein': 5\n",
    "    },\n",
    "    'Side Salad': {\n",
    "        'Calories': 80,\n",
    "        'Fat': 5,\n",
    "        'Carbs': 7,\n",
    "        'Protein': 2\n",
    "    },\n",
    "    'Icedream Cone': {\n",
    "        'Calories': 200,\n",
    "        'Fat': 7,\n",
    "        'Carbs': 31,\n",
    "        'Protein': 4\n",
    "    }\n",
    "}\n",
    "\n",
    "print(type(chickfila_nutrition))\n"
   ]
  },
  {
   "cell_type": "code",
   "execution_count": 53,
   "metadata": {},
   "outputs": [
    {
     "name": "stdout",
     "output_type": "stream",
     "text": [
      "{'Calories': 80, 'Fat': 5, 'Carbs': 7, 'Protein': 2}\n",
      "80\n",
      "29 Grilled Chicken Sandwich\n",
      "{'Chick-fil-A Filet': 25, 'Chicken Sandwich': 28, 'Grilled Chicken Sandwich': 29, 'Chicken Nuggets (8-count)': 14, 'Grilled Chicken Nuggets (8-count)': 26, 'Waffle Potato Fries (Medium)': 5, 'Side Salad': 2, 'Icedream Cone': 4}\n",
      "Using max on the values: 29\n",
      "['Grilled Chicken Sandwich']\n"
     ]
    }
   ],
   "source": [
    "#Print out the number of calories in a 'Side Salad'\n",
    "print(chickfila_nutrition['Side Salad'])\n",
    "\n",
    "print(chickfila_nutrition['Side Salad']['Calories'])\n",
    "\n",
    "\n",
    "highest_protein=0\n",
    "highest_item=\"\"\n",
    "#Find and printout the food with the highest protein.\n",
    "#val is a dictionary\n",
    "for key, val in chickfila_nutrition.items():\n",
    "   #print(val['Protein'])  #just print out the protein\n",
    "\n",
    "   if (val['Protein']>highest_protein):\n",
    "       highest_protein=val['Protein']\n",
    "       highest_item=key\n",
    "\n",
    "print(highest_protein,highest_item)\n",
    "\n",
    "\n",
    "#you could also create a new dictionary that stores only the item and the protien value then grab the max of the values\n",
    "\n",
    "protein_only={}\n",
    "for key, val in chickfila_nutrition.items():\n",
    "    protein_only[key]=val['Protein']\n",
    "      \n",
    "print(protein_only)\n",
    "print(\"Using max on the values:\", max(protein_only.values()))\n",
    "print([key for key, val in chickfila_nutrition.items() if val['Protein']==max(protein_only.values())])\n",
    "\n",
    "#the second version is probably better because it will identify if there are mutilple items with a maximum value\n",
    "#However, I really should be careful when I'm calling a function like max more than once.  It would probaby be better to \n",
    "#store the value in an intermediate variable so that the value function is only executed once, making my code more efficient.\n",
    "\n",
    "print([i for i in range(2:45:3) ])\n",
    "\n",
    "\n",
    "\n"
   ]
  },
  {
   "cell_type": "markdown",
   "metadata": {},
   "source": [
    "***Practice*** Which menu items have a fat content of less or equal to 10?"
   ]
  },
  {
   "cell_type": "code",
   "execution_count": null,
   "metadata": {},
   "outputs": [],
   "source": []
  }
 ],
 "metadata": {
  "kernelspec": {
   "display_name": "Python [conda env:base] *",
   "language": "python",
   "name": "conda-base-py"
  },
  "language_info": {
   "codemirror_mode": {
    "name": "ipython",
    "version": 3
   },
   "file_extension": ".py",
   "mimetype": "text/x-python",
   "name": "python",
   "nbconvert_exporter": "python",
   "pygments_lexer": "ipython3",
   "version": "3.12.7"
  }
 },
 "nbformat": 4,
 "nbformat_minor": 4
}
