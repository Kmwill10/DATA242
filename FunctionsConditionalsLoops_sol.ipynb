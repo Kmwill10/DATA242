{
 "cells": [
  {
   "cell_type": "markdown",
   "id": "58febfd4-8ed4-481b-80ff-fde2470f7d3f",
   "metadata": {},
   "source": [
    "##  Functions in Python\n",
    "\n",
    " ![](https://www.scientecheasy.com/wp-content/uploads/2022/11/python-function-definition.png)\n",
    "\n",
    "\n",
    " Let's look at an example and not be afraid to code up some math:).   Car loans are generally amortizing loans.  The principal is paid down or amoritized over the lifetime in the loan.  Here's a good formula for calculating the payment.\n",
    "\n",
    "![](https://d3f7q2msm2165u.cloudfront.net/aaa-content/user/files/Math/Screen%20Shot%202020-09-20%20at%203.24.15%20PM.png)\n",
    "\n",
    "Here's an xample function with multiple parameters and a default parameter.  If nothing is passed to down_payment it will be initialized to 0.  \n"
   ]
  },
  {
   "cell_type": "code",
   "execution_count": 15,
   "id": "00578db9-faa0-4602-b4e7-68cebafefdf9",
   "metadata": {},
   "outputs": [
    {
     "name": "stdout",
     "output_type": "stream",
     "text": [
      "2140.1870447116867\n",
      "645.3437438767515\n"
     ]
    }
   ],
   "source": [
    "#Calculating a monthly car loan is a amortizing loan.  The principal is paid down or \n",
    "# amoritized over the lifetime in the loan\n",
    "\n",
    "\n",
    "def loan_monthlyPay(amount, num_months, rate_perYear, down_payment=0):\n",
    "    rate=rate_perYear/12    #monthly percentage rate\n",
    "    loan_amount = amount - down_payment\n",
    "    payment = loan_amount * rate * ((1 + rate) ** num_months) / (((1 + rate) ** num_months) - 1)\n",
    "    return payment\n",
    "\n",
    "print(loan_monthlyPay(30000, 12, .05, 5000))\n",
    "print(loan_monthlyPay(20000,36, .10))\n"
   ]
  },
  {
   "cell_type": "markdown",
   "id": "c198a62d-2210-4cb3-9371-c872a31a704d",
   "metadata": {},
   "source": [
    "## Special Symbols for Variable Arguments\n",
    "\n",
    "In Python, functions can accept a variable number of arguments using special symbols. These include:\n",
    "\n",
    "* *args (Non-Keyword Arguments)\n",
    "* **kwargs (Keyword Arguments)  (I'm not giving you an example now but you can google it if you are interested.  We might use this when we talk more about dictionaries.)\n",
    "\n",
    "Note: Use *args or **kwargs when unsure about the number of arguments to pass to a function."
   ]
  },
  {
   "cell_type": "code",
   "execution_count": 24,
   "id": "a6b8afdc-0f96-4655-9357-c1f567948637",
   "metadata": {},
   "outputs": [
    {
     "name": "stdout",
     "output_type": "stream",
     "text": [
      "Hi DATA242\n",
      "2025\n",
      "Data Analytics\n"
     ]
    }
   ],
   "source": [
    "def fun(*args):\n",
    "    for ar in args:\n",
    "        print(ar)\n",
    "\n",
    "    \n",
    "# Example of using both *args\n",
    "fun('Hi DATA242', 2025, 'Data Analytics')\n",
    "\n"
   ]
  },
  {
   "cell_type": "markdown",
   "id": "57841c53-3702-486d-9278-8d2ac83f67f4",
   "metadata": {},
   "source": [
    "# Branching and Looping (Control Flow)\n",
    "Python offers built-in keywords for managing the conditional flow of code.\n",
    "\n",
    "## Brief Review of branching with if, else, and elif\n",
    "\n",
    "Branching allows you to make decisions in your code, executing different blocks of statements based on whether certain conditions are met.\n",
    "\n",
    "### The if Statement\n",
    "The if statement evaluates a condition and executes the indented block of code beneath it if the condition is True.\n"
   ]
  },
  {
   "cell_type": "code",
   "execution_count": 34,
   "id": "428d07b4-f91b-412b-a4d1-b9cfc57dca0e",
   "metadata": {},
   "outputs": [
    {
     "name": "stdout",
     "output_type": "stream",
     "text": [
      "We're inside an if block\n",
      "\"year\" is odd.\n"
     ]
    }
   ],
   "source": [
    "year = 2025\n",
    "\n",
    "if year % 2 == 1:\n",
    "    print(\"We're inside an if block\")\n",
    "    print('\"year\" is odd.')"
   ]
  },
  {
   "cell_type": "markdown",
   "id": "33b4c10e-43bd-4a2e-968b-eb6e568fba2c",
   "metadata": {},
   "source": [
    "### The else Statement\n",
    "The else statement executes a block of code if the if condition evaluates to False."
   ]
  },
  {
   "cell_type": "code",
   "execution_count": 44,
   "id": "50684992-5fbb-4d13-a7e0-c953e22aceda",
   "metadata": {},
   "outputs": [
    {
     "name": "stdin",
     "output_type": "stream",
     "text": [
      "Enter year: 2024\n"
     ]
    },
    {
     "name": "stdout",
     "output_type": "stream",
     "text": [
      "It's an even year.\n"
     ]
    }
   ],
   "source": [
    "year = int(input(\"Enter year:\"))  # remember the type conversion for input\n",
    "if year % 2 == 0: \n",
    "    print(\"It's an even year.\")\n",
    "else:\n",
    "    print(\"It's an odd year.\")\n"
   ]
  },
  {
   "cell_type": "markdown",
   "id": "a5077414-bfba-4e0e-bab7-9487383d2b9a",
   "metadata": {},
   "source": [
    "### The elif Statement\n",
    "The elif (short for \"else if\") statement checks additional conditions if the preceding ones are False. Only the first True condition executes."
   ]
  },
  {
   "cell_type": "code",
   "execution_count": 95,
   "id": "c7987dbe-6288-448d-b880-1f6ed4cbbd47",
   "metadata": {},
   "outputs": [
    {
     "name": "stdout",
     "output_type": "stream",
     "text": [
      "It's hump day.\n"
     ]
    }
   ],
   "source": [
    "today = 'Wednesday'\n",
    "\n",
    "if today == 'Saturday':\n",
    "    print(\"Sleep all day!\")\n",
    "elif today == 'Wednesday':\n",
    "    print(\"It's hump day.\")\n",
    "elif today == 'Friday':\n",
    "    print(\"TGIF!\")\n",
    "else:\n",
    "    print(\"It's another day.\")"
   ]
  },
  {
   "cell_type": "markdown",
   "id": "4d257fb8-4a49-4c74-8437-db5b761c276e",
   "metadata": {},
   "source": [
    "### Non-Boolean Conditions\n",
    "\n",
    "Conditions don’t have to be explicitly True or False. Any value is automatically converted to a Boolean when evaluated.\n",
    "\n",
    " * False values: False, 0, None, \"\", [], (), {}, set(), range(0)\n",
    " * Truth values: Everything else"
   ]
  },
  {
   "cell_type": "code",
   "execution_count": 51,
   "id": "afeaffef-a76c-4d6c-8dad-39d47f29e82c",
   "metadata": {},
   "outputs": [
    {
     "name": "stdout",
     "output_type": "stream",
     "text": [
      "The condition is False\n",
      "The condition is True\n"
     ]
    }
   ],
   "source": [
    "if '':\n",
    "    print('The condition is True')\n",
    "else:\n",
    "    print('The condition is False')\n",
    "\n",
    "if 'Hello':\n",
    "    print('The condition is True')\n",
    "else:\n",
    "    print('The condition is False')"
   ]
  },
  {
   "cell_type": "markdown",
   "id": "6e5a0c16-dbaf-40dd-b30b-6e48c57d66d9",
   "metadata": {},
   "source": [
    "### Nested Conditional Statements\n",
    "\n",
    "You can place an if statement inside another if or else block."
   ]
  },
  {
   "cell_type": "code",
   "execution_count": 79,
   "id": "1057b1b0-68c9-4697-b507-a0a63fcdf79f",
   "metadata": {},
   "outputs": [],
   "source": [
    "num = 15\n",
    "\n",
    "if num % 2 == 0:\n",
    "    print(\"num is even\")\n",
    "    if num % 3 == 0:\n",
    "        print(\"num is also divisible by 3.\")\n",
    "    else:\n",
    "        print(\"num is not divisible by 3.\")\n",
    "else:\n",
    "    print(\"num is odd\")\n",
    "    if num % 5 == 0:\n",
    "        print(\"num is also divisible by 5.\")\n",
    "    else:\n",
    "        print(\"num is not divisible by 5.\")\n",
    "\n",
    "# Note that the logic on this is way off?  Be careful with nested loops and be sure that all of your options are captured"
   ]
  },
  {
   "cell_type": "markdown",
   "id": "9f858275-1686-4ecf-862a-f6cf8d692bb8",
   "metadata": {},
   "source": [
    "## Iteration and Looping\n",
    "An essential feature of programming, closely related to branching, is the ability to execute a set of statements multiple times. This feature, known as iteration or looping, is implemented in Python using two primary loop structures:\n",
    "\n",
    "* while loops\n",
    "* for loops"
   ]
  },
  {
   "cell_type": "markdown",
   "id": "5dfd6bb8-1889-41d5-82ee-3eb9dcbd9e6f",
   "metadata": {},
   "source": [
    "### while Loops\n",
    "\n",
    "The while loop repeats a block of code as long as a specified condition evaluates to True.\n"
   ]
  },
  {
   "cell_type": "code",
   "execution_count": 56,
   "id": "2a89a1f9-3446-4a75-a362-750511bac6df",
   "metadata": {},
   "outputs": [
    {
     "name": "stdout",
     "output_type": "stream",
     "text": [
      "The factorial of 10 is: 3628800\n"
     ]
    }
   ],
   "source": [
    "result = 1\n",
    "i = 1\n",
    "\n",
    "while i <= 10:\n",
    "    result *= i\n",
    "    i += 1\n",
    "\n",
    "print('The factorial of 10 is:', result)\n"
   ]
  },
  {
   "cell_type": "code",
   "execution_count": 97,
   "id": "cb4bca7d-38a0-4cd6-8b93-32d80653dab4",
   "metadata": {},
   "outputs": [
    {
     "ename": "KeyboardInterrupt",
     "evalue": "",
     "output_type": "error",
     "traceback": [
      "\u001b[0;31m---------------------------------------------------------------------------\u001b[0m",
      "\u001b[0;31mKeyboardInterrupt\u001b[0m                         Traceback (most recent call last)",
      "Cell \u001b[0;32mIn[97], line 5\u001b[0m\n\u001b[1;32m      2\u001b[0m result \u001b[38;5;241m=\u001b[39m \u001b[38;5;241m1\u001b[39m\n\u001b[1;32m      3\u001b[0m i \u001b[38;5;241m=\u001b[39m \u001b[38;5;241m1\u001b[39m\n\u001b[0;32m----> 5\u001b[0m \u001b[38;5;28;01mwhile\u001b[39;00m i \u001b[38;5;241m<\u001b[39m\u001b[38;5;241m=\u001b[39m \u001b[38;5;241m100\u001b[39m:\n\u001b[1;32m      6\u001b[0m     result \u001b[38;5;241m*\u001b[39m\u001b[38;5;241m=\u001b[39m i\n\u001b[1;32m      7\u001b[0m     \u001b[38;5;66;03m# i is not incremented, causing an infinite loop\u001b[39;00m\n\u001b[1;32m      8\u001b[0m \n\u001b[1;32m      9\u001b[0m \u001b[38;5;66;03m# Incorrect condition\u001b[39;00m\n",
      "\u001b[0;31mKeyboardInterrupt\u001b[0m: "
     ]
    }
   ],
   "source": [
    "# Forgetting to update i\n",
    "result = 1\n",
    "i = 1\n",
    "\n",
    "while i <= 100:\n",
    "    result *= i\n",
    "    # i is not incremented, causing an infinite loop\n",
    "\n",
    "# Incorrect condition\n",
    "while i > 0:  # This condition is always True\n",
    "    result *= i\n",
    "    i += 1\n",
    "\n",
    "#If your code gets stuck in an infinite loop, interrupt its execution by pressing the \"Stop\" button in your IDE or selecting \"Kernel > Interrupt.\""
   ]
  },
  {
   "cell_type": "markdown",
   "id": "967de259-f7c2-4843-ae80-35c92a958ae1",
   "metadata": {},
   "source": [
    "## break and continue\n",
    "* break: Exits the loop immediately, regardless of the loop's condition.\n",
    "* continue: Skips the current iteration and moves to the next one."
   ]
  },
  {
   "cell_type": "code",
   "execution_count": 61,
   "id": "22a85b1d-8558-4ca9-bad3-c583dee96f19",
   "metadata": {},
   "outputs": [
    {
     "name": "stdout",
     "output_type": "stream",
     "text": [
      "Magic number 23 reached! Stopping execution...\n",
      "i: 23 result: 25852016738884976640000\n"
     ]
    }
   ],
   "source": [
    "i = 1\n",
    "result = 1\n",
    "\n",
    "while i <= 100:\n",
    "    result *= i\n",
    "    if i == 23:\n",
    "        print('Magic number 23 reached! Stopping execution...')\n",
    "        break\n",
    "    i += 1\n",
    "\n",
    "print(\"i:\", i, \"result:\", result)"
   ]
  },
  {
   "cell_type": "code",
   "execution_count": 65,
   "id": "241adf7e-e4bc-472b-9f5c-92b108b9238d",
   "metadata": {},
   "outputs": [
    {
     "name": "stdout",
     "output_type": "stream",
     "text": [
      "Skipping: 2\n",
      "Multiplying with i 3\n",
      "Skipping: 4\n",
      "Multiplying with i 5\n",
      "Skipping: 6\n",
      "Multiplying with i 7\n",
      "Skipping: 8\n",
      "result:  105\n"
     ]
    }
   ],
   "source": [
    "i = 1\n",
    "result = 1\n",
    "\n",
    "while i < 8:\n",
    "    i += 1\n",
    "    if i % 2 == 0:\n",
    "        print(\"Skipping:\", i)\n",
    "        continue     #notice how continue works...this is very important!!\n",
    "    print('Multiplying with i', i)\n",
    "    result *= i\n",
    "\n",
    "print(\"result: \", result)"
   ]
  },
  {
   "cell_type": "markdown",
   "id": "cb58b6b4-a267-4d81-8535-359c8793cfdf",
   "metadata": {},
   "source": [
    "## for Loop\n",
    "A for loop iterates over a sequence such as a list, tuple, dictionary, string, or range."
   ]
  },
  {
   "cell_type": "code",
   "execution_count": 93,
   "id": "6fad93b6-983b-4a20-be34-9a9eab49ddca",
   "metadata": {},
   "outputs": [],
   "source": [
    "# Iterating over a list\n",
    "days = ['Monday', 'Tuesday', 'Wednesday', 'Thursday', 'Friday']\n",
    "\n",
    "for day in days:\n",
    "    print(day)"
   ]
  },
  {
   "cell_type": "markdown",
   "id": "f3d31fe4-8423-4b09-b954-dc31f4ef7d6f",
   "metadata": {},
   "source": [
    "### Iterating with range and enumerate\n",
    "\n",
    "The range() function generates a sequence of numbers:\n",
    "\n",
    "* range(n): Sequence from 0 to n-1.\n",
    "* range(a, b): Sequence from a to b-1.\n",
    "* range(a, b, step): Sequence from a to b-1, incremented by step.\n"
   ]
  },
  {
   "cell_type": "code",
   "execution_count": 69,
   "id": "3473a7b7-2fd9-4017-a7a8-864575c2734c",
   "metadata": {},
   "outputs": [
    {
     "name": "stdout",
     "output_type": "stream",
     "text": [
      "3\n",
      "7\n",
      "11\n"
     ]
    }
   ],
   "source": [
    "for i in range(3, 14, 4):\n",
    "    print(i)"
   ]
  },
  {
   "cell_type": "markdown",
   "id": "3f9582fc-98a1-42cf-9df9-ef64cb1ac3ba",
   "metadata": {},
   "source": [
    "## Enumerate\n",
    "\n",
    "The enumerate function adds a counter to an iterable and returns it as an enumerate object (iterator with index and the value).  It's often used in looping."
   ]
  },
  {
   "cell_type": "code",
   "execution_count": 81,
   "id": "22afee24-5528-4f29-8b92-19603ada4280",
   "metadata": {},
   "outputs": [
    {
     "name": "stdout",
     "output_type": "stream",
     "text": [
      "[(0, 'Python'), (1, 'Java'), (2, 'JavaScript')]\n",
      "The history saving thread hit an unexpected error (OperationalError('attempt to write a readonly database')).History will not be written to the database.\n"
     ]
    }
   ],
   "source": [
    "languages = ['Python', 'Java', 'JavaScript']\n",
    "\n",
    "# enumerate the list\n",
    "enumerated_languages = enumerate(languages)\n",
    "\n",
    "# convert enumerate object to list\n",
    "print(list(enumerated_languages))\n",
    "\n",
    "# Output: [(0, 'Python'), (1, 'Java'), (2, 'JavaScript')]\n"
   ]
  },
  {
   "cell_type": "code",
   "execution_count": 101,
   "id": "4550e8e3-94a6-4ac4-a3ef-4b770810dbeb",
   "metadata": {},
   "outputs": [
    {
     "name": "stdout",
     "output_type": "stream",
     "text": [
      "[(0, 'Monday'), (1, 'Tuesday'), (2, 'Wednesday'), (3, 'Thursday'), (4, 'Friday')]\n",
      "The value at position 0 is Monday.\n",
      "The value at position 1 is Tuesday.\n",
      "The value at position 2 is Wednesday.\n",
      "The value at position 3 is Thursday.\n",
      "The value at position 4 is Friday.\n"
     ]
    }
   ],
   "source": [
    "days = ['Monday', 'Tuesday', 'Wednesday', 'Thursday', 'Friday']\n",
    "\n",
    "print(list(enumerate(days)))\n",
    "\n",
    "for i, day in enumerate(days):\n",
    "    print(f'The value at position {i} is {day}.')  # This is another short hand way to print...it begins with f and you put the \n",
    "                                                #values in {}\n"
   ]
  },
  {
   "cell_type": "code",
   "execution_count": 15,
   "id": "eb4d9476-162d-479e-97b2-e374704ad742",
   "metadata": {},
   "outputs": [],
   "source": [
    "# Import the entire library with an alias\n",
    "import numpy as np  \n",
    "\n",
    "# Import specific methods\n",
    "from random import randint  \n",
    "from math import pi  \n",
    "\n",
    "# Import a specific method and rename it\n",
    "from os.path import join as join_path  "
   ]
  },
  {
   "cell_type": "markdown",
   "id": "af2b4846-6cf8-43b3-b5a7-b02bc40dd9ab",
   "metadata": {},
   "source": [
    "##  Extra Practice \n",
    "Write a function that prints prime numbers between two real numbers (a and b) where a and b are the parameters of the function. Call the function and check the output with a = 60, b = 80."
   ]
  },
  {
   "cell_type": "code",
   "execution_count": 133,
   "id": "05872a01-1416-4314-88a8-794b6da79583",
   "metadata": {},
   "outputs": [
    {
     "data": {
      "text/plain": [
       "False"
      ]
     },
     "execution_count": 133,
     "metadata": {},
     "output_type": "execute_result"
    }
   ],
   "source": [
    "\n",
    "def isPrime(n):\n",
    "\n",
    "    for i in range(2,n//2+1):\n",
    "        if n%2==0:\n",
    "            return False\n",
    "    return True\n",
    "\n",
    "isPrime(8)\n",
    "\n",
    "\n",
    "    "
   ]
  },
  {
   "cell_type": "code",
   "execution_count": null,
   "id": "75f181ff-cea8-4816-bee0-640fbca4a543",
   "metadata": {},
   "outputs": [],
   "source": []
  }
 ],
 "metadata": {
  "kernelspec": {
   "display_name": "Python [conda env:base] *",
   "language": "python",
   "name": "conda-base-py"
  },
  "language_info": {
   "codemirror_mode": {
    "name": "ipython",
    "version": 3
   },
   "file_extension": ".py",
   "mimetype": "text/x-python",
   "name": "python",
   "nbconvert_exporter": "python",
   "pygments_lexer": "ipython3",
   "version": "3.12.7"
  }
 },
 "nbformat": 4,
 "nbformat_minor": 5
}
