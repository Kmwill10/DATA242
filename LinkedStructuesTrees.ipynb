{
 "cells": [
  {
   "cell_type": "markdown",
   "id": "5816c7a4-6c1f-458e-b2d9-d1f71bdb0bd6",
   "metadata": {},
   "source": [
    "## Linked Data Structures\n",
    "\n",
    "Linked data structures are data structures where elements (nodes) are stored in separate memory locations and connected through references (or pointers). Unlike arrays, which have contiguous memory allocation, linked structures rely on dynamic memory allocation when each element is added.\n",
    "\n",
    "Linked data structures allow us to store data in interesting ways.  Let's think about this more.  Today we'll talk about how you ca create linked lists and linked trees.\n",
    "\n",
    "### Linked Lists\n",
    "* A linked list is a collection of nodes where each node contains:\n",
    "    - **Data** (the actual value).\n",
    "    - **Pointer** (Reference) to the next node.  A pointer or a reference refers to where the data is stored in memory (so it is a memory address).    \n",
    "\n",
    "* Where have we seen the word reference before?\n",
    "\n",
    "(Here we are going to draw a diagram on the board.)\n",
    "\n",
    "* What do we need to store to create a linked list?\n",
    "    - Node Type\n",
    "    - Head of List\n",
    "      \n",
    "\n",
    "### Types of Linked Lists\n",
    "* Singly Linked List (SLL): Each node points to the next node.\n",
    "* Doubly Linked List (DLL): Each node points to both the next and previous nodes.\n",
    "* Circular Linked List (CLL): The last node points back to the first node.\n",
    "\n",
    "\n",
    "\n",
    "### Let's create our own linked list class.\n",
    "\n",
    " *  Before we do this we need to learn about one thing in Python!  How do we know if something is nothing or null?\n",
    "\n",
    "    - In Python, **None** is a special value that represents the absence of a value or a null value. It is similar to null in other programming languages like Java or c.\n",
    "\n"
   ]
  },
  {
   "cell_type": "code",
   "execution_count": 30,
   "id": "4a126bb1-fed1-462e-99df-e979fe3f2006",
   "metadata": {},
   "outputs": [
    {
     "name": "stdout",
     "output_type": "stream",
     "text": [
      "x is None\n",
      "<class 'NoneType'>\n",
      "None\n"
     ]
    }
   ],
   "source": [
    "#None Examples\n",
    "\n",
    "\n",
    "#To check if a variable is None, always use is instead of ==:\n",
    "\n",
    "x = None\n",
    "\n",
    "if x is None:\n",
    "    print(\"x is None\")  # Correct way to check for None\n",
    "\n",
    "\n",
    "# You can assign none to clear up the memory\n",
    "data = [1, 2, 3]\n",
    "data = None  # Clear the reference to free up memory\n",
    "\n",
    "\n",
    "print(type(None))  # Output: <class 'NoneType'>\n",
    "\n",
    "\n",
    "#None is sometimes used as a placeholder for optional arguments:\n",
    "\n",
    "class Person:\n",
    "    def __init__(self, name, age=None):  # Age is optional\n",
    "        self.name = name\n",
    "        self.age = age\n",
    "\n",
    "p1 = Person(\"Alice\")\n",
    "print(p1.age)  # Output: None\n",
    "\n",
    "# Note: In data analytics, None is often used to represent missing values."
   ]
  },
  {
   "cell_type": "code",
   "execution_count": 32,
   "id": "3d762b5e-fab9-4ea3-9baf-b25085b5387e",
   "metadata": {},
   "outputs": [
    {
     "name": "stdout",
     "output_type": "stream",
     "text": [
      "10 -> 20 -> 30 -> None\n"
     ]
    }
   ],
   "source": [
    "class Node:\n",
    "    def __init__(self, data):\n",
    "        self.data = data\n",
    "        self.next = None  # Pointer to the next node\n",
    "\n",
    "class LinkedList:\n",
    "    def __init__(self):\n",
    "        self.head = None  # Start of the list\n",
    "\n",
    "    def append(self, data):\n",
    "        new_node = Node(data)\n",
    "        if not self.head:\n",
    "            self.head = new_node\n",
    "            return\n",
    "        last = self.head\n",
    "        while last.next:\n",
    "            last = last.next\n",
    "        last.next = new_node\n",
    "\n",
    "    def display(self):\n",
    "        temp = self.head\n",
    "        while temp:  #while this is not None\n",
    "            print(temp.data, end=\" -> \")\n",
    "            temp = temp.next\n",
    "        print(\"None\")\n",
    "\n",
    "# Example usage\n",
    "ll = LinkedList()\n",
    "ll.append(10)\n",
    "ll.append(20)\n",
    "ll.append(30)\n",
    "ll.display()  # Output: 10 -> 20 -> 30 -> None\n",
    "\n",
    "\n",
    "# You will not have to do this on a test\n"
   ]
  },
  {
   "cell_type": "markdown",
   "id": "e67123a5-2d20-4698-aef3-4bc0accf9a1e",
   "metadata": {},
   "source": [
    "## What's the point of Linked Lists?  \n",
    "\n",
    "**Advantages of Linked Lists**\n",
    "- Dynamic Size: No need for a fixed size like arrays.\n",
    "- Efficient Insertions/Deletions: Inserting at the beginning is O(1) (where arrays require shifting elements O(n) )\n",
    "\n",
    "**Disadvantages of Linked List**\n",
    "- Extra memory for pointers.\n",
    "- Slower access: Random access is O(n)compared to O(1) for arrays."
   ]
  },
  {
   "cell_type": "markdown",
   "id": "9bbdc5ef-2611-4d37-a661-539bb095ccd7",
   "metadata": {},
   "source": [
    "\n",
    "\n",
    "\n",
    "\n",
    "## Special Data Structures:  Trees and Heaps\n",
    "## What is a Tree?\n",
    "A tree is a hierarchical data structure that consists of nodes. Each node has a value and references to its child nodes. The topmost node is called the root, and nodes with no children are called leaves.\n",
    "\n",
    "(Draw diagram on the board)\n",
    "\n",
    "**Types of Trees**\n",
    "- Binary Tree: Each node has at most two children.\n",
    "- Binary Search Tree (BST): A binary tree where the left child contains values smaller than the parent, and the right child contains values greater than the parent. It allows efficient searching, insertion, and deletion (O(logn) time complexity on average).\n",
    "- Balanced Trees (AVL, Red-Black Trees): These trees maintain balance to ensure \n",
    "O(logn) operations.\n",
    "- Prefix Tree: Used for fast prefix-based searching, commonly applied in autocomplete features.\n",
    "- Decision Trees: Used in machine learning for classification and regression.\n"
   ]
  },
  {
   "cell_type": "code",
   "execution_count": 40,
   "id": "4c7ebf61-d62e-49e9-ba65-070a759d1f74",
   "metadata": {},
   "outputs": [],
   "source": [
    "# Binary Tree Example\n",
    "\n",
    "\n",
    "class Node:\n",
    "    def __init__(self, key):\n",
    "        self.key = key\n",
    "        self.left = None\n",
    "        self.right = None\n",
    "\n",
    "class BinaryTree:\n",
    "    def __init__(self, root):\n",
    "        self.root = Node(root)\n",
    "\n",
    "    def inorder_traversal(self, node):\n",
    "        if node:\n",
    "            self.inorder_traversal(node.left)\n",
    "            print(node.key, end=\" \")\n",
    "            self.inorder_traversal(node.right)\n",
    "\n",
    "# Example usage\n",
    "tree = BinaryTree(10)\n",
    "tree.root.left = Node(5)\n",
    "tree.root.right = Node(15)\n",
    "tree.root.left.left = Node(2)"
   ]
  },
  {
   "cell_type": "markdown",
   "id": "1b2e4418-32a5-43d8-b8b7-ba4dc0d5cb10",
   "metadata": {},
   "source": [
    "While trees may seem more relevant to computer scientists, they are extremely useful for data analysts as well. Understanding tree structures can help with data organization, searching, hierarchical data representation, and decision-making. Here’s why a data analytis major should be familiar with trees:\n",
    "-  Searching and Sorting Data Efficiently\n",
    "-  Decision Trees\n",
    "-  Graphs\n",
    "-  Efficient Big Data Processing\n",
    "(more on this this week)"
   ]
  },
  {
   "cell_type": "markdown",
   "id": "c8c84d07-b4a3-4a05-aad1-53abb830745a",
   "metadata": {},
   "source": []
  }
 ],
 "metadata": {
  "kernelspec": {
   "display_name": "Python [conda env:base] *",
   "language": "python",
   "name": "conda-base-py"
  },
  "language_info": {
   "codemirror_mode": {
    "name": "ipython",
    "version": 3
   },
   "file_extension": ".py",
   "mimetype": "text/x-python",
   "name": "python",
   "nbconvert_exporter": "python",
   "pygments_lexer": "ipython3",
   "version": "3.12.7"
  }
 },
 "nbformat": 4,
 "nbformat_minor": 5
}
