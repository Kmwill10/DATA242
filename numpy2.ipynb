{
 "cells": [
  {
   "cell_type": "markdown",
   "id": "479d9c0b-4541-4759-823b-e5dac7f548c5",
   "metadata": {},
   "source": [
    "### Merging Arrays in NumPy\n",
    "You can merge arrays along a specific axis using NumPy’s concatenate function. The axis parameter determines the dimension along which the arrays are joined. It is important that all arrays have the same number of dimensions and match in length across all axes except the axis used for concatenation.\n",
    "\n",
    "Below are examples demonstrating array concatenation:"
   ]
  },
  {
   "cell_type": "code",
   "execution_count": 12,
   "id": "6a89a92f-a22a-44f7-85f3-31b3285f6e37",
   "metadata": {},
   "outputs": [
    {
     "name": "stdout",
     "output_type": "stream",
     "text": [
      "Array 1:\n",
      " [[1 2 3]\n",
      " [3 4 5]]\n",
      "Array 2:\n",
      " [[2 2 3]\n",
      " [1 2 5]]\n",
      "Array 3:\n",
      " [[1 2 3]\n",
      " [3 4 5]\n",
      " [2 2 3]\n",
      " [1 2 5]]\n",
      "Array 4:\n",
      " [[1 2 3 2 2 3]\n",
      " [3 4 5 1 2 5]]\n"
     ]
    }
   ],
   "source": [
    "import numpy as np  \n",
    "\n",
    "a1 = np.array([[1, 2, 3], [3, 4, 5]])  \n",
    "a2 = np.array([[2, 2, 3], [1, 2, 5]])  \n",
    "\n",
    "print(\"Array 1:\\n\", a1)  \n",
    "print(\"Array 2:\\n\", a2)  \n",
    "\n",
    "#By default, concatenate joins arrays along axis=0:\n",
    "a3= np.concatenate((a1, a2))  \n",
    "print(\"Array 3:\\n\", a3) \n",
    "\n",
    "a4= np.concatenate((a1, a2), axis=1) \n",
    "print(\"Array 4:\\n\", a4) "
   ]
  },
  {
   "cell_type": "markdown",
   "id": "bcb0af68-4050-451b-9f96-ba3c96a2d61e",
   "metadata": {},
   "source": [
    "***Handling Dimension Mismatches***\n",
    "\n",
    "If an array does not match the required dimensions, an error occurs. For example:\n",
    "\n"
   ]
  },
  {
   "cell_type": "code",
   "execution_count": 18,
   "id": "039f666a-76a9-4650-96c4-4fb98fcb8f0c",
   "metadata": {},
   "outputs": [
    {
     "ename": "ValueError",
     "evalue": "all the input arrays must have same number of dimensions, but the array at index 0 has 2 dimension(s) and the array at index 1 has 1 dimension(s)",
     "output_type": "error",
     "traceback": [
      "\u001b[0;31m---------------------------------------------------------------------------\u001b[0m",
      "\u001b[0;31mValueError\u001b[0m                                Traceback (most recent call last)",
      "Cell \u001b[0;32mIn[18], line 2\u001b[0m\n\u001b[1;32m      1\u001b[0m a5 \u001b[38;5;241m=\u001b[39m np\u001b[38;5;241m.\u001b[39marray([\u001b[38;5;241m2\u001b[39m, \u001b[38;5;241m2\u001b[39m, \u001b[38;5;241m3\u001b[39m])  \n\u001b[0;32m----> 2\u001b[0m np\u001b[38;5;241m.\u001b[39mconcatenate((a1, a5), axis\u001b[38;5;241m=\u001b[39m\u001b[38;5;241m0\u001b[39m)\n",
      "\u001b[0;31mValueError\u001b[0m: all the input arrays must have same number of dimensions, but the array at index 0 has 2 dimension(s) and the array at index 1 has 1 dimension(s)"
     ]
    }
   ],
   "source": [
    "a5 = np.array([2, 2, 3])  \n",
    "np.concatenate((a1, a5), axis=0)  \n",
    "#This raises a ValueError because a5 is 1D, while a1 is 2D.\n"
   ]
  },
  {
   "cell_type": "code",
   "execution_count": 20,
   "id": "7aa31d94-81e2-49f5-919a-deea9a27d670",
   "metadata": {},
   "outputs": [
    {
     "data": {
      "text/plain": [
       "array([[1, 2, 3],\n",
       "       [3, 4, 5],\n",
       "       [2, 2, 3]])"
      ]
     },
     "execution_count": 20,
     "metadata": {},
     "output_type": "execute_result"
    }
   ],
   "source": [
    "\n",
    "#To resolve this, reshape a5 to match the required dimensions:\n",
    "\n",
    "a5_reshaped = a5.reshape(1, 3)  \n",
    "np.concatenate((a1, a5_reshaped), axis=0)  "
   ]
  },
  {
   "cell_type": "markdown",
   "id": "d6be574a-c836-4d9d-96be-fdf18657a843",
   "metadata": {},
   "source": [
    "### Practice Exercise 1\n",
    "\n",
    "We will find the nearest major US city to the geographical center of the contiguous United States.The geographical center of the contiguous US is approximately (39.8283° N, 98.5795° W). Using a dataset of major US cities and their coordinates, find the city that is closest to this center based on Euclidean distance.\n",
    "\n",
    "\n",
    "* Use Pandas to read the dataset from a CSV file.\n",
    "* Convert the relevant latitude/longitude columns to a NumPy array.\n",
    "* Use broadcasting to calculate the Euclidean distance of each city from the center.\n",
    "* Find the city with the minimum distance.\n"
   ]
  },
  {
   "cell_type": "code",
   "execution_count": 40,
   "id": "239b62af-f7f6-47ac-a9ae-55f25a156cd7",
   "metadata": {},
   "outputs": [
    {
     "name": "stdout",
     "output_type": "stream",
     "text": [
      "             City  Latitude  Longitude\n",
      "0        New York   40.7128   -74.0060\n",
      "1     Los Angeles   34.0522  -118.2437\n",
      "2         Chicago   41.8781   -87.6298\n",
      "3         Houston   29.7604   -95.3698\n",
      "4         Phoenix   33.4484  -112.0740\n",
      "5    Philadelphia   39.9526   -75.1652\n",
      "6     San Antonio   29.4241   -98.4936\n",
      "7       San Diego   32.7157  -117.1611\n",
      "8          Dallas   32.7767   -96.7970\n",
      "9        San Jose   37.3382  -121.8863\n",
      "10         Austin   30.2672   -97.7431\n",
      "11   Jacksonville   30.3322   -81.6557\n",
      "12     Fort Worth   32.7555   -97.3308\n",
      "13       Columbus   39.9612   -82.9988\n",
      "14  San Francisco   37.7749  -122.4194\n",
      "15      Charlotte   35.2271   -80.8431\n",
      "16   Indianapolis   39.7684   -86.1581\n",
      "17        Seattle   47.6062  -122.3321\n",
      "18         Denver   39.7392  -104.9903\n",
      "19     Washington   38.9072   -77.0369\n",
      "20         Boston   42.3601   -71.0589\n",
      "21        El Paso   31.7619  -106.4850\n",
      "22      Nashville   36.1627   -86.7816\n",
      "23        Detroit   42.3314   -83.0458\n",
      "24  Oklahoma City   35.4676   -97.5164\n",
      "25       Portland   45.5051  -122.6750\n",
      "26      Las Vegas   36.1699  -115.1398\n",
      "27        Memphis   35.1495   -90.0490\n"
     ]
    }
   ],
   "source": [
    "import pandas as pd\n",
    "import numpy as np\n",
    "\n",
    "# Load the dataset of major US cities with coordinates\n",
    "cities = pd.read_csv(\"UScities.csv\")\n",
    "print(cities)\n"
   ]
  },
  {
   "cell_type": "code",
   "execution_count": null,
   "id": "a13610bb-c2eb-4d39-8e1e-5b0ca96b40d5",
   "metadata": {},
   "outputs": [],
   "source": [
    "# Now, find The names of the top 10 closest cities to the center of the US.\n",
    "# Store a NumPy array containing their coordinates.\n",
    "# Use NumPy’s concatenate() function to stack the coordinates..."
   ]
  },
  {
   "cell_type": "markdown",
   "id": "f13897b3-9b95-4618-b1c6-10340bd530b8",
   "metadata": {},
   "source": [
    "### Example 2 ###\n",
    "\n",
    "You're analyzing the weight and height of dachshunds from different breeders. The dataset includes measurements of dachshunds and a comparison of average sizes across breeders.\n",
    "\n",
    "Read the data using Pandas, clean it, and find the breeder with the most consistent dachshund sizes (i.e., the breeder with the lowest standard deviation in height and weight).Use NumPy to calculate the average weight and height of dachshunds from different breeders and determine which breeder has the largest average dachshund.\n",
    "\n"
   ]
  },
  {
   "cell_type": "code",
   "execution_count": null,
   "id": "b2b2b751-ebd1-4f21-8002-9e5d700c0d2b",
   "metadata": {},
   "outputs": [],
   "source": []
  }
 ],
 "metadata": {
  "kernelspec": {
   "display_name": "Python [conda env:base] *",
   "language": "python",
   "name": "conda-base-py"
  },
  "language_info": {
   "codemirror_mode": {
    "name": "ipython",
    "version": 3
   },
   "file_extension": ".py",
   "mimetype": "text/x-python",
   "name": "python",
   "nbconvert_exporter": "python",
   "pygments_lexer": "ipython3",
   "version": "3.12.2"
  }
 },
 "nbformat": 4,
 "nbformat_minor": 5
}
