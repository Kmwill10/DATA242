{
 "cells": [
  {
   "cell_type": "code",
   "execution_count": 12,
   "id": "bb44077c-4707-4d33-85d2-8279fa06d5d4",
   "metadata": {},
   "outputs": [
    {
     "name": "stdout",
     "output_type": "stream",
     "text": [
      "3\n",
      "<__main__.CustomList object at 0x1372b8d40>\n"
     ]
    }
   ],
   "source": [
    "# This is the solution to the Midterm practice problems.  I coded all the problems up:)\n",
    "# Be sure to review pass by reference/pass by value, immutable types\n",
    "\n",
    "\n",
    "\n",
    "\n",
    "class CustomList:\n",
    "    def __init__(self):\n",
    "        self.mylist = []\n",
    "    \n",
    "    def append(self, element):\n",
    "        self.mylist.append(element)\n",
    "    \n",
    "    def remove(self, element):\n",
    "        if element in self.data:\n",
    "            self.mylist.remove(element)\n",
    "        else:\n",
    "            print(\"Element not found\")\n",
    "    \n",
    "    def get(self, index):\n",
    "        if 0 <= len(self.mylist) and index<len(self.mylist):\n",
    "            return self.mylist[index]\n",
    "        else:\n",
    "            print(\"Index out of range\")\n",
    "    \n",
    "    def insert(self, index, element):\n",
    "        if 0 <= len(self.mylist) and index<len(self.mylist):\n",
    "            self.mylist.insert(index, element)\n",
    "        else:\n",
    "            print(\"Index out of range\")\n",
    "\n",
    "c=CustomList()\n",
    "c.append(3)\n",
    "c.append(4)\n",
    "print(c.get(0))\n",
    "c.insert(1,2)\n",
    "print(c)  # this doesn't print nicely so how would you fix that:)\n",
    "\n",
    "    "
   ]
  },
  {
   "cell_type": "code",
   "execution_count": null,
   "id": "034b5d0b-d900-402a-a5c4-e3ed0110e49c",
   "metadata": {},
   "outputs": [],
   "source": []
  },
  {
   "cell_type": "code",
   "execution_count": 14,
   "id": "a8bd9b5a-f2fb-4186-bd30-3e9fb1e3de5a",
   "metadata": {},
   "outputs": [
    {
     "name": "stdout",
     "output_type": "stream",
     "text": [
      "5\n"
     ]
    }
   ],
   "source": [
    "def fib(n):\n",
    "    if n < 1:\n",
    "        return \"Invalid input\"\n",
    "    n_1=1\n",
    "    n_2=1\n",
    "    for i in range(n - 2):\n",
    "       new_n_1=n_1+n_2\n",
    "       n_2=n_1\n",
    "       n_1=new_n_1\n",
    "       \n",
    "    return n_1\n",
    "\n",
    "print(fib(5))"
   ]
  },
  {
   "cell_type": "code",
   "execution_count": null,
   "id": "590b4cb9-ccd9-40b3-a0fd-e3f638815432",
   "metadata": {},
   "outputs": [],
   "source": []
  },
  {
   "cell_type": "code",
   "execution_count": null,
   "id": "017bf98e-1c24-498d-b95d-a4942dcaa619",
   "metadata": {},
   "outputs": [],
   "source": [
    "class BankAccount:\n",
    "    def __init__(self, account_number, balance=0.0):\n",
    "        self.account_number = account_number\n",
    "        self.balance = balance\n",
    "    \n",
    "    def deposit(self, amount):\n",
    "        self.balance += amount\n",
    "    \n",
    "    def withdraw(self, amount):\n",
    "        if amount <= self.balance:\n",
    "            self.balance -= amount\n",
    "        else:\n",
    "            print(\"Insufficient funds\")\n",
    "    \n",
    "    def get_balance(self):\n",
    "        return self.balance\n",
    "\n",
    "\n",
    "class SavingsAccount(BankAccount):\n",
    "    def __init__(self, account_number, balance=0.0, interest_rate=0.01):\n",
    "        super().__init__(account_number, balance)\n",
    "        self.interest_rate = interest_rate\n",
    "    \n",
    "    def apply_interest(self):\n",
    "        self.balance += self.balance * self.interest_rate\n",
    "\n",
    "# Creating a BankAccount instance\n",
    "account = BankAccount(\"1299\")\n",
    "account.deposit(1500)\n",
    "account.withdraw(200)\n",
    "print(\"Balance:\", account.get_balance())\n",
    "\n",
    "# Creating a SavingsAccount instance\n",
    "savings = SavingsAccount(\"1228\", 1000, 0.06)\n",
    "savings.apply_interest()\n",
    "print(\"Savings Balance after interest:\", savings.get_balance())\n",
    "\n",
    "#note that you only need to create an __init__ for a special subclass if you are changing\n",
    "# or adding a variable for the standard __init__ that is inherited from the subclass..\n"
   ]
  },
  {
   "cell_type": "code",
   "execution_count": null,
   "id": "d35dcc18-23a1-4497-b0cc-956c3b0731fb",
   "metadata": {},
   "outputs": [],
   "source": []
  },
  {
   "cell_type": "code",
   "execution_count": 18,
   "id": "25adb323-6b75-4f54-a035-acd428f9772f",
   "metadata": {},
   "outputs": [
    {
     "name": "stdout",
     "output_type": "stream",
     "text": [
      "True\n",
      "True\n",
      "False\n"
     ]
    }
   ],
   "source": [
    "def is_palindrome(s):\n",
    "\n",
    "    if len(s) <= 1:   #if you are out of characters to take off and length\n",
    "        return True    # is one \n",
    "\n",
    "    # Recursive case: Check first and last character, then recurse on the rest\n",
    "    if s[0] == s[-1]:\n",
    "        return is_palindrome(s[1:-1])   #slice the string and take the first/last off\n",
    "    \n",
    "    return False   #if the two are not equal then return false\n",
    "\n",
    "# Test the function\n",
    "print(is_palindrome(\"amanaplanacanalpanama\"))  # Output: True\n",
    "print(is_palindrome(\"racecar\"))  # Output: True\n",
    "print(is_palindrome(\"hello\"))  # Output: False"
   ]
  },
  {
   "cell_type": "code",
   "execution_count": null,
   "id": "09976b0c-129a-4a7d-b5fd-e1b448f524bf",
   "metadata": {},
   "outputs": [],
   "source": []
  },
  {
   "cell_type": "code",
   "execution_count": null,
   "id": "79754b27-e3d6-4614-9e95-f614b0911f97",
   "metadata": {},
   "outputs": [],
   "source": [
    "# Trace Through Questions Output\n",
    "x = 5\n",
    "while x > 0:\n",
    "    if x % 2 == 0:\n",
    "        print(x, \"is even\")\n",
    "    else:\n",
    "        print(x, \"is odd\")\n",
    "    x -= 1\n",
    "\n",
    "print(mystery(10, 3), mystery(3, 10))\n",
    "countdown(3)\n",
    "\n",
    "a = [1, 2, 3, 4]\n",
    "b = a\n",
    "b[2] = 99\n",
    "print(a)\n",
    "\n",
    "s = \"Python\"\n",
    "print(s[2], s[-1], s[:3], s[1:4])\n",
    "\n",
    "nums = [10, 20, 30, 40, 50, 60]\n",
    "print(nums[2], nums[-1], nums[1:4], nums[:3], nums[::2], nums[::-1])\n",
    "\n",
    "matrix = [[1, 2, 3], [4, 5, 6], [7, 8, 9]]\n",
    "print(matrix[1][2], matrix[-1][0])\n",
    "\n",
    "# Tuple Error\n",
    "# t = (1, 2, 3)\n",
    "# t[1] = 99  # TypeError: 'tuple' object does not support item assignment"
   ]
  },
  {
   "cell_type": "code",
   "execution_count": null,
   "id": "5f1c9837-1d22-4099-80aa-724d14f0ca55",
   "metadata": {},
   "outputs": [],
   "source": []
  },
  {
   "cell_type": "code",
   "execution_count": 24,
   "id": "8446282e-60ca-4520-b867-bc2008fd9e0a",
   "metadata": {},
   "outputs": [
    {
     "name": "stdout",
     "output_type": "stream",
     "text": [
      "{'apple': 4, 'banana': 3, 'orange': 2}\n",
      "{'apple': 4, 'banana': 3, 'orange': 2}\n"
     ]
    }
   ],
   "source": [
    "def word_count(s):\n",
    "    words = s.split()\n",
    "    mydict={}\n",
    "    for w in words:  # go over the words\n",
    "        #now go through each word and\n",
    "        count=1\n",
    "        for w2 in words:\n",
    "            if w==w2:\n",
    "                count+=1   # this is sort of bad bc we are doing more work \n",
    "                        #than we need to bc we count all words for each instance..\n",
    "                        # I fixed this below.\n",
    "        mydict[w]=count\n",
    "    return mydict   \n",
    "\n",
    "\n",
    "\n",
    "s = \"apple banana apple orange banana apple\"\n",
    "print(word_count(s))\n",
    "\n",
    "\n",
    "def word_count2(s):\n",
    "    words = s.split()\n",
    "    mydict={}\n",
    "    for w in words:  # go over the words\n",
    "        #now go through each word and\n",
    "        count=1\n",
    "        if w not in mydict:\n",
    "            for w2 in words:\n",
    "                if w==w2:\n",
    "                    count+=1   \n",
    "            mydict[w]=count\n",
    "    return mydict  \n",
    "s = \"apple banana apple orange banana apple\"\n",
    "print(word_count2(s))\n"
   ]
  },
  {
   "cell_type": "code",
   "execution_count": null,
   "id": "a16eae06-1bf8-4c7f-9245-b44df8a9c6e1",
   "metadata": {},
   "outputs": [],
   "source": []
  },
  {
   "cell_type": "code",
   "execution_count": 30,
   "id": "9bb82582-3368-40ca-83a9-e43be0019004",
   "metadata": {},
   "outputs": [
    {
     "name": "stdout",
     "output_type": "stream",
     "text": [
      "{'Alice': 87.66666666666667, 'Bob': 80.0, 'Charlie': 93.33333333333333}\n"
     ]
    }
   ],
   "source": [
    "def average_grades(grades):\n",
    "    student={}\n",
    "    for stud in grades:\n",
    "        student[stud]=sum(grades[stud])/len(grades[stud])\n",
    "        \n",
    "    \n",
    "    \n",
    "    return student\n",
    "\n",
    "\n",
    "grades = {\n",
    "    \"Alice\": [85, 90, 88],\n",
    "    \"Bob\": [78, 82, 80],\n",
    "    \"Charlie\": [92, 95, 93]\n",
    "}\n",
    "\n",
    "print(average_grades(grades))"
   ]
  },
  {
   "cell_type": "code",
   "execution_count": null,
   "id": "20221ea3-627c-4fc6-8bd7-eddd67247b68",
   "metadata": {},
   "outputs": [],
   "source": []
  },
  {
   "cell_type": "code",
   "execution_count": 32,
   "id": "2cd3e813-ce6e-46a3-8a8a-b3d601b927b8",
   "metadata": {},
   "outputs": [
    {
     "name": "stdout",
     "output_type": "stream",
     "text": [
      "True\n"
     ]
    }
   ],
   "source": [
    " \n",
    "def reverse_lookup(d, value):\n",
    "    for key in d:\n",
    "        if d[key]==value:\n",
    "            return True\n",
    "    return False\n",
    "    \n",
    "e = {'a': 10, 'b': 20, 'c': 10, 'd': 30}\n",
    "print(reverse_lookup(e, 10))"
   ]
  },
  {
   "cell_type": "code",
   "execution_count": null,
   "id": "dffabed6-22bb-467a-b79c-452084fe3286",
   "metadata": {},
   "outputs": [],
   "source": []
  },
  {
   "cell_type": "code",
   "execution_count": 36,
   "id": "607e2da3-d27a-4d51-ab53-b12013f718b0",
   "metadata": {},
   "outputs": [
    {
     "name": "stdout",
     "output_type": "stream",
     "text": [
      "{'a': 10, 'b': 7, 'c': 3, 'd': 12}\n"
     ]
    }
   ],
   "source": [
    "def merge_dicts(d1, d2):\n",
    "    d3={}\n",
    "    for key in d1:\n",
    "        d3[key]=d1[key]\n",
    "    for key in d2:\n",
    "        d3[key]=d2[key]\n",
    "    return d3\n",
    "\n",
    " \n",
    "d1 = {'a': 10, 'b': 5, 'c': 8}\n",
    "d2 = {'b': 7, 'c': 3, 'd': 12}\n",
    "\n",
    "print(merge_dicts(d1, d2))\n",
    "#Sample output: {'a': 10, 'b': 12, 'c': 11, 'd': 12}\n",
    "\n",
    "   \n",
    "\n",
    "    \n",
    "   "
   ]
  },
  {
   "cell_type": "code",
   "execution_count": 44,
   "id": "319f22d1-0640-42e7-ae91-2265145bac38",
   "metadata": {},
   "outputs": [],
   "source": [
    "# List Comprehensions\n",
    "squares = [x**2 for x in range(1, 11)]\n",
    "\n",
    "nums = [3, 10, 7, 8, 15, 20, 33, 12]\n",
    "evens = [x for x in nums if x % 2 == 0]\n",
    "\n",
    "\n",
    "first_letters = [w[0] for w in [\"apple\", \"banana\", \"cherry\", \"date\"]]\n",
    "\n",
    "\n",
    "students = {\"Alice\": 85, \"Bob\": 92, \"Charlie\": 78, \"David\": 90}\n",
    "above_80 = [name for name in students if students[name] > 80]\n",
    "\n",
    "nested_list = [[1, 2, 3], [4, 5], [6, 7, 8]]  #We haven't talked much about 2D lists...so this probably wouldn't be on midterm\n",
    "flattened_list = [i for list in nested_list for i in list]"
   ]
  },
  {
   "cell_type": "code",
   "execution_count": 40,
   "id": "9e7c1762-50af-4fd6-bb69-cc0e082ab1e9",
   "metadata": {},
   "outputs": [
    {
     "data": {
      "text/plain": [
       "['Alice', 'Bob', 'David']"
      ]
     },
     "execution_count": 40,
     "metadata": {},
     "output_type": "execute_result"
    }
   ],
   "source": [
    "above_80"
   ]
  },
  {
   "cell_type": "code",
   "execution_count": 46,
   "id": "7fc03303-c1a0-4c8b-8467-2edbb3e9f1fa",
   "metadata": {},
   "outputs": [
    {
     "data": {
      "text/plain": [
       "[1, 2, 3, 4, 5, 6, 7, 8]"
      ]
     },
     "execution_count": 46,
     "metadata": {},
     "output_type": "execute_result"
    }
   ],
   "source": [
    "flattened_list"
   ]
  },
  {
   "cell_type": "code",
   "execution_count": null,
   "id": "d658e062-cbd0-461f-9b72-0dcaa484f8d1",
   "metadata": {},
   "outputs": [],
   "source": []
  }
 ],
 "metadata": {
  "kernelspec": {
   "display_name": "Python [conda env:base] *",
   "language": "python",
   "name": "conda-base-py"
  },
  "language_info": {
   "codemirror_mode": {
    "name": "ipython",
    "version": 3
   },
   "file_extension": ".py",
   "mimetype": "text/x-python",
   "name": "python",
   "nbconvert_exporter": "python",
   "pygments_lexer": "ipython3",
   "version": "3.12.7"
  }
 },
 "nbformat": 4,
 "nbformat_minor": 5
}
