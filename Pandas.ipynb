{
 "cells": [
  {
   "cell_type": "markdown",
   "id": "f63f5a51-63cf-4587-a526-e1673ab2fb75",
   "metadata": {},
   "source": [
    "\n",
    "Read the file Top 10 Albums By Year.csv. This file contains the top 10 albums for each year from 1990 to 2021. Each row corresponds to a unique album.\n",
    "* Print the first 5 rows of the data.\n",
    "*  How many rows and columns are there in the data?\n",
    "*  Print the summary statistics of the data, and answer the following questions:\n",
    "    * What proportion of albums have 15 or lesser tracks? Mention a range for the proportion.\n",
    "    * What is the mean length of a track (in minutes)?\n",
    "* Create a new variable rat_grossTobudget, which is the ratio of Worldwide Gross and Production Budget for each movie.\n",
    "* Check the data types\n",
    "* The Release Date in the DataFrame is object. To perform numerical computations on this variable, we’ll need to convert it to a datetime format. Figure out how to do that!\n",
    "* Worldwide Sales is not included in the summary statistics table printed because its data type is object and not int or float.  Can you change that?  Be sure to print the summary statics so you agre that it's a problem:)\n",
    "* Create a new column that computes the average worldwide sales per year for each album, assuming that the worldwide sales are as of 2022. Print the first 5 rows of the updated DataFrame.\n",
    "* How many hip hop albums are there?"
   ]
  },
  {
   "cell_type": "code",
   "execution_count": null,
   "id": "ebf01b07-f6aa-4df4-b700-c42b63bb1ea5",
   "metadata": {},
   "outputs": [],
   "source": []
  },
  {
   "cell_type": "code",
   "execution_count": 6,
   "id": "31e9532e-4923-437c-86d7-e594181e8c0e",
   "metadata": {},
   "outputs": [
    {
     "data": {
      "text/plain": [
       "list"
      ]
     },
     "execution_count": 6,
     "metadata": {},
     "output_type": "execute_result"
    }
   ],
   "source": [
    "#Reading all the tables from the Wikipedia page on GDP per capita\n",
    "\n",
    "import pandas as pd\n",
    "\n",
    "tables = pd.read_html('https://en.wikipedia.org/wiki/List_of_countries_by_GDP_(nominal)_per_capita')\n",
    "type(tables)"
   ]
  },
  {
   "cell_type": "code",
   "execution_count": null,
   "id": "e32a26ba-d618-4e40-a553-0a20090db008",
   "metadata": {},
   "outputs": [],
   "source": []
  }
 ],
 "metadata": {
  "kernelspec": {
   "display_name": "Python [conda env:base] *",
   "language": "python",
   "name": "conda-base-py"
  },
  "language_info": {
   "codemirror_mode": {
    "name": "ipython",
    "version": 3
   },
   "file_extension": ".py",
   "mimetype": "text/x-python",
   "name": "python",
   "nbconvert_exporter": "python",
   "pygments_lexer": "ipython3",
   "version": "3.12.2"
  }
 },
 "nbformat": 4,
 "nbformat_minor": 5
}
