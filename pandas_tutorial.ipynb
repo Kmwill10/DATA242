{
 "cells": [
  {
   "cell_type": "markdown",
   "id": "02df69af",
   "metadata": {},
   "source": [
    "# Pandas and Reading Data in Python\n",
    "\n",
    "Pandas is a powerful Python library used for data manipulation and analysis. One of its key functionalities is the ability to read, process, and analyze structured data from various sources, such as CSV and Excel files.\n",
    "\n",
    "In this class (and probably the next class too), we will explore how to read data using Pandas and apply basic operations to understand our dataset.\n",
    "\n",
    "# Extracting and Reading Data in Python  \n",
    "\n",
    "## Types of Data  \n",
    "Extracting useful information from data starts with reading it into a usable format. Data can generally be classified into two types:  \n",
    "\n",
    "1. **Structured Data**  \n",
    "2. **Unstructured Data**  \n",
    "\n",
    "### Structured Data  \n",
    "Structured data is organized in a tabular format, where **rows** represent individual **observations** and **columns** represent **variables**. For example, the dataset below contains five observations, each representing a movie. The columns store different attributes such as title, budget, genre, and ratings. Since all attributes in a row relate to the same entity (a movie), this type of dataset is known as **relational data**.  \n",
    "\n",
    "| Title                           | US Gross   | Production Budget | Release Date  | Major Genre       | Creative Type | Rotten Tomatoes Rating | IMDB Rating |\n",
    "|---------------------------------|------------|------------------|--------------|------------------|--------------|----------------------|-------------|\n",
    "| The Shawshank Redemption        | 28,241,469  | 25,000,000       | Sep 23, 1994  | Drama            | Fiction      | 88                   | 9.2         |\n",
    "| Inception                       | 285,630,280 | 160,000,000      | Jul 16, 2010  | Horror/Thriller  | Fiction      | 87                   | 9.1         |\n",
    "| One Flew Over the Cuckoo's Nest | 108,981,275 | 4,400,000        | Nov 19, 1975  | Comedy           | Fiction      | 96                   | 8.9         |\n",
    "| The Dark Knight                 | 533,345,358 | 185,000,000      | Jul 18, 2008  | Action/Adventure | Fiction      | 93                   | 8.9         |\n",
    "| Schindler's List                | 96,067,179  | 25,000,000       | Dec 15, 1993  | Drama            | Non-Fiction  | 97                   | 8.9         |\n",
    "\n",
    "### Unstructured Data  \n",
    "Unstructured data does not follow a predefined format or structure. Examples include text files, images, audio and video recordings, and Internet of Things (IoT) data. Since analytical tools are primarily designed for structured data, analyzing unstructured data can be more challenging. However, unstructured data can often be converted into a structured format. For example, an image can be transformed into a matrix of pixel values, allowing machine learning models to classify it as a dog or a cat.\n",
    "\n",
    "---\n",
    "\n",
    "## Reading CSV Files with Pandas  \n",
    "Structured data can be stored in different formats, but **CSV (Comma-Separated Values)** is one of the most common. In a CSV file, values in each row are separated by commas, though these delimiters are not visible when opened in spreadsheet applications like Microsoft Excel.\n",
    "\n",
    "To read a CSV file in Python using the Pandas library:\n",
    "\n",
    "\n",
    "\n",
    "\n",
    "\n"
   ]
  },
  {
   "cell_type": "code",
   "execution_count": 9,
   "id": "5bad72f9",
   "metadata": {},
   "outputs": [
    {
     "name": "stdout",
     "output_type": "stream",
     "text": [
      "   Rank                    Title                     Genre  \\\n",
      "0     1  Guardians of the Galaxy   Action,Adventure,Sci-Fi   \n",
      "1     2               Prometheus  Adventure,Mystery,Sci-Fi   \n",
      "2     3                    Split           Horror,Thriller   \n",
      "3     4                     Sing   Animation,Comedy,Family   \n",
      "4     5            Suicide Squad  Action,Adventure,Fantasy   \n",
      "\n",
      "                                         Description              Director  \\\n",
      "0  A group of intergalactic criminals are forced ...            James Gunn   \n",
      "1  Following clues to the origin of mankind, a te...          Ridley Scott   \n",
      "2  Three girls are kidnapped by a man with a diag...    M. Night Shyamalan   \n",
      "3  In a city of humanoid animals, a hustling thea...  Christophe Lourdelet   \n",
      "4  A secret government agency recruits some of th...            David Ayer   \n",
      "\n",
      "                                              Actors  Year  Runtime (Minutes)  \\\n",
      "0  Chris Pratt, Vin Diesel, Bradley Cooper, Zoe S...  2014                121   \n",
      "1  Noomi Rapace, Logan Marshall-Green, Michael Fa...  2012                124   \n",
      "2  James McAvoy, Anya Taylor-Joy, Haley Lu Richar...  2016                117   \n",
      "3  Matthew McConaughey,Reese Witherspoon, Seth Ma...  2016                108   \n",
      "4  Will Smith, Jared Leto, Margot Robbie, Viola D...  2016                123   \n",
      "\n",
      "   Rating   Votes  Revenue (Millions)  Metascore  \n",
      "0     8.1  757074              333.13       76.0  \n",
      "1     7.0  485820              126.46       65.0  \n",
      "2     7.3  157606              138.12       62.0  \n",
      "3     7.2   60545              270.32       59.0  \n",
      "4     6.2  393727              325.02       40.0  \n"
     ]
    }
   ],
   "source": [
    "# Import the pandas library\n",
    "import pandas as pd\n",
    "\n",
    "# Load the CSV file into a DataFrame\n",
    "df = pd.read_csv(\"Movie-Data.csv\")\n",
    "\n",
    "# Display the first few rows\n",
    "print(df.head())\n",
    "\n",
    "\n"
   ]
  },
  {
   "cell_type": "markdown",
   "id": "f04f321e",
   "metadata": {},
   "source": [
    "## Exploring the Data\n",
    "\n",
    "Once you've read the data into a DataFrame, you can explore it using Pandas functions:\n",
    "\n",
    "- `df.head()` – View the first five rows of the dataset.\n",
    "- `df.tail()` – View the last five rows.\n",
    "- `df.shape` – Get the number of rows and columns.\n",
    "- `df.info()` – Get metadata about the dataset.\n",
    "- `df.describe()` – Get statistical summary of numerical columns.\n"
   ]
  },
  {
   "cell_type": "code",
   "execution_count": null,
   "id": "1f613fec",
   "metadata": {},
   "outputs": [],
   "source": [
    "#today we are having fun and taking notes!\n",
    "\n",
    "\n",
    "\n",
    "\n",
    "\n",
    "\n",
    "\n",
    "\n",
    "\n",
    "\n",
    "\n",
    "\n",
    "\n",
    "\n",
    "\n",
    "\n",
    "\n",
    "# Display basic information about the dataset\n",
    "print(df.info())\n",
    "\n",
    "# Summary statistics\n",
    "print(df.describe())\n"
   ]
  },
  {
   "cell_type": "markdown",
   "id": "cecbe216",
   "metadata": {},
   "source": [
    "## Handling Missing Data\n",
    "\n",
    "Datasets often contain missing values. Pandas provides several methods to handle them:\n",
    "\n",
    "- `df.dropna()` – Removes rows with missing values.\n",
    "- `df.fillna(value)` – Fills missing values with a specified value.\n",
    "- `df.isnull().sum()` – Counts missing values in each column.\n"
   ]
  },
  {
   "cell_type": "code",
   "execution_count": null,
   "id": "583bbad5",
   "metadata": {},
   "outputs": [],
   "source": [
    "# Count missing values in each column\n",
    "print(df.isnull().sum())\n",
    "\n",
    "# Fill missing values with 0\n",
    "df_filled = df.fillna(0)\n",
    "\n",
    "# Drop rows with missing values\n",
    "df_dropped = df.dropna()\n"
   ]
  },
  {
   "cell_type": "markdown",
   "id": "b62ab9f4",
   "metadata": {},
   "source": [
    "## Saving Data\n",
    "\n",
    "After making modifications to your dataset, you may want to save it back to a file:\n",
    "\n",
    "- `df.to_csv('new_data.csv', index=False)` – Saves the DataFrame to a CSV file.\n",
    "- `df.to_excel('new_data.xlsx')` – Saves the DataFrame to an Excel file.\n"
   ]
  },
  {
   "cell_type": "code",
   "execution_count": null,
   "id": "8049b33e",
   "metadata": {},
   "outputs": [],
   "source": [
    "# Save the cleaned dataset to a new CSV file\n",
    "df_filled.to_csv('cleaned_data.csv', index=False)\n"
   ]
  }
 ],
 "metadata": {
  "kernelspec": {
   "display_name": "Python [conda env:base] *",
   "language": "python",
   "name": "conda-base-py"
  },
  "language_info": {
   "codemirror_mode": {
    "name": "ipython",
    "version": 3
   },
   "file_extension": ".py",
   "mimetype": "text/x-python",
   "name": "python",
   "nbconvert_exporter": "python",
   "pygments_lexer": "ipython3",
   "version": "3.12.2"
  }
 },
 "nbformat": 4,
 "nbformat_minor": 5
}
