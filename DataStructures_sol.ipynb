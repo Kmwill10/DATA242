{
 "cells": [
  {
   "cell_type": "markdown",
   "id": "00de1708-9719-408b-872a-7877a2f2b4b4",
   "metadata": {},
   "source": [
    "# Data Structures \n",
    "\n",
    "A data structure in Python is a way of organizing, managing, and storing data to enable efficient access and modification. Python provides a variety of built-in data structures to handle different types of data and solve various computational problems.  This is a preview of what's ahead but here are some common data structures to get you thinking:\n",
    "\n",
    "**List**\n",
    "* An ordered collection that is mutable (can be modified).\n",
    "Supports indexing, slicing, and a variety of operations.\n",
    "Example: my_list = [1, 2, 3, 4]\n",
    "\n",
    "**Tuple**\n",
    "* An ordered and immutable collection.\n",
    "Useful for representing fixed sets of data.\n",
    "Example: my_tuple = (1, 2, 3)\n",
    "\n",
    "**Dictionary**\n",
    "* A collection of key-value pairs, where keys are unique and values can be of any data type.\n",
    "Example: my_dict = {'key1': 'value1', 'key2': 'value2'}\n",
    "\n",
    "**Set**\n",
    "* An unordered collection of unique elements.\n",
    "Used for membership testing and eliminating duplicates.\n",
    "Example: my_set = {1, 2, 3}\n",
    "\n",
    "**String**\n",
    "* A sequence of characters, treated as immutable.\n",
    "Strings can be indexed and sliced like lists.\n",
    "Example: my_string = \"hello\"\n",
    "\n",
    "\n",
    "**Heap (Priority Queue)**\n",
    "* A binary heap data structure provided by the heapq module.\n",
    "Useful for efficient priority-based operations.\n",
    "Example:\n",
    "import heapq\n",
    "heap = [3, 1, 2]\n",
    "heapq.heapify(heap)\n",
    "\n",
    "**Queue**\n",
    "* Used for managing data in a FIFO (First-In-First-Out) manner.\n",
    "Example:\n",
    "from queue import Queue\n",
    "q = Queue()\n",
    "q.put(1)\n",
    "q.get()\n",
    "\n",
    "**Advanced Data Structures:**\n",
    "* Python also provides libraries like numpy and pandas for handling more complex data structures: Arrays (via numpy)\n",
    "DataFrames (via pandas for tabular data)\n",
    "* These structures help organize data efficiently based on the specific requirements of a problem.\n",
    "\n",
    "Data structures and object-oriented programming (OOP) are closely related, as both are essential in designing and organizing code. \n",
    "In object-oriented programming, data structures are often implemented as classes, and the elements of the structure are objects. For example, A list can be implemented as a class, with methods to add, remove, or manipulate elements.\n",
    "\n",
    "\n",
    "Each instance of the data structure class encapsulates the data (attributes) and the operations (methods) that can be performed on it.\n",
    "\n",
    "\n",
    "\n",
    "# Tuple Data Structure\n",
    "\n"
   ]
  },
  {
   "cell_type": "markdown",
   "id": "1a86b5d0-55eb-42ef-a7e8-e048348cdab8",
   "metadata": {},
   "source": [
    "A tuple in Python is a sequence of objects with two key characteristics:\n",
    "\n",
    "The number of objects in the tuple is fixed.\n",
    "The objects are immutable, meaning their values cannot be changed.\n",
    "Tuples are defined as sequences of objects separated by commas and enclosed in parentheses (). For example, here’s a tuple containing three integers:"
   ]
  },
  {
   "cell_type": "code",
   "execution_count": 1,
   "id": "c98009f4-8b0a-4cbf-93e5-633d88614345",
   "metadata": {},
   "outputs": [],
   "source": [
    "tuple_ex = (2, 4, 2)\n",
    "\n"
   ]
  },
  {
   "cell_type": "markdown",
   "id": "1de1dc6e-38d4-4e44-a0d6-a5822f4b4806",
   "metadata": {},
   "source": [
    "Tuples can also be created without using parentheses, simply by separating the elements with commas:"
   ]
  },
  {
   "cell_type": "code",
   "execution_count": 3,
   "id": "f656af26-5e7d-4b84-8378-6d1f4a8a9259",
   "metadata": {},
   "outputs": [
    {
     "data": {
      "text/plain": [
       "tuple"
      ]
     },
     "execution_count": 3,
     "metadata": {},
     "output_type": "execute_result"
    }
   ],
   "source": [
    "tuple_ex = 2, 4, 2\n",
    "type(tuple_ex)   # you can check out the type"
   ]
  },
  {
   "cell_type": "markdown",
   "id": "38eef8d9-2d87-4a2c-9e17-4428d554c5cc",
   "metadata": {},
   "source": [
    "You can access elements of a tuple using their index enclosed in square brackets []. For example, to retrieve the second element of tuple_ex, use:"
   ]
  },
  {
   "cell_type": "code",
   "execution_count": 21,
   "id": "7ba493d4-b078-4cfb-9bb8-0ab9bf93c228",
   "metadata": {},
   "outputs": [
    {
     "name": "stdout",
     "output_type": "stream",
     "text": [
      "2\n"
     ]
    }
   ],
   "source": [
    "print(tuple_ex[0])\n"
   ]
  },
  {
   "cell_type": "markdown",
   "id": "31743b33-d1f5-46fa-b0fc-9dfc871b52ee",
   "metadata": {},
   "source": [
    "However, you cannot modify the elements of a tuple. For instance, attempting to change the second element of tuple_ex like this:\n"
   ]
  },
  {
   "cell_type": "code",
   "execution_count": 5,
   "id": "fc84b483-d69f-443b-b295-8196bea7e29c",
   "metadata": {},
   "outputs": [
    {
     "ename": "TypeError",
     "evalue": "'tuple' object does not support item assignment",
     "output_type": "error",
     "traceback": [
      "\u001b[0;31m---------------------------------------------------------------------------\u001b[0m",
      "\u001b[0;31mTypeError\u001b[0m                                 Traceback (most recent call last)",
      "Cell \u001b[0;32mIn[5], line 1\u001b[0m\n\u001b[0;32m----> 1\u001b[0m tuple_ex[\u001b[38;5;241m0\u001b[39m]\u001b[38;5;241m=\u001b[39m\u001b[38;5;241m5\u001b[39m\n",
      "\u001b[0;31mTypeError\u001b[0m: 'tuple' object does not support item assignment"
     ]
    }
   ],
   "source": [
    "tuple_ex[0]=5"
   ]
  },
  {
   "cell_type": "markdown",
   "id": "e64c0580-7aee-48c0-95c0-42fe4215a5e4",
   "metadata": {},
   "source": [
    "This error occurs because tuples are immutable, and their elements cannot be altered after creation."
   ]
  },
  {
   "cell_type": "markdown",
   "id": "65f5cf30-9fac-4c5c-9e54-b91bbe292a5d",
   "metadata": {},
   "source": [
    "## Practice\n",
    "Gross Domestic Product (GDP) per capita shows a country's GDP divided by its total population. The tuple GDP in the code cell below contains the USA's GDP per capita data from 1960 to 2021.  The values are arranged chronologically, with the first value corresponding to 1960, the second to 1961, and so forth. Write a program to identify and print the years when the GDP per capita in the US increased by more than 10% compared to the previous year."
   ]
  },
  {
   "cell_type": "code",
   "execution_count": 3,
   "id": "447c4876-9eb6-4e2f-ab75-41c8bf71761e",
   "metadata": {},
   "outputs": [],
   "source": [
    "GDP = (3007, 3067, 3244, 3375,3574, 3828, 4146, 4336, 4696, 5032,5234,5609,6094,6726,7226,7801,8592,9453,10565,11674,12575,13976,14434,15544,17121,18237,19071,20039,21417,22857,23889,24342,25419,26387,27695,28691,29968,31459,32854,34515,36330,37134,37998,39490,41725,44123,46302,48050,48570,47195,48651,50066,51784,53291,55124,56763,57867,59915,62805,65095,63028,69288)"
   ]
  },
  {
   "cell_type": "code",
   "execution_count": 9,
   "id": "8197da7f-bf88-4742-a36c-75385d5943dd",
   "metadata": {},
   "outputs": [
    {
     "name": "stdout",
     "output_type": "stream",
     "text": [
      "1972 6094\n",
      "1975 7801\n",
      "1976 8592\n",
      "1977 9453\n",
      "1978 10565\n",
      "1980 12575\n",
      "1983 15544\n"
     ]
    }
   ],
   "source": [
    "#Write your solution here\n",
    "for i in range(len(GDP)-1):\n",
    "    #print(GDP[i], GDP[i+1])  #for debugging\n",
    "    if (GDP[i+1]-GDP[i])/GDP[i]>.1:  #(amount GDP increased between 2 years divided by current total gives you a percentage)\n",
    "        print(i+1960, GDP[i])        #then this percentage is checked to see if it's greater than 10%\n",
    "                                     #i is the index into GDP and I add 1960 since index 0 is 1960\n",
    "                            \n",
    "        \n",
    "        \n",
    "\n",
    "\n",
    "\n",
    "\n",
    "#for el in GDP:   #this solution did not have indices so it didn't help us..\n",
    "#    print(el)\n"
   ]
  },
  {
   "cell_type": "markdown",
   "id": "3d182e16-690a-4e7a-8da0-fd9fa43efc05",
   "metadata": {},
   "source": [
    "## More on Tuples\n",
    "Tuples can be concatenated using the + operator:"
   ]
  },
  {
   "cell_type": "code",
   "execution_count": 35,
   "id": "6fec146f-10b4-4147-b9a6-3b0bbfe9b23a",
   "metadata": {},
   "outputs": [
    {
     "data": {
      "text/plain": [
       "(2, 4, 2, 'a', 'tuple', 'mixing', 'datatypes is crazy', 8)"
      ]
     },
     "execution_count": 35,
     "metadata": {},
     "output_type": "execute_result"
    }
   ],
   "source": [
    "(2,4,2) + (\"a\", \"tuple\") + (\"mixing\",\"datatypes is crazy\",8)"
   ]
  },
  {
   "cell_type": "markdown",
   "id": "42862809-6e3f-4064-9ab5-89be24012851",
   "metadata": {},
   "source": [
    "Multiplying a tuple by an integer results in repetition of the tuple:"
   ]
  },
  {
   "cell_type": "code",
   "execution_count": 39,
   "id": "c34b9d74-76d6-40e3-91fe-f7f2209ca5d0",
   "metadata": {},
   "outputs": [
    {
     "data": {
      "text/plain": [
       "(2, 4, 2, 2, 4, 2, 2, 4, 2)"
      ]
     },
     "execution_count": 39,
     "metadata": {},
     "output_type": "execute_result"
    }
   ],
   "source": [
    "(2,4,2)*3"
   ]
  },
  {
   "cell_type": "markdown",
   "id": "e88fd92a-2649-42d6-814f-fbc6d426047c",
   "metadata": {},
   "source": [
    "When a tuple is assigned to an expression with multiple variables, it is unpacked, and each variable is assigned a value based on the order of the elements in the tuple."
   ]
  },
  {
   "cell_type": "code",
   "execution_count": 46,
   "id": "a7be9bed-b672-4743-9b05-2a110ef4f208",
   "metadata": {},
   "outputs": [
    {
     "name": "stdout",
     "output_type": "stream",
     "text": [
      "2.5\n",
      "a string\n",
      "('Nested tuple', 8)\n"
     ]
    }
   ],
   "source": [
    "a,b,c  = (2.5, \"a string\", ((\"Nested tuple\",8)))\n",
    "print(a)\n",
    "print(b)\n",
    "print(c)"
   ]
  },
  {
   "cell_type": "markdown",
   "id": "e5117088-0b7a-4e0e-8b03-6000367379eb",
   "metadata": {},
   "source": [
    "\n",
    "If we only want to retrieve specific values from a tuple while ignoring others, we can use the expression *_ to discard the unwanted values. For example, if we need to extract only the first and the last two values of a tuple:"
   ]
  },
  {
   "cell_type": "code",
   "execution_count": 52,
   "id": "03495319-ea1c-492c-9f8c-f5ca496e92aa",
   "metadata": {},
   "outputs": [
    {
     "name": "stdout",
     "output_type": "stream",
     "text": [
      "2.5\n",
      "98\n",
      "99\n"
     ]
    }
   ],
   "source": [
    "a,*_,b,c  = (2.5, \"a string\", ((\"Nested tuple\",8)),\"98\",99)\n",
    "print(a)\n",
    "print(b)\n",
    "print(c)"
   ]
  },
  {
   "cell_type": "markdown",
   "id": "94a8b74d-1367-4d24-9e46-348b1b30868a",
   "metadata": {},
   "source": [
    "##  Practice \n",
    "Again, use the GDP tuple that contains the USA’s GDP per capita data from 1960 to 2021, with values arranged in ascending order (i.e., the first value corresponds to 1960, the second to 1961, and so on).\n",
    "\n",
    "Write a function with two parameters:\n",
    "\n",
    "* Year: Specifies the starting year for the GDP per capita data in the second parameter.\n",
    "* Tuple of GDP per capita values: A tuple containing the GDP per capita for consecutive years starting from the year provided in the first parameter.\n",
    "\n",
    "The function should return a tuple of two elements:\n",
    "* The first element is the count of years where the GDP per capita increased by more than 5%.\n",
    "* The second element is the most recent year when the GDP per capita increase was more than 5%.\n",
    "\n",
    "Call the function to determine the number of years and the most recent year where the GDP per capita increased by more than 5% since the year 2000. Store the number of years in a variable called num_years, and the most recent year in a variable called recent_year. Finally, print the values of num_years and recent_year."
   ]
  },
  {
   "cell_type": "code",
   "execution_count": null,
   "id": "a6e06b4c-4f80-4492-9968-2fa05b1b6b39",
   "metadata": {},
   "outputs": [],
   "source": [
    "#Write your solution here\n"
   ]
  },
  {
   "cell_type": "markdown",
   "id": "99cac610-09db-479a-a71e-47fc5491698b",
   "metadata": {},
   "source": [
    "## Tuple methods\n",
    "\n",
    "Two useful tuple methods are count, which returns the number of times an element appears in the tuple, and index, which gives the position of the first occurrence of an element in the tuple."
   ]
  },
  {
   "cell_type": "code",
   "execution_count": 56,
   "id": "41b5a298-78b0-4493-8b5f-6b620f780e71",
   "metadata": {},
   "outputs": [
    {
     "data": {
      "text/plain": [
       "4"
      ]
     },
     "execution_count": 56,
     "metadata": {},
     "output_type": "execute_result"
    }
   ],
   "source": [
    "tuple_ex = (2,4,2,7,87,4,2,2)\n",
    "tuple_ex.count(2)  #don't forget tabbing"
   ]
  },
  {
   "cell_type": "code",
   "execution_count": 58,
   "id": "32255875-6e97-459a-be06-e76018532d94",
   "metadata": {},
   "outputs": [
    {
     "data": {
      "text/plain": [
       "0"
      ]
     },
     "execution_count": 58,
     "metadata": {},
     "output_type": "execute_result"
    }
   ],
   "source": [
    "tuple_ex.index(2)"
   ]
  },
  {
   "cell_type": "markdown",
   "id": "e9d00a89-815f-41da-aff4-3268b44d68ae",
   "metadata": {},
   "source": [
    "# List Data Structure"
   ]
  },
  {
   "cell_type": "markdown",
   "id": "7be56550-1e02-440a-90f3-050a0564ba34",
   "metadata": {},
   "source": [
    "A **list** is a sequence of Python objects with two key characteristics that distinguish it from a tuple:\n",
    "1. The number of objects is flexible, meaning items can be added or removed from a list.\n",
    "2. The objects are mutable, meaning their values can be modified.\n",
    "\n",
    "A list is defined as a sequence of Python objects separated by commas and enclosed in square brackets `[]`. For example, here’s a list containing three integers:"
   ]
  },
  {
   "cell_type": "code",
   "execution_count": 90,
   "id": "a684a29c-816a-43c0-8dab-e2941fc64bb1",
   "metadata": {},
   "outputs": [],
   "source": [
    "list_ex = [2,4,2]"
   ]
  },
  {
   "cell_type": "markdown",
   "id": "41ea01c9-4372-4c9a-9892-676018f4e014",
   "metadata": {},
   "source": [
    "### Adding and Removing Elements in a List\n",
    "\n",
    "We can add elements to the end of a list using the `append` method. For example, we can append the string `'dog'` to the `list_ex` list as shown below:"
   ]
  },
  {
   "cell_type": "code",
   "execution_count": 92,
   "id": "a9506abf-819a-48c8-aa2f-25a2f6a24928",
   "metadata": {},
   "outputs": [
    {
     "name": "stdout",
     "output_type": "stream",
     "text": [
      "[2, 4, 2, 'dog']\n"
     ]
    }
   ],
   "source": [
    "list_ex.append('dog')\n",
    "print(list_ex)"
   ]
  },
  {
   "cell_type": "markdown",
   "id": "9015803a-7bb4-43a4-99dc-6cd56f77d39d",
   "metadata": {},
   "source": [
    "Note that the elements of a list or a tuple can be of different data types.\n",
    "\n",
    "To add an element at a specific position in a list, we can use the `insert` method. For example, to insert the number `2.42` as the second element in the `list_ex`, we can do the following:"
   ]
  },
  {
   "cell_type": "code",
   "execution_count": 94,
   "id": "fba00abd-8cbb-4fab-9f02-83db8cf2d0b8",
   "metadata": {},
   "outputs": [
    {
     "name": "stdout",
     "output_type": "stream",
     "text": [
      "[2, 2.42, 4, 2, 'dog']\n"
     ]
    }
   ],
   "source": [
    "list_ex.insert(1,2.42)\n",
    "print(list_ex)"
   ]
  },
  {
   "cell_type": "markdown",
   "id": "a05c86df-b7f4-412d-8975-00ccfec06e45",
   "metadata": {},
   "source": [
    "To remove an element from a list, you can use either the `pop` or `remove` method. The `pop` method removes an element at a specific index, while the `remove` method removes the first occurrence of an element by its value. See the examples below:"
   ]
  },
  {
   "cell_type": "code",
   "execution_count": 96,
   "id": "46198291-fef7-49ab-a037-77d9b46463eb",
   "metadata": {},
   "outputs": [
    {
     "name": "stdout",
     "output_type": "stream",
     "text": [
      "dog\n",
      "4\n",
      "[2, 2.42, 2]\n"
     ]
    }
   ],
   "source": [
    "a=list_ex.pop()  #if no index is given it removes the end value\n",
    "print(a)\n",
    "b=list_ex.pop(2)\n",
    "print(b)\n",
    "print(list_ex)  #the end element and the item at index 2 is removed"
   ]
  },
  {
   "cell_type": "code",
   "execution_count": 98,
   "id": "4ef80884-87d8-48c0-9502-f0def33af999",
   "metadata": {},
   "outputs": [
    {
     "data": {
      "text/plain": [
       "[3, 2, 4, 4]"
      ]
     },
     "execution_count": 98,
     "metadata": {},
     "output_type": "execute_result"
    }
   ],
   "source": [
    "list_ex2 = [2,3,2,4,4]\n",
    "list_ex2.remove(2)  #removes the first occurrence of the value 2\n",
    "list_ex2"
   ]
  },
  {
   "cell_type": "code",
   "execution_count": 108,
   "id": "6e1419a6-28d4-427a-8e60-c60a9f7f35f2",
   "metadata": {},
   "outputs": [
    {
     "name": "stdout",
     "output_type": "stream",
     "text": [
      "[95, 96, 97, 98, 99, 100, 101, 102, 103, 104, 105]\n",
      "95\n",
      "96\n",
      "97\n",
      "98\n",
      "99\n",
      "100\n",
      "101\n",
      "102\n",
      "103\n",
      "104\n",
      "105\n",
      "[100, 101, 102, 103, 104, 105]\n"
     ]
    }
   ],
   "source": [
    "list_ex3 = list(range(95,106))\n",
    "print(list_ex3)\n",
    "for num in list(list_ex3):\n",
    "    print(num)\n",
    "    if num<100:\n",
    "        list_ex3.remove(num)\n",
    "print(list_ex3)\n",
    "\n",
    "\n"
   ]
  },
  {
   "cell_type": "code",
   "execution_count": null,
   "id": "70e07baf-c7df-4aea-8491-c711066fb094",
   "metadata": {},
   "outputs": [],
   "source": []
  }
 ],
 "metadata": {
  "kernelspec": {
   "display_name": "Python [conda env:base] *",
   "language": "python",
   "name": "conda-base-py"
  },
  "language_info": {
   "codemirror_mode": {
    "name": "ipython",
    "version": 3
   },
   "file_extension": ".py",
   "mimetype": "text/x-python",
   "name": "python",
   "nbconvert_exporter": "python",
   "pygments_lexer": "ipython3",
   "version": "3.12.7"
  }
 },
 "nbformat": 4,
 "nbformat_minor": 5
}
