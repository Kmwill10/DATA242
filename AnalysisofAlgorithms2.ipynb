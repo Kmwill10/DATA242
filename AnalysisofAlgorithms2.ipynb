{
 "cells": [
  {
   "cell_type": "markdown",
   "id": "4d415afc-0d20-403c-93f5-8c3d6892e986",
   "metadata": {},
   "source": [
    "##  Big-O Notation\n",
    "Big-O helps measure how an algorithm’s performance scales with input size.  Last time, we looked at code and learned how to analyze the Big-O performance. It is important to note that Big-O provides an upper bound.  In Big-O notation, the upper bound describes the worst-case scenario for an algorithm’s growth rate as the input size n increases. It provides a guarantee that an algorithm will not take more than a certain amount of time (or space), regardless of input variations.\n",
    "\n",
    "(You should always provide the tightest bound Big-O.  I'll talk about this more in class.\n",
    "\n",
    "In data analytics, working with large datasets means understanding computational efficiency is crucial.\n",
    "\n",
    "### Common Big-O Complexities:\n",
    "O(1) (Constant Time): Direct access, e.g., dictionary lookups.\n",
    "\n",
    "O(log n) (Logarithmic Time): Efficient searching, e.g., binary search (list is sorted).\n",
    "\n",
    "O(n) (Linear Time): Iterating over data, e.g., scanning a dataset.\n",
    "\n",
    "O(n log n) (Log-Linear Time): Efficient sorting.\n",
    "\n",
    "O(n²) (Quadratic Time): Nested loops\n",
    "\n",
    "\n",
    "### Why It Matters in Data Analytics?\n",
    "1.  Helps choose the best algorithms for large datasets.\n",
    "2.  Optimizes data abstraction and data transformations.  (later we'll call this query)\n",
    "3.  Reduces runtime in machine learning preprocessing steps."
   ]
  },
  {
   "cell_type": "markdown",
   "id": "db77b6b7-72e7-4203-8bde-4382f1e65a65",
   "metadata": {},
   "source": [
    "## Key Data Structures in Python\n",
    "\n",
    "### 1. Lists (Python Arrays): Used for storing ordered data.\n",
    "\n",
    "Python lists are dynamic arrays that can grow and shrink as needed. Unlike arrays in languages like C, which have fixed sizes, Python lists automatically handle memory reallocation when elements are added or removed.\n",
    "\n"
   ]
  },
  {
   "cell_type": "markdown",
   "id": "c2d787ac-afba-4411-80f1-ccc254d9d402",
   "metadata": {},
   "source": [
    "A Python list is a contiguous block of memory that holds references (pointers) to objects rather than storing the objects themselves.\n",
    "\n",
    "Since Python lists store references instead of raw values, they can hold different data types in the same list."
   ]
  },
  {
   "cell_type": "code",
   "execution_count": 14,
   "id": "f271c9c6-e995-4d87-84dd-bed86267f8c3",
   "metadata": {},
   "outputs": [],
   "source": [
    "my_list = [10, 20, \"hello\", 3.14, True]\n",
    "\n",
    "#Each element in the list is a reference to an object stored elsewhere in memory.\n",
    "\n",
    "#Index\tValue\tMemory Reference\n",
    "#0\t  10\t   Pointer to integer\n",
    "#1\t  20\t   Pointer to integer\n",
    "#2\t  \"hello\"  Pointer to string\n",
    "#3\t  3.14\t   Pointer to float\n",
    "#4\t  True\t   Pointer to boolean"
   ]
  },
  {
   "cell_type": "markdown",
   "id": "2416d737-008b-4d1f-ac4d-23b2ce273453",
   "metadata": {},
   "source": [
    "### Python Lists Are Dynamically Allocated\n",
    "\n",
    "Python uses dynamic array allocation to handle resizing efficiently. When a list grows beyond its current capacity, Python allocates a larger chunk of memory and copies existing elements.\n",
    "\n",
    "When a list is created, Python allocates a small block of memory (e.g., for 0 or a few elements).\n",
    "As elements are added, Python initially uses extra allocated space (overallocation).\n",
    "\n",
    "If the list outgrows its allocated space, Python:\n",
    "* Allocates new memory, typically doubling the previous capacity.\n",
    "* Copies existing elements to the new memory block.\n",
    "* Frees the old memory."
   ]
  },
  {
   "cell_type": "code",
   "execution_count": 16,
   "id": "3e18d3c6-d444-4dc3-b9b9-ee86a1fc7687",
   "metadata": {},
   "outputs": [
    {
     "name": "stdout",
     "output_type": "stream",
     "text": [
      "56\n",
      "Length: 1, Size in bytes: 88\n",
      "Length: 2, Size in bytes: 88\n",
      "Length: 3, Size in bytes: 88\n",
      "Length: 4, Size in bytes: 88\n",
      "Length: 5, Size in bytes: 120\n",
      "Length: 6, Size in bytes: 120\n",
      "Length: 7, Size in bytes: 120\n",
      "Length: 8, Size in bytes: 120\n",
      "Length: 9, Size in bytes: 184\n",
      "Length: 10, Size in bytes: 184\n"
     ]
    }
   ],
   "source": [
    "import sys\n",
    "\n",
    "my_list = []\n",
    "print(sys.getsizeof(my_list))  # Initial size\n",
    "\n",
    "for i in range(10):\n",
    "    my_list.append(i)\n",
    "    print(f\"Length: {len(my_list)}, Size in bytes: {sys.getsizeof(my_list)}\")"
   ]
  },
  {
   "cell_type": "markdown",
   "id": "adeb9433-3e0a-4dc5-9592-0b3aad72ca98",
   "metadata": {},
   "source": [
    "Now that we know **HOW** these are implemented we can label the time complexity of the common functions.  But before we do that let's talk about best case and worst case scenarios. \n",
    "\n",
    "When analyzing an algorithm’s performance, we often consider best-case, worst-case, and sometimes average-case scenarios. Average-case is hard to calculate because you need to know what the average case looks like.\n",
    "\n"
   ]
  },
  {
   "cell_type": "code",
   "execution_count": 22,
   "id": "88d6c6c3-4580-4680-a986-ece68c0fb211",
   "metadata": {},
   "outputs": [],
   "source": [
    "#  Common list operations  with Worst Case Big-O\n",
    "\n",
    "#append(x) Most inserts don’t require reallocation  \n",
    "   #best case of append(x):\n",
    "#insert(i, x)\tShifts elements after index i\n",
    "#pop()\t\tRemoves last element\n",
    "#pop(i)\t\tShifts elements after i\n",
    "#remove(x)\tSearches for x, then shifts elements\n",
    "#index(x)\tLinear search for x\n",
    "#sort()\t\tUses Timsort algorithm"
   ]
  },
  {
   "cell_type": "markdown",
   "id": "14775f92-6b35-4412-8739-1edc454b3ade",
   "metadata": {},
   "source": [
    "### 2. Dictionaries  (Hash Tables/Hash Maps)\n",
    "\n",
    "Dictionaires are used for fast key-value lookups. A dictionary is a hash table that maps keys to values. Internally, it consists of:\n",
    "\n",
    "* A dynamic array (table): Stores entries (key-value pairs).\n",
    "* A hash function: Converts keys into hash values.\n",
    "* Collision resolution using open addressing: If two keys hash to the same index, Python finds another open slot.\n",
    "\n"
   ]
  },
  {
   "cell_type": "code",
   "execution_count": 28,
   "id": "63e319a5-53cd-4c47-9497-2325e72aee8f",
   "metadata": {},
   "outputs": [
    {
     "name": "stdout",
     "output_type": "stream",
     "text": [
      "4766086965612292746\n",
      "1578670623773638261\n",
      "-8616247648330118711\n"
     ]
    }
   ],
   "source": [
    "my_dict = {\"name\": \"Tilly\", \"age\": 2, \"color\": \"piebald\"}\n",
    "#Each key is hashed to determine its position in memory.\n",
    "#Each value is stored alongside its key.\n",
    "\n",
    "\n",
    "\n",
    "#Python dictionaries use the built-in hash() function to generate an integer from a key.\n",
    "#These hash values determine where in memory the key-value pairs will be stored.\n",
    "\n",
    "print(hash(\"name\"))  \n",
    "print(hash(\"age\"))  \n",
    "print(hash(\"color\")) \n",
    "\n",
    "\n",
    "\n"
   ]
  },
  {
   "cell_type": "markdown",
   "id": "61c63948-edbd-4819-837d-5f9429d94522",
   "metadata": {},
   "source": [
    "(We will draw a diagram on the board)\n",
    "\n",
    "Each key-value pair is stored in a table (array of fixed size). The hash function determines the index.\n",
    "\n",
    "Compute hash(\"name\") → Produces an integer.\n",
    "Map this integer to an index in the table using:\n",
    "* index=hash(key)mod table size\n",
    "* Store the key-value pair at that index.\n",
    "\n",
    "This is not a complete solution because keys could \"hash\" into the same place in the table, so we'd need a way to deal with collisions.  This is not in the scope of this class, but if the table is big enough, you should not have to worry about this much.\n",
    "\n",
    "\n",
    "\n",
    "### Dictionary Growth and Resizing\n",
    "\n",
    "Python preallocates extra space to minimize resizing.\n",
    "\n",
    "If a dictionary becomes too full (~2/3 capacity), Python:\n",
    "* Allocates a larger table (typically 2× size)\n",
    "* Rehashes all keys and moves them to the new table.\n",
    "\n",
    "\n"
   ]
  },
  {
   "cell_type": "code",
   "execution_count": 37,
   "id": "72b815a7-4e2a-4552-96e9-95df3883bbcc",
   "metadata": {},
   "outputs": [
    {
     "name": "stdout",
     "output_type": "stream",
     "text": [
      "64\n",
      "Size: 224, Length: 1\n",
      "Size: 224, Length: 2\n",
      "Size: 224, Length: 3\n",
      "Size: 224, Length: 4\n",
      "Size: 224, Length: 5\n",
      "Size: 352, Length: 6\n",
      "Size: 352, Length: 7\n",
      "Size: 352, Length: 8\n",
      "Size: 352, Length: 9\n",
      "Size: 352, Length: 10\n",
      "Size: 632, Length: 11\n",
      "Size: 632, Length: 12\n",
      "Size: 632, Length: 13\n",
      "Size: 632, Length: 14\n",
      "Size: 632, Length: 15\n",
      "Size: 632, Length: 16\n",
      "Size: 632, Length: 17\n",
      "Size: 632, Length: 18\n",
      "Size: 632, Length: 19\n",
      "Size: 632, Length: 20\n",
      "Size: 632, Length: 21\n",
      "Size: 1168, Length: 22\n",
      "Size: 1168, Length: 23\n",
      "Size: 1168, Length: 24\n",
      "Size: 1168, Length: 25\n",
      "Size: 1168, Length: 26\n",
      "Size: 1168, Length: 27\n",
      "Size: 1168, Length: 28\n",
      "Size: 1168, Length: 29\n",
      "Size: 1168, Length: 30\n"
     ]
    }
   ],
   "source": [
    "import sys\n",
    "\n",
    "d = {}\n",
    "print(sys.getsizeof(d))  # Initial size\n",
    "\n",
    "for i in range(30):\n",
    "    d[i] = i\n",
    "    print(f\"Size: {sys.getsizeof(d)}, Length: {len(d)}\")"
   ]
  },
  {
   "cell_type": "code",
   "execution_count": 39,
   "id": "59a98509-e6e0-455f-ba19-632131842c39",
   "metadata": {},
   "outputs": [],
   "source": [
    "#Operation\t               Average Case   \tWorst Case\n",
    "#Insert (d[key] = value)\t\t                     (if resize is needed)\n",
    "#Lookup (d[key])\t                                 (if collisions are excessive)\n",
    "#Delete (del d[key])"
   ]
  },
  {
   "cell_type": "code",
   "execution_count": 41,
   "id": "17355391-6459-4b55-8db9-6ba3a0aeacf7",
   "metadata": {},
   "outputs": [],
   "source": [
    "# What is the take home message about dictionaries?"
   ]
  },
  {
   "cell_type": "code",
   "execution_count": null,
   "id": "421b20da-a296-457d-9799-aba2d144d135",
   "metadata": {},
   "outputs": [],
   "source": []
  },
  {
   "cell_type": "code",
   "execution_count": null,
   "id": "e75d7a90-ab36-494a-ae90-ea51d6a791c4",
   "metadata": {},
   "outputs": [],
   "source": []
  }
 ],
 "metadata": {
  "kernelspec": {
   "display_name": "Python [conda env:base] *",
   "language": "python",
   "name": "conda-base-py"
  },
  "language_info": {
   "codemirror_mode": {
    "name": "ipython",
    "version": 3
   },
   "file_extension": ".py",
   "mimetype": "text/x-python",
   "name": "python",
   "nbconvert_exporter": "python",
   "pygments_lexer": "ipython3",
   "version": "3.12.7"
  }
 },
 "nbformat": 4,
 "nbformat_minor": 5
}
