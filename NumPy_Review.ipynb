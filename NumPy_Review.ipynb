{
 "cells": [
  {
   "cell_type": "markdown",
   "id": "d132a7ef-582d-4d3c-8d5e-bd024f2e7d11",
   "metadata": {},
   "source": [
    "# Lab: Social Media Engagement Analysis\n",
    "\n",
    "**Objective:**  \n",
    "Use Pandas and NumPy to clean, explore, and analyze a social media posts dataset, computing engagement metrics and identifying high‑engagement content.\n",
    "\n",
    "**Dataset:**  \n",
    "Download the dataset social_media_data.csv\n",
    "It contains 500 posts with these columns:\n",
    "- **post_id**: unique identifier for each post  \n",
    "- **user_id**: identifier for the user who made the post (1–50)  \n",
    "- **timestamp**: date and time of the post  \n",
    "- **content_length**: number of characters in the post  \n",
    "- **likes**, **shares**, **comments**: counts of interactions  \n",
    "- **sentiment_score**: sentiment polarity (–1 to 1)  \n",
    "- **follower_count**: number of followers the user had at posting time  \n",
    "\n",
    "## Part 1: Data Loading & Initial Inspection\n",
    "\n",
    "Load the dataset into a DataFrame:\n",
    "Display the first 10 rows and use df.info() to inspect data types and non-null counts.\n",
    "Check for any missing values in each column.\n",
    "\n"
   ]
  },
  {
   "cell_type": "code",
   "execution_count": null,
   "id": "81276cac-34dd-4808-b298-5ab9fe2a9b25",
   "metadata": {},
   "outputs": [],
   "source": [
    "#Part 1"
   ]
  },
  {
   "cell_type": "markdown",
   "id": "adf93d64-6f16-4ee0-8b05-5b79decf0e11",
   "metadata": {},
   "source": [
    "## Part 2: Cleaning & Date Handling\n",
    "\n",
    "Convert the timestamp column to datetime64 and set it as the DataFrame’s index.\n",
    "Sort the DataFrame by index (chronological order).\n",
    "\n",
    "\n"
   ]
  },
  {
   "cell_type": "code",
   "execution_count": null,
   "id": "b3791983-a46d-479f-89bb-2832574411ec",
   "metadata": {},
   "outputs": [],
   "source": [
    "#Part 2"
   ]
  },
  {
   "cell_type": "markdown",
   "id": "6e6cf948-b9d8-4345-8511-ff9977c131f5",
   "metadata": {},
   "source": [
    "## Part 3: NumPy Basics & Summary Statistics\n",
    "\n",
    "Extract the likes, shares, and comments columns as a NumPy array and compute:\n",
    "* Mean interaction count\n",
    "* Standard deviation\n",
    "\n"
   ]
  },
  {
   "cell_type": "code",
   "execution_count": null,
   "id": "3c85c3b2-d5ca-4616-9b62-7803b6cbb7a2",
   "metadata": {},
   "outputs": [],
   "source": [
    "#Part 3"
   ]
  },
  {
   "cell_type": "markdown",
   "id": "25093a8c-0e62-4675-a2dd-964b94b7065e",
   "metadata": {},
   "source": [
    "## Part 4: Computing Engagement Rate\n",
    "\n",
    "Use broadcasting to create a new column:\n",
    "engagement_rate = (likes + shares + comments) / follower_count\n",
    "Add it to the DataFrame.\n",
    "Display the top 10 posts by engagement_rate.\n",
    "\n"
   ]
  },
  {
   "cell_type": "code",
   "execution_count": null,
   "id": "9fb5e2c4-4509-4b7c-9f60-d7865de1dc90",
   "metadata": {},
   "outputs": [],
   "source": [
    "#Part 4"
   ]
  },
  {
   "cell_type": "markdown",
   "id": "b981b489-ef3d-46b2-8ab9-ed53ec78d4f2",
   "metadata": {},
   "source": [
    "## Part 5: Z‑Scores & High‑Engagement Flag\n",
    "\n",
    "Compute the z-score for each post’s engagement rate using NumPy.  To calculate a z-score, subtract the population mean from the individual raw score, and then divide the result by the population standard deviation. The formula is: z = (x - μ) / σ, where 'x' is the raw score, 'μ' is the population mean, and 'σ' is the population standard deviation.  \n",
    "Add a Boolean column high_engagement that’s True if z‑score > 1.\n",
    "\n"
   ]
  },
  {
   "cell_type": "code",
   "execution_count": null,
   "id": "8883d113-6a0b-4778-bde8-63a59be0d87b",
   "metadata": {},
   "outputs": [],
   "source": [
    "#Part 5"
   ]
  },
  {
   "cell_type": "markdown",
   "id": "46a2efd7-2cdd-4145-ad3c-d827eb33104d",
   "metadata": {},
   "source": [
    "## Part 6: Grouped Analysis\n",
    "\n",
    "Group by user_id and calculate each user’s:\n",
    "Average engagement rate\n",
    "Total number of posts\n",
    "Sort users by average engagement rate (descending) and display the top 5.\n",
    "\n"
   ]
  },
  {
   "cell_type": "code",
   "execution_count": null,
   "id": "3512a2c7-6b82-468c-b69e-f9a160ed2b03",
   "metadata": {},
   "outputs": [],
   "source": [
    "#Part 6"
   ]
  },
  {
   "cell_type": "markdown",
   "id": "bf771e93-47df-485b-b4a4-2eb1c98df6f1",
   "metadata": {},
   "source": [
    "## Part 7: Correlation & Advanced NumPy (Bonus stuff)\n",
    "\n",
    "Convert the content_length and engagement_rate columns to NumPy arrays.\n",
    "Google the Pearson correlation coefficient:)  Briefly copy paste what it is and how we can use it.  Calculate the Pearson correlation coefficient between content length and engagement rate using NumPy’s vectorized operations.  What does this tell us?  (This will not be on a test.)  \n",
    "\n"
   ]
  },
  {
   "cell_type": "code",
   "execution_count": null,
   "id": "92167a2c-1c08-45f4-901b-a9cdb7f8c686",
   "metadata": {},
   "outputs": [],
   "source": [
    "#Part 7"
   ]
  },
  {
   "cell_type": "markdown",
   "id": "5a06221b-9d73-440f-a91f-f2cae7a9d5ec",
   "metadata": {},
   "source": [
    "## Part 8: Exporting Results\n",
    "\n",
    "Save the updated DataFrame (with new columns) to analysis_results.csv:\n",
    "\n",
    "df.to_csv('analysis_results.csv', index=False)\n",
    "\n"
   ]
  },
  {
   "cell_type": "code",
   "execution_count": null,
   "id": "7e62ed4a-2d1b-4340-aa9b-131d79a9b61b",
   "metadata": {},
   "outputs": [],
   "source": [
    "#Part 8\n"
   ]
  },
  {
   "cell_type": "markdown",
   "id": "6f40a549-20f2-4d32-a459-28ba0be3f1e3",
   "metadata": {},
   "source": [
    "## Part 9: Plotting and Investigating Trends:\n",
    "\n",
    "Plot the distribution of engagement_rate with Matplotlib.\n",
    "Identify any time‑based trends (e.g., average engagement by hour of day)."
   ]
  },
  {
   "cell_type": "code",
   "execution_count": null,
   "id": "9fda43b4-3498-49b3-a08b-c46208d7624d",
   "metadata": {},
   "outputs": [],
   "source": []
  }
 ],
 "metadata": {
  "kernelspec": {
   "display_name": "Python [conda env:base] *",
   "language": "python",
   "name": "conda-base-py"
  },
  "language_info": {
   "codemirror_mode": {
    "name": "ipython",
    "version": 3
   },
   "file_extension": ".py",
   "mimetype": "text/x-python",
   "name": "python",
   "nbconvert_exporter": "python",
   "pygments_lexer": "ipython3",
   "version": "3.12.2"
  }
 },
 "nbformat": 4,
 "nbformat_minor": 5
}
