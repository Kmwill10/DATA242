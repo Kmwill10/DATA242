{
 "cells": [
  {
   "cell_type": "markdown",
   "id": "153a51b7-4100-4178-963b-e3ad08a30cbc",
   "metadata": {},
   "source": [
    "# Lab:  Airline Routes Analysis\n",
    "\n",
    "1. **Data Overview:**  \n",
    "   - Load the CSV file and print the first 10 rows.  \n",
    "   - Identify and describe the columns in the dataset. What does each column represent?\n",
    "\n",
    "2. **Descriptive Statistics:**  \n",
    "   - Calculate the mean, median, and standard deviation for both flight distances and ticket costs.  \n",
    "   - What do these statistics tell you about the variability in flight distances and ticket pricing?\n",
    "\n",
    "3. **Graph Construction:**  \n",
    "   - Build a directed graph using NetworkX from the dataset.  \n",
    "   - Discuss the benefits of visualizing airline routes as a graph. How does this help in understanding the overall network connectivity?\n",
    "\n",
    "4. **Route Analysis:**  \n",
    "   - Using Dijkstra’s algorithm, determine the shortest route (by flight distance) between `JFK` and `LAX`.  \n",
    "   - Determine the cheapest route (by ticket cost) for the same pair of airports.  \n",
    "   - Compare the two paths: Why might they differ? What factors could influence a traveler’s decision when choosing a route?\n",
    "\n",
    "5. **Connection Metrics:**  \n",
    "   - Compute the number of outbound flights per airport. Which airport appears to be the busiest in terms of departures?  \n",
    "   - Compute the number of inbound flights per airport. Is there an airport that stands out as a major arrival hub?\n",
    "\n",
    "6. **Cost Analysis:**  \n",
    "   - For each airport, calculate the average and standard deviation of ticket costs for outbound flights.  \n",
    "   - What might a high standard deviation indicate about ticket pricing at a specific airport?\n",
    "\n",
    "7. **Visualization and Correlation:**  \n",
    "   - Plot a histogram to show the distribution of ticket costs. What does the shape of the histogram suggest about the data?  \n",
    "   - Create a scatter plot of flight distance versus ticket cost. Is there an observable correlation between the two? Discuss any trends you observe.\n",
    "\n",
    "8. **Reflection and Extension:**  \n",
    "   - What insights can you draw from the differences between the shortest (by distance) route and the cheapest (by cost) route?  \n",
    "   - If you were a data analyst for an airline company, how might you use this data to inform business strategies such as pricing adjustments and route planning?  \n",
    "   - *(Optional)* Modify the dataset—either by generating additional routes or adjusting existing values—and observe how the statistics and graph change. Report your findings and insights.\n"
   ]
  },
  {
   "cell_type": "code",
   "execution_count": 3,
   "id": "7f2cff2a-fec0-43e6-a3a6-d5de5ab7cbb9",
   "metadata": {},
   "outputs": [],
   "source": [
    "#This code generates a file with random flights...\n",
    "\n",
    "import random\n",
    "import csv\n",
    "\n",
    "# List of sample airports.\n",
    "airports = ['JFK', 'ATL', 'ORD', 'DFW', 'LAX', 'MIA', 'SFO', 'SEA', 'DEN', 'BOS']\n",
    "\n",
    "# Set a seed for reproducibility.\n",
    "random.seed(42)\n",
    "\n",
    "# Create 400 entries.\n",
    "num_entries = 400\n",
    "\n",
    "with open('airline_routes.csv', 'w', newline='') as csvfile:\n",
    "    writer = csv.writer(csvfile)\n",
    "    # Write header.\n",
    "    writer.writerow([\"source\", \"destination\", \"flight_distance_km\", \"ticket_cost\"])\n",
    "    for _ in range(num_entries):\n",
    "        src = random.choice(airports)\n",
    "        dest = random.choice(airports)\n",
    "        # Ensure source and destination are not the same.\n",
    "        while dest == src:\n",
    "            dest = random.choice(airports)\n",
    "        # Random flight distance between 300 km and 5000 km.\n",
    "        flight_distance = random.randint(300, 5000)\n",
    "        # Random ticket cost between $100 and $800.\n",
    "        ticket_cost = random.randint(100, 800)\n",
    "        writer.writerow([src, dest, flight_distance, ticket_cost])"
   ]
  },
  {
   "cell_type": "code",
   "execution_count": null,
   "id": "26563fc5-25a1-46e4-809d-d67f47d77b63",
   "metadata": {},
   "outputs": [],
   "source": []
  }
 ],
 "metadata": {
  "kernelspec": {
   "display_name": "Python [conda env:base] *",
   "language": "python",
   "name": "conda-base-py"
  },
  "language_info": {
   "codemirror_mode": {
    "name": "ipython",
    "version": 3
   },
   "file_extension": ".py",
   "mimetype": "text/x-python",
   "name": "python",
   "nbconvert_exporter": "python",
   "pygments_lexer": "ipython3",
   "version": "3.12.2"
  }
 },
 "nbformat": 4,
 "nbformat_minor": 5
}
