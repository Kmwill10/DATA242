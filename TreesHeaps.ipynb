{
 "cells": [
  {
   "cell_type": "markdown",
   "id": "0d70fef6-f471-4486-aef8-45df186189e2",
   "metadata": {},
   "source": [
    "## Trees and Heaps \n",
    "Trees and heaps help with data organization, efficient searching, and prioritization. \n",
    "\n",
    "Trees are used in hierarchical data representations (e.g., decision trees in machine learning). Binary Search Trees (BST) are a special class of trees that allow efficient searching, insertion, and deletion.  Today we'll look at an example. Tree traversal (preorder, inorder, postorder) is useful in many algorithms.  Tree traversals are always written recursively.\n",
    "\n",
    "Heaps are efficient for priority queues (used in scheduling).  You can think of priority queues as \"lines\" indicating the task or data to process next. Min-heaps and max-heaps help in quick retrieval of the smallest/largest elements.  Heaps are used in important algorithms like Dijkstra’s shortest path and Heap Sort.\n",
    "\n",
    "### Binary Search Tree (BTS) \n",
    "\n",
    "A BST is a hierarchical data structure where:\n",
    "\n",
    "* Each node has at most two children.\n",
    "* The left child contains values less than the parent node.\n",
    "* The right child contains values greater than the parent node.\n",
    "\n",
    "When to use BSTs: Fast searching and sorting, e.g., searching for a record in sorted datasets, decision trees, indexing data, efficient search within ranges.  (Note: not as fast as hash tables/dictionaries for lookups)\n",
    "\n",
    "\n",
    "\n",
    "\n",
    "\n"
   ]
  },
  {
   "cell_type": "code",
   "execution_count": 9,
   "id": "9bc9f82e-47b3-4446-a302-72482e9a5541",
   "metadata": {},
   "outputs": [
    {
     "name": "stdout",
     "output_type": "stream",
     "text": [
      "20 30 40 50 60 70 80 "
     ]
    }
   ],
   "source": [
    "class Node:\n",
    "    def __init__(self, key):\n",
    "        self.key = key\n",
    "        self.left = None\n",
    "        self.right = None\n",
    "\n",
    "class BST:\n",
    "    def __init__(self):\n",
    "        self.root = None\n",
    "\n",
    "    def insert(self, key):\n",
    "        self.root = self._insert_recursive(self.root, key)\n",
    "\n",
    "    def _insert_recursive(self, root, key):\n",
    "        if root is None:\n",
    "            return Node(key)\n",
    "        if key < root.key:\n",
    "            root.left = self._insert_recursive(root.left, key)\n",
    "        else:\n",
    "            root.right = self._insert_recursive(root.right, key)\n",
    "        return root\n",
    "\n",
    "    def inorder_traversal(self):\n",
    "        if self.root:\n",
    "            self.inorder_traversal_aux(self.root)\n",
    "\n",
    "\n",
    "    def inorder_traversal_aux(self, subroot):\n",
    "        if subroot:\n",
    "            self.inorder_traversal_aux(subroot.left)\n",
    "            print(subroot.key, end=\" \")\n",
    "            self.inorder_traversal_aux(subroot.right)\n",
    "\n",
    "\n",
    "# Example usage:\n",
    "bst = BST()\n",
    "for num in [50, 30, 70, 20, 40, 60, 80]:\n",
    "    bst.insert(num)\n",
    "\n",
    "bst.inorder_traversal()  # Outputs: 20 30 40 50 60 70 80"
   ]
  },
  {
   "cell_type": "code",
   "execution_count": null,
   "id": "bcd24d8e-6d79-4ecf-a304-eedb0d3087c3",
   "metadata": {},
   "outputs": [],
   "source": [
    "#What is the big-O?\n"
   ]
  },
  {
   "cell_type": "markdown",
   "id": "dcf6afa2-e476-4c09-b8df-a3699ce7316d",
   "metadata": {},
   "source": [
    "### Heaps (Priority Queues)\n",
    "\n",
    "A heap is a specialized tree-based data structure:\n",
    "\n",
    "* A Min-Heap ensures that the smallest element is always at the root.\n",
    "* A Max-Heap ensures that the largest element is always at the root.\n",
    "\n",
    "Used for priority queues, sorting, and efficient data retrieval.  Behind the scenes a heap is usually stored as an array.  You'd learn more about this in a CS class.\n",
    "\n",
    "Advantage: Used in finding the smallest/largest k elements, scheduling tasks, and efficient sorting."
   ]
  },
  {
   "cell_type": "code",
   "execution_count": 13,
   "id": "95c5330b-8b1f-4ebe-b8aa-274c664e77ad",
   "metadata": {},
   "outputs": [
    {
     "name": "stdout",
     "output_type": "stream",
     "text": [
      "5\n",
      "1\n"
     ]
    }
   ],
   "source": [
    "import heapq\n",
    "\n",
    "# Create a Min-Heap\n",
    "heap = []\n",
    "heapq.heappush(heap, 10)\n",
    "heapq.heappush(heap, 5)\n",
    "heapq.heappush(heap, 30)\n",
    "heapq.heappush(heap, 20)\n",
    "\n",
    "print(heapq.heappop(heap))  # Outputs: 5 (smallest element)\n",
    "\n",
    "# Convert a list into a heap\n",
    "data = [15, 3, 8, 20, 1]\n",
    "heapq.heapify(data)\n",
    "\n",
    "print(heapq.heappop(data))  # Outputs: 1 (smallest element)\n",
    "\n"
   ]
  },
  {
   "cell_type": "markdown",
   "id": "0fb09c91-f95c-42db-9d2b-6d5a26e5a18e",
   "metadata": {},
   "source": [
    "### More heap operations\n",
    "\n",
    "**heapq.heapify()** is a special funtion that transforms the list into a Min-Heap.\n",
    "\n",
    "**heapq.heappop()** retrieves the smallest element and takes it off the heap.\n"
   ]
  },
  {
   "cell_type": "code",
   "execution_count": 17,
   "id": "5dffb117-9ce3-4975-a02b-9098840522b6",
   "metadata": {},
   "outputs": [
    {
     "name": "stdout",
     "output_type": "stream",
     "text": [
      "3 Cheapest Products: [10, 20, 30]\n"
     ]
    }
   ],
   "source": [
    "import heapq\n",
    "\n",
    "# Product prices dataset\n",
    "prices = [100, 50, 30, 20, 80, 60, 10, 90]\n",
    "\n",
    "# Convert list to a min-heap\n",
    "heapq.heapify(prices)\n",
    "\n",
    "# Extract 3 cheapest products\n",
    "cheapest_products = [heapq.heappop(prices) for i in range(3)]\n",
    "print(\"3 Cheapest Products:\", cheapest_products)  # Outputs: [10, 20, 30]"
   ]
  },
  {
   "cell_type": "markdown",
   "id": "c71cc844-0bd9-40fc-b5f6-b84f0f16eebf",
   "metadata": {},
   "source": [
    "###  How and when to use a heap in data processing\n",
    "\n",
    "Heaps are useful when dealing with large datasets where efficiency is critical. Here are some common examples that come to mind:\n",
    "\n",
    "1. Finding the Top K Elements\n",
    "* Example: Top 10 highest-grossing movies in a large dataset.\n",
    "* Solution: Use a Max-Heap to efficiently retrieve the top K elements.\n",
    "\n",
    "\n",
    "2. Finding the Smallest K Elements\n",
    "* Example: Finding the cheapest 5 products in an online marketplace.\n",
    "* Solution: Use a Min-Heap for efficient extraction.\n",
    "\n",
    "3. Internet Data Processing\n",
    "* Example: Tracking the top 10 most frequent words in live tweets.\n",
    "* Solution: Use a Heap-based priority queue to maintain a list of the top K elements.\n",
    "\n",
    "4. Dijkstra’s Algorithm for Shortest Path (more on this later)\n",
    "* Example: Google Maps shortest route calculation.\n",
    "* Solution: Use a Min-Heap to always expand the shortest available path.\n",
    "\n",
    "Heaps help us quickly extract important information from large datasets. We'll look at an example below to find the most frequent words in customer reviews.  This turns out to be an essential step in sentiment analysis, keyword extraction, and text mining.\n",
    "\n"
   ]
  },
  {
   "cell_type": "code",
   "execution_count": null,
   "id": "b65652df-2364-4ebe-ab32-ac7876e16318",
   "metadata": {},
   "outputs": [],
   "source": [
    "from collections import Counter\n",
    "import heapq\n",
    "\n",
    "\n",
    "reviews = [\n",
    "    \"great product excellent quality\",\n",
    "    \"terrible experience not recommended\",\n",
    "    \"excellent quality and great price\",\n",
    "    \"not great not terrible\",\n",
    "    \"quality is good but not excellent\"\n",
    "]\n",
    "\n",
    "\n",
    "\n",
    "# Count word frequency\n",
    "word_counts = Counter(\" \".join(reviews).split())  \n",
    "\n",
    "print(word_counts)\n",
    "\n",
    "\n",
    "\n",
    "# Extract top 5 most frequent words using a heap\n",
    "top_k = 5\n",
    "heap = heapq.nlargest(top_k, word_counts.items(), key=lambda x: x[1])\n",
    "\n",
    "print(\"Top 5 most frequent words:\", heap)"
   ]
  },
  {
   "cell_type": "code",
   "execution_count": null,
   "id": "455d99d1-d4cf-45db-b638-8d7f22c04f27",
   "metadata": {},
   "outputs": [],
   "source": []
  },
  {
   "cell_type": "code",
   "execution_count": 46,
   "id": "5e660d27-c856-4205-ad73-8552abe08520",
   "metadata": {},
   "outputs": [
    {
     "name": "stdout",
     "output_type": "stream",
     "text": [
      "Help on function nlargest in module heapq:\n",
      "\n",
      "nlargest(n, iterable, key=None)\n",
      "    Find the n largest elements in a dataset.\n",
      "\n",
      "    Equivalent to:  sorted(iterable, key=key, reverse=True)[:n]\n",
      "\n"
     ]
    }
   ],
   "source": [
    "help(heapq.nlargest)\n",
    "\n",
    "\n"
   ]
  },
  {
   "cell_type": "code",
   "execution_count": null,
   "id": "51ef97d3-502c-4de5-a5b4-caafaf11ee81",
   "metadata": {},
   "outputs": [],
   "source": []
  },
  {
   "cell_type": "markdown",
   "id": "24d39efe-ea3f-4bdd-b41d-d50ce0a6af69",
   "metadata": {},
   "source": [
    "### More heaqp1.nlargest()\n",
    "\n",
    "The function heapq.nlargest(n, iterable, key=None) returns the n largest elements from an iterable using a heap.\n",
    "\n",
    "In the above we used three parameters:\n",
    "1. top_k\n",
    "\n",
    "This is the number of largest elements we want. In our example, top_k = 5, so we are finding the 5 most frequent words.\n",
    "\n",
    "2.  word_counts.items()\n",
    "\n",
    "word_counts is a dictionary, where keys are words and values are their frequencies.\n",
    ".items() converts this into a list of tuples.  (For example, [('great', 3), ('excellent', 3), ('quality', 3), ('not', 3), ('terrible', 2), ...])\n",
    "\n",
    "3. key=lambda x: x[1]\n",
    "\n",
    "* The key parameter tells Python how to compare elements.\n",
    "* lambda x: x[1] means:\n",
    "x is each tuple (word, frequency).\n",
    "x[1] is the frequency value.\n",
    "This tells heapq.nlargest() to compare tuples based on the frequency (not the word itself).\n",
    "\n",
    "### lambda\n",
    "\n",
    "Okay, cool.  I think I got it but what in the world is lambda?\n",
    "\n",
    "A lambda function in Python is an unnamed function that you can define in a single line. It’s often used for short, simple functions that don’t need a full def statement.\n",
    "\n",
    "The syntax is: **lambda arguments:expression**  where lambda defines the expression, the arguments are the input values and the expression is the return value.\n"
   ]
  },
  {
   "cell_type": "code",
   "execution_count": 5,
   "id": "79415cbe-c4c6-44c3-99d1-f4373b335b66",
   "metadata": {},
   "outputs": [
    {
     "name": "stdout",
     "output_type": "stream",
     "text": [
      "10\n"
     ]
    }
   ],
   "source": [
    "double = lambda x: x * 2\n",
    "print(double(5)) \n",
    "\n",
    "#using with sorting\n",
    "data = [(\"apple\", 3), (\"banana\", 1), (\"cherry\", 2)]\n",
    "sorted_data = sorted(data, key=lambda x: x[1])\n",
    "print(sorted_data)  # Output: [('banana', 1), ('cherry', 2), ('apple', 3)]\n",
    "\n",
    "#using with filtering\n",
    "numbers = [1, 2, 3, 4, 5, 6]\n",
    "even_numbers = list(filter(lambda x: x % 2 == 0, numbers))\n",
    "print(even_numbers)  # Output: [2, 4, 6]\n",
    "\n",
    "#using it with map\n",
    "numbers = [1, 2, 3, 4]\n",
    "squared = list(map(lambda x: x ** 2, numbers))\n",
    "print(squared)  # Output: [1, 4, 9, 16]"
   ]
  },
  {
   "cell_type": "markdown",
   "id": "e09df1bd-0049-4898-a877-457283643d62",
   "metadata": {},
   "source": [
    "### Sorting verus Heaps\n",
    "Sorting in the best case is O($n log n$).  Using a heap has an advantage if you want to extract min/max values in that the heap can be dynamically updated as elements are added to the heap."
   ]
  },
  {
   "cell_type": "code",
   "execution_count": 38,
   "id": "b0f5fbf5-54bf-49a7-a07e-a801f3831473",
   "metadata": {},
   "outputs": [],
   "source": [
    "#Let's talk about the effiency of heaps in greater detail\n",
    "#heapify():  Creating a heap\n",
    "#Delete Max/Min:\n",
    "# Add an element:"
   ]
  },
  {
   "cell_type": "code",
   "execution_count": null,
   "id": "28f66969-0024-4854-9f85-c47046584232",
   "metadata": {},
   "outputs": [],
   "source": []
  }
 ],
 "metadata": {
  "kernelspec": {
   "display_name": "Python [conda env:base] *",
   "language": "python",
   "name": "conda-base-py"
  },
  "language_info": {
   "codemirror_mode": {
    "name": "ipython",
    "version": 3
   },
   "file_extension": ".py",
   "mimetype": "text/x-python",
   "name": "python",
   "nbconvert_exporter": "python",
   "pygments_lexer": "ipython3",
   "version": "3.12.7"
  }
 },
 "nbformat": 4,
 "nbformat_minor": 5
}
