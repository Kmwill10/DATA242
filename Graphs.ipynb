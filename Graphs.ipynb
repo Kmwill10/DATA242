{
 "cells": [
  {
   "cell_type": "markdown",
   "id": "bd76c69a-49f0-49e1-9672-17cee5404ef3",
   "metadata": {},
   "source": [
    "##  Data Structures & Algorithms: Recapped with Graphs added!\n",
    "\n",
    "Data analytics majors don’t need to become algorithm experts BUT a strong grasp of practical data structures and a few core algorithms can greatly improve your data processing efficiency and understanding. \n",
    "\n",
    "\n",
    "Here are the important algorithms that you need to know! This is a review, but we'll get to new stuff at the end:).\n",
    "\n",
    "### Searching Algorithms\n",
    " * **Linear Search**\n",
    "\n",
    "\n",
    "\n",
    "\n"
   ]
  },
  {
   "cell_type": "code",
   "execution_count": null,
   "id": "b9530f4a-99fa-47cc-82f3-fe324f3abe7c",
   "metadata": {},
   "outputs": [],
   "source": [
    "#  USE when dealing with small, unsorted data (e.g., searching through a list).\n",
    "# Big-O is O(n)\n",
    "\n",
    "def linear_search(arr, target):\n",
    "    for i, val in enumerate(arr):\n",
    "        if val == target:\n",
    "            return i\n",
    "    return -1"
   ]
  },
  {
   "cell_type": "markdown",
   "id": "0bd54882-3a01-4216-8c65-b9c73f0807c0",
   "metadata": {},
   "source": [
    "* **Binary Search** \n"
   ]
  },
  {
   "cell_type": "code",
   "execution_count": null,
   "id": "7af1fc93-398e-4350-8e14-e46b05cfb5f6",
   "metadata": {},
   "outputs": [],
   "source": [
    "# USE for fast search on sorted data (like finding a particular value or detecting duplicates in sorted arrays/lists.)\n",
    "# BIG-O of Search is O(log(n))\n",
    "#Binary Search is implemented for you in bisect should you need to use it\n",
    "\n",
    "\n",
    "import bisect\n",
    "arr = [10, 20, 30, 40]\n",
    "index = bisect.bisect_left(arr, 30)  # returns 2\n",
    "\n"
   ]
  },
  {
   "cell_type": "markdown",
   "id": "db3c6c9a-37ce-4c29-a6ea-81bb7704549e",
   "metadata": {},
   "source": [
    "As an FYI the bisect module offers several functions:\n",
    "* **bisect_left(list, element):** Finds the index where the element should be inserted to maintain order (leftmost possible position).\n",
    "* **bisect_right(list, element) or bisect(list, element):** Finds the index where the element should be inserted to maintain order (rightmost possible position).\n",
    "* **insort_left(list, element):** Inserts the element at the correct position (leftmost possible position) to maintain order.\n",
    "* **insort_right(list, element) or insort(list, element):** Inserts the element at the correct position (rightmost possible position) to maintain order."
   ]
  },
  {
   "cell_type": "markdown",
   "id": "4fa0711a-3aef-43ed-b7ad-c5905d82e2ba",
   "metadata": {},
   "source": [
    "### **Sorting Algorithms**\n",
    "These help organize data for better visualization or faster querying.\n",
    "\n",
    "* Quicksort / Mergesort (show on board conceptually)\n",
    "\n",
    "Python uses Timsort, a hybrid of mergesort & insertion sort.\n",
    "You should know that these have average time complexity of O(n log n).\n",
    "\n",
    "\n",
    "\n",
    "* Heapsort (used internally in priority queues)\n",
    "\n",
    "Good to know for tasks that involve ranking or prioritizing elements.  Also 0(n log n) sorting.\n",
    "\n",
    "\n"
   ]
  },
  {
   "cell_type": "code",
   "execution_count": 10,
   "id": "628cf9fe-558f-40af-b875-248920a2971a",
   "metadata": {},
   "outputs": [
    {
     "data": {
      "text/html": [
       "<div>\n",
       "<style scoped>\n",
       "    .dataframe tbody tr th:only-of-type {\n",
       "        vertical-align: middle;\n",
       "    }\n",
       "\n",
       "    .dataframe tbody tr th {\n",
       "        vertical-align: top;\n",
       "    }\n",
       "\n",
       "    .dataframe thead th {\n",
       "        text-align: right;\n",
       "    }\n",
       "</style>\n",
       "<table border=\"1\" class=\"dataframe\">\n",
       "  <thead>\n",
       "    <tr style=\"text-align: right;\">\n",
       "      <th></th>\n",
       "      <th>Breeder</th>\n",
       "      <th>Weight (kg)</th>\n",
       "      <th>Height (cm)</th>\n",
       "    </tr>\n",
       "  </thead>\n",
       "  <tbody>\n",
       "    <tr>\n",
       "      <th>3</th>\n",
       "      <td>Tiny Tails</td>\n",
       "      <td>7.0</td>\n",
       "      <td>24</td>\n",
       "    </tr>\n",
       "    <tr>\n",
       "      <th>8</th>\n",
       "      <td>Tiny Tails</td>\n",
       "      <td>6.8</td>\n",
       "      <td>23</td>\n",
       "    </tr>\n",
       "    <tr>\n",
       "      <th>16</th>\n",
       "      <td>Doxie Delight</td>\n",
       "      <td>6.7</td>\n",
       "      <td>21</td>\n",
       "    </tr>\n",
       "    <tr>\n",
       "      <th>7</th>\n",
       "      <td>Wiener Wonders</td>\n",
       "      <td>6.7</td>\n",
       "      <td>25</td>\n",
       "    </tr>\n",
       "    <tr>\n",
       "      <th>2</th>\n",
       "      <td>Wiener Wonders</td>\n",
       "      <td>6.5</td>\n",
       "      <td>23</td>\n",
       "    </tr>\n",
       "    <tr>\n",
       "      <th>15</th>\n",
       "      <td>Happy Paws</td>\n",
       "      <td>6.5</td>\n",
       "      <td>22</td>\n",
       "    </tr>\n",
       "    <tr>\n",
       "      <th>19</th>\n",
       "      <td>Pawfect Dachshunds</td>\n",
       "      <td>6.4</td>\n",
       "      <td>24</td>\n",
       "    </tr>\n",
       "    <tr>\n",
       "      <th>5</th>\n",
       "      <td>Happy Paws</td>\n",
       "      <td>6.4</td>\n",
       "      <td>22</td>\n",
       "    </tr>\n",
       "    <tr>\n",
       "      <th>12</th>\n",
       "      <td>Wiener Wonders</td>\n",
       "      <td>6.3</td>\n",
       "      <td>24</td>\n",
       "    </tr>\n",
       "    <tr>\n",
       "      <th>14</th>\n",
       "      <td>Pawfect Dachshunds</td>\n",
       "      <td>6.2</td>\n",
       "      <td>23</td>\n",
       "    </tr>\n",
       "    <tr>\n",
       "      <th>0</th>\n",
       "      <td>Happy Paws</td>\n",
       "      <td>6.2</td>\n",
       "      <td>22</td>\n",
       "    </tr>\n",
       "    <tr>\n",
       "      <th>10</th>\n",
       "      <td>Happy Paws</td>\n",
       "      <td>6.1</td>\n",
       "      <td>22</td>\n",
       "    </tr>\n",
       "    <tr>\n",
       "      <th>13</th>\n",
       "      <td>Tiny Tails</td>\n",
       "      <td>6.0</td>\n",
       "      <td>20</td>\n",
       "    </tr>\n",
       "    <tr>\n",
       "      <th>18</th>\n",
       "      <td>Tiny Tails</td>\n",
       "      <td>6.0</td>\n",
       "      <td>20</td>\n",
       "    </tr>\n",
       "    <tr>\n",
       "      <th>11</th>\n",
       "      <td>Doxie Delight</td>\n",
       "      <td>5.9</td>\n",
       "      <td>21</td>\n",
       "    </tr>\n",
       "    <tr>\n",
       "      <th>4</th>\n",
       "      <td>Pawfect Dachshunds</td>\n",
       "      <td>5.9</td>\n",
       "      <td>20</td>\n",
       "    </tr>\n",
       "    <tr>\n",
       "      <th>1</th>\n",
       "      <td>Doxie Delight</td>\n",
       "      <td>5.8</td>\n",
       "      <td>21</td>\n",
       "    </tr>\n",
       "    <tr>\n",
       "      <th>17</th>\n",
       "      <td>Wiener Wonders</td>\n",
       "      <td>5.8</td>\n",
       "      <td>25</td>\n",
       "    </tr>\n",
       "    <tr>\n",
       "      <th>6</th>\n",
       "      <td>Doxie Delight</td>\n",
       "      <td>5.6</td>\n",
       "      <td>21</td>\n",
       "    </tr>\n",
       "    <tr>\n",
       "      <th>9</th>\n",
       "      <td>Pawfect Dachshunds</td>\n",
       "      <td>5.5</td>\n",
       "      <td>19</td>\n",
       "    </tr>\n",
       "  </tbody>\n",
       "</table>\n",
       "</div>"
      ],
      "text/plain": [
       "               Breeder  Weight (kg)  Height (cm)\n",
       "3           Tiny Tails          7.0           24\n",
       "8           Tiny Tails          6.8           23\n",
       "16       Doxie Delight          6.7           21\n",
       "7       Wiener Wonders          6.7           25\n",
       "2       Wiener Wonders          6.5           23\n",
       "15          Happy Paws          6.5           22\n",
       "19  Pawfect Dachshunds          6.4           24\n",
       "5           Happy Paws          6.4           22\n",
       "12      Wiener Wonders          6.3           24\n",
       "14  Pawfect Dachshunds          6.2           23\n",
       "0           Happy Paws          6.2           22\n",
       "10          Happy Paws          6.1           22\n",
       "13          Tiny Tails          6.0           20\n",
       "18          Tiny Tails          6.0           20\n",
       "11       Doxie Delight          5.9           21\n",
       "4   Pawfect Dachshunds          5.9           20\n",
       "1        Doxie Delight          5.8           21\n",
       "17      Wiener Wonders          5.8           25\n",
       "6        Doxie Delight          5.6           21\n",
       "9   Pawfect Dachshunds          5.5           19"
      ]
     },
     "execution_count": 10,
     "metadata": {},
     "output_type": "execute_result"
    }
   ],
   "source": [
    "#Sorting with Timsort\n",
    "my_list=[3,5,7,9,0,2]\n",
    "sorted_list = sorted(my_list)\n",
    "my_list.sort()  # In-place\n",
    "\n",
    "\n",
    "import pandas as pd\n",
    "\n",
    "# Reads the CSV file into a DataFrame\n",
    "df = pd.read_csv('dachshund_sizes.csv')\n",
    "df.sort_values(by='Weight (kg)', ascending=False)"
   ]
  },
  {
   "cell_type": "markdown",
   "id": "91ed14cd-ca37-4f47-b713-c9f7c5b6caca",
   "metadata": {},
   "source": [
    "###  Hashing\n",
    "*  Python Dictionaries are backed by hash tables.\n",
    "  \n",
    "Used everywhere in analytics: grouping, mapping categories, lookups.\n",
    "\n",
    "IMPORTANT POINTS:  Average time complexity: O(1) for lookups.  Drawback MUST know the key to get the data and deal with collisions.\n",
    "\n"
   ]
  },
  {
   "cell_type": "code",
   "execution_count": 16,
   "id": "d1c0fa2b-6d8e-406c-bea5-407fd5b7ffab",
   "metadata": {},
   "outputs": [],
   "source": [
    "#dictionarys\n",
    "\n",
    "category_map = {'A': 1, 'B': 2, 'C': 3}\n"
   ]
  },
  {
   "cell_type": "markdown",
   "id": "d5df9934-e858-44c6-9821-794823622d82",
   "metadata": {},
   "source": [
    "###  Stacks, Queues, and Heaps\n",
    "* **Stack (LIFO: Last-In First-Out)**\n",
    "\n",
    "    * List that \"stacks\"\n",
    "    * Use list.append() and list.pop().\n",
    "    * Useful in backtracking (recursion) or expression evaluation (like (5*5)+5).\n"
   ]
  },
  {
   "cell_type": "code",
   "execution_count": null,
   "id": "49064153-25f7-41d7-b0c0-09c76575d437",
   "metadata": {},
   "outputs": [],
   "source": [
    "stack = []\n",
    "stack.append(1)\n",
    "stack.pop()"
   ]
  },
  {
   "cell_type": "markdown",
   "id": "18bc1479-56bf-42ed-b7ba-8dbe62ad297e",
   "metadata": {},
   "source": [
    "* **Queue (FIFO: First-In First-Out)**\n",
    "\n",
    "    * Use collections.deque for fast performance.\n",
    "    * List that maintains a line or queue\n"
   ]
  },
  {
   "cell_type": "code",
   "execution_count": 30,
   "id": "ebb4d3c3-78bb-4ce6-94a5-ca984a4a4d66",
   "metadata": {},
   "outputs": [
    {
     "data": {
      "text/plain": [
       "10"
      ]
     },
     "execution_count": 30,
     "metadata": {},
     "output_type": "execute_result"
    }
   ],
   "source": [
    "from collections import deque\n",
    "queue = deque()\n",
    "queue.append(10)\n",
    "queue.popleft()"
   ]
  },
  {
   "cell_type": "markdown",
   "id": "43efe3a8-2636-488d-a389-eb961f3f04b7",
   "metadata": {},
   "source": [
    "* **Heap (Priority Queue)**\n",
    "\n",
    "    *  Use heapq module.\n",
    "    * Applications: Top-k problems, simulation, scheduling.\n",
    "    * Keeps this a full/complete binary tree with min/max at top\n"
   ]
  },
  {
   "cell_type": "code",
   "execution_count": 35,
   "id": "e6f9fe66-7849-4a9c-952d-e39e48a05fb5",
   "metadata": {},
   "outputs": [],
   "source": [
    "import heapq\n",
    "heap = [3, 1, 4]\n",
    "heapq.heapify(heap)\n",
    "heapq.heappush(heap, 2)\n",
    "smallest = heapq.heappop(heap)"
   ]
  },
  {
   "cell_type": "markdown",
   "id": "2a19ce64-b75e-4caf-be5b-b09757cac1c6",
   "metadata": {},
   "source": [
    "### Graphs (with networkx)\n",
    "\n",
    "**What is a Graph?**\n",
    "\n",
    "A *graph* is a data structure consisting of:\n",
    "\n",
    "* Nodes (vertices): represent entities (e.g., people, web pages, airports).\n",
    "* Edges (links): represent relationships or connections (e.g., friendships, hyperlinks, flights).\n",
    "\n",
    "Graphs can be:\n",
    "* Undirected or Directed\n",
    "* Weighted (edges have values like distance, cost) or Unweighted\n",
    "* Simple (no self-loops or duplicate edges) or Multigraphs (multiple edges between nodes)\n",
    "\n",
    "Under the hood, graphs can be stored as:\n",
    "* Adjacency List: Efficient for sparse graphs. Each node has a list of neighbors.\n",
    "* Adjacency Matrix: 2D array showing connections (1 if edge exists, 0 otherwise).\n",
    "* Edge List: Just a list of (source, target) pairs.\n",
    "\n",
    "**networkx** uses adjacency lists, and under the hood it uses Python dictionaries of dictionaries for fast lookup and flexibility."
   ]
  },
  {
   "cell_type": "code",
   "execution_count": 48,
   "id": "5b090420-b1ef-4876-84f8-92328c489f84",
   "metadata": {},
   "outputs": [],
   "source": [
    "import networkx as nx\n",
    "\n",
    "G = nx.Graph()  # Undirected graph\n",
    "G.add_node(\"A\")\n",
    "G.add_nodes_from([\"B\", \"C\", \"D\"])\n",
    "\n",
    "G.add_edge(\"A\", \"B\")\n",
    "G.add_edges_from([(\"A\", \"C\"), (\"B\", \"D\")])\n",
    "\n",
    "\n",
    "#Directed graph:\n",
    "DG = nx.DiGraph()\n",
    "DG.add_edge(\"A\", \"B\")  # Direction: A → B\n",
    "\n",
    "\n",
    "\n",
    "#Weighted graph:\n",
    "WG = nx.Graph()\n",
    "WG.add_edge(\"A\", \"B\", weight=4.5)\n",
    "WG.add_edge(\"B\", \"C\", weight=2.0)\n",
    "\n"
   ]
  },
  {
   "cell_type": "code",
   "execution_count": 50,
   "id": "8ae0b3e2-34c0-4fe1-a569-733db438d929",
   "metadata": {},
   "outputs": [
    {
     "data": {
      "image/png": "[encoded data removed]",
      "text/plain": [
       "<Figure size 640x480 with 1 Axes>"
      ]
     },
     "metadata": {},
     "output_type": "display_data"
    }
   ],
   "source": [
    "\n",
    "#Let's see our graph\n",
    "import matplotlib.pyplot as plt\n",
    "\n",
    "nx.draw(G, with_labels=True)\n",
    "plt.show()"
   ]
  },
  {
   "cell_type": "code",
   "execution_count": 52,
   "id": "305a7450-fb43-417c-b31c-3fcb0d2b7232",
   "metadata": {},
   "outputs": [
    {
     "data": {
      "text/plain": [
       "{}"
      ]
     },
     "execution_count": 52,
     "metadata": {},
     "output_type": "execute_result"
    }
   ],
   "source": [
    "#Useful Graph tools in Python\n",
    "\n",
    "G.nodes()           # All nodes\n",
    "G.edges()           # All edges\n",
    "G[\"A\"]              # Neighbors of A\n",
    "G.degree(\"A\")       # Degree of node A (number of connections)\n",
    "G[\"A\"][\"B\"]         # Info about edge between A and B (e.g., weight)"
   ]
  },
  {
   "cell_type": "markdown",
   "id": "96ca0674-606f-422f-8b8b-c99930e92967",
   "metadata": {},
   "source": [
    "### Useful Graph Algorithms in networkx\n",
    "* **Shortest Path**\n",
    "\n"
   ]
  },
  {
   "cell_type": "code",
   "execution_count": 58,
   "id": "20f9ed9a-04c0-4b7b-a2c2-fbefa094b822",
   "metadata": {},
   "outputs": [
    {
     "data": {
      "text/plain": [
       "2"
      ]
     },
     "execution_count": 58,
     "metadata": {},
     "output_type": "execute_result"
    }
   ],
   "source": [
    "nx.shortest_path(G, source=\"A\", target=\"D\")\n",
    "nx.shortest_path_length(G, source=\"A\", target=\"D\")\n",
    "\n",
    "\n",
    "\n"
   ]
  },
  {
   "cell_type": "markdown",
   "id": "05f6bf5a-aab9-4840-8012-edeaec9fb60b",
   "metadata": {},
   "source": [
    "* **Dikstra for weighted graphs:**"
   ]
  },
  {
   "cell_type": "code",
   "execution_count": 60,
   "id": "072a57aa-8b26-4f0e-a601-689fe88b0957",
   "metadata": {},
   "outputs": [
    {
     "data": {
      "text/plain": [
       "['A', 'B', 'C']"
      ]
     },
     "execution_count": 60,
     "metadata": {},
     "output_type": "execute_result"
    }
   ],
   "source": [
    "nx.dijkstra_path(WG, source=\"A\", target=\"C\", weight='weight')"
   ]
  },
  {
   "cell_type": "code",
   "execution_count": 62,
   "id": "a76e880e-2a68-4335-b187-20b64ebc20e1",
   "metadata": {},
   "outputs": [
    {
     "name": "stdout",
     "output_type": "stream",
     "text": [
      "Shortest path from A to Z: ['A', 'C', 'B', 'D', 'E', 'Z']\n",
      "Total path weight: 13\n"
     ]
    },
    {
     "data": {
      "image/png": "[encoded data removed]",
      "text/plain": [
       "<Figure size 640x480 with 1 Axes>"
      ]
     },
     "metadata": {},
     "output_type": "display_data"
    }
   ],
   "source": [
    "import networkx as nx\n",
    "import matplotlib.pyplot as plt\n",
    "\n",
    "# 1. Create a weighted graph\n",
    "G = nx.Graph()\n",
    "\n",
    "# Add weighted edges: (node1, node2, weight)\n",
    "edges = [\n",
    "    (\"A\", \"B\", 4),\n",
    "    (\"A\", \"C\", 2),\n",
    "    (\"B\", \"C\", 1),\n",
    "    (\"B\", \"D\", 5),\n",
    "    (\"C\", \"D\", 8),\n",
    "    (\"C\", \"E\", 10),\n",
    "    (\"D\", \"E\", 2),\n",
    "    (\"D\", \"Z\", 6),\n",
    "    (\"E\", \"Z\", 3)\n",
    "]\n",
    "\n",
    "# Add edges to the graph\n",
    "for u, v, w in edges:\n",
    "    G.add_edge(u, v, weight=w)\n",
    "\n",
    "# 2. Run Dijkstra's algorithm from A to Z\n",
    "source = \"A\"\n",
    "target = \"Z\"\n",
    "\n",
    "shortest_path = nx.dijkstra_path(G, source=source, target=target, weight='weight')\n",
    "path_length = nx.dijkstra_path_length(G, source=source, target=target, weight='weight')\n",
    "\n",
    "print(f\"Shortest path from {source} to {target}: {shortest_path}\")\n",
    "print(f\"Total path weight: {path_length}\")\n",
    "\n",
    "# 3. Optional: Visualize the graph\n",
    "pos = nx.spring_layout(G)  # positions for all nodes\n",
    "\n",
    "# Draw nodes and edges\n",
    "nx.draw(G, pos, with_labels=True, node_color=\"lightblue\", node_size=800, font_size=12)\n",
    "labels = nx.get_edge_attributes(G, 'weight')\n",
    "nx.draw_networkx_edge_labels(G, pos, edge_labels=labels)\n",
    "\n",
    "plt.title(f\"Shortest Path from {source} to {target}\")\n",
    "plt.show()"
   ]
  },
  {
   "cell_type": "code",
   "execution_count": null,
   "id": "fc804fd3-4cc9-4b59-a2d9-f9d91dd2ef6c",
   "metadata": {},
   "outputs": [],
   "source": []
  }
 ],
 "metadata": {
  "kernelspec": {
   "display_name": "Python [conda env:base] *",
   "language": "python",
   "name": "conda-base-py"
  },
  "language_info": {
   "codemirror_mode": {
    "name": "ipython",
    "version": 3
   },
   "file_extension": ".py",
   "mimetype": "text/x-python",
   "name": "python",
   "nbconvert_exporter": "python",
   "pygments_lexer": "ipython3",
   "version": "3.12.2"
  }
 },
 "nbformat": 4,
 "nbformat_minor": 5
}
