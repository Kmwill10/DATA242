{
 "cells": [
  {
   "cell_type": "code",
   "execution_count": 4,
   "id": "9e23d21c-1d9a-4124-8ec9-f0c353e8ab77",
   "metadata": {},
   "outputs": [],
   "source": [
    "class Book:\n",
    "    def __init__(self, title, author, publication_year, isbn):\n",
    "        \"\"\"\n",
    "        Initialize a new Book instance.\n",
    "\n",
    "        Parameters:\n",
    "        title (str): The title of the book.\n",
    "        author (str): The author of the book.\n",
    "        publication_year (int): The year the book was published.\n",
    "        isbn (str): The International Standard Book Number.\n",
    "        \"\"\"\n",
    "        self.title = title\n",
    "        self.author = author\n",
    "        self.publication_year = publication_year\n",
    "        self.isbn = isbn\n",
    "        self.is_checked_out = False\n",
    "\n",
    "    def check_out(self):\n",
    "        \"\"\"Mark the book as checked out.\"\"\"\n",
    "        if not self.is_checked_out:\n",
    "            self.is_checked_out = True\n",
    "            print(f\"'{self.title}' has been checked out.\")\n",
    "        else:\n",
    "            print(f\"'{self.title}' is already checked out.\")\n",
    "\n",
    "    def return_book(self):\n",
    "        \"\"\"Mark the book as returned.\"\"\"\n",
    "        if self.is_checked_out:\n",
    "            self.is_checked_out = False\n",
    "            print(f\"'{self.title}' has been returned.\")\n",
    "        else:\n",
    "            print(f\"'{self.title}' was not checked out.\")\n",
    "\n",
    "    def display_info(self):\n",
    "        \"\"\"Display information about the book.\"\"\"\n",
    "        status = 'Available' if not self.is_checked_out else 'Checked out'\n",
    "        print(f\"Title: {self.title}\")\n",
    "        print(f\"Author: {self.author}\")\n",
    "        print(f\"Publication Year: {self.publication_year}\")\n",
    "        print(f\"ISBN: {self.isbn}\")\n",
    "        print(f\"Status: {status}\")\n"
   ]
  },
  {
   "cell_type": "code",
   "execution_count": 6,
   "id": "72661c91-40e9-47f6-bcb6-a6af17a805d8",
   "metadata": {},
   "outputs": [
    {
     "name": "stdout",
     "output_type": "stream",
     "text": [
      "Title: Pretzel\n",
      "Author: H.A. Rey\n",
      "Publication Year: 1944\n",
      "ISBN: 978-0395837337\n",
      "Status: Available\n",
      "\n",
      "Title: The Gruffalo\n",
      "Author: Julia Donaldson\n",
      "Publication Year: 1999\n",
      "ISBN: 978-0142403877\n",
      "Status: Available\n",
      "\n",
      "Title: Dragons Love Tacos\n",
      "Author: Adam Rubin\n",
      "Publication Year: 2012\n",
      "ISBN: 978-0803736801\n",
      "Status: Available\n",
      "\n",
      "'Pretzel' has been checked out.\n",
      "'Pretzel' is already checked out.\n",
      "'Pretzel' has been returned.\n",
      "'Pretzel' was not checked out.\n"
     ]
    }
   ],
   "source": [
    "#instructions\n",
    "#Create three instances of the Book class with different titles, authors, publication years, and ISBNs.\n",
    "#For each book instance, call the display_info() method to print its details.\n",
    "#Choose one book to check out by calling the check_out() method.\n",
    "#Attempt to check out the same book again to see the handling of already checked-out books.\n",
    "#Return the book by calling the return_book() method.\n",
    "#Attempt to return the same book again to see the handling of books that are not checked out.\n",
    "# Creating book instances\n",
    "book1 = Book(\"Pretzel\", \"H.A. Rey\", 1944, \"978-0395837337\")\n",
    "book2 = Book(\"The Gruffalo\", \"Julia Donaldson\", 1999, \"978-0142403877\")\n",
    "book3 = Book(\"Dragons Love Tacos\", \"Adam Rubin\", 2012, \"978-0803736801\")\n",
    "\n",
    "\n",
    "\n",
    "# Displaying book information\n",
    "book1.display_info()\n",
    "print()  # Adding a blank line for readability\n",
    "book2.display_info()\n",
    "print()\n",
    "book3.display_info()\n",
    "print()\n",
    "\n",
    "# Checking out and returning a book\n",
    "book1.check_out()\n",
    "book1.check_out()  # Attempting to check out again\n",
    "book1.return_book()\n",
    "book1.return_book()  # Attempting to return again\n",
    "\n"
   ]
  },
  {
   "cell_type": "code",
   "execution_count": 8,
   "id": "cff78f15-2ed5-4405-bcb3-f895711e91c6",
   "metadata": {},
   "outputs": [],
   "source": [
    "#Now create a library class that stores a list of books.\n",
    "# Assuming the Book class is already defined as previously discussed\n",
    "\n",
    "class Library:\n",
    "    def __init__(self, name):\n",
    "        \"\"\"\n",
    "        Initialize a new Library instance.\n",
    "\n",
    "        Parameters:\n",
    "        name (str): The name of the library.\n",
    "        \"\"\"\n",
    "        self.name = name\n",
    "        self.books = []  # List to store books in the library\n",
    "\n",
    "    def add_book(self, book):\n",
    "        \"\"\"\n",
    "        Add a book to the library's collection.\n",
    "\n",
    "        Parameters:\n",
    "        book (Book): An instance of the Book class.\n",
    "        \"\"\"\n",
    "        self.books.append(book)\n",
    "        print(f\"'{book.title}' has been added to the library '{self.name}'.\")\n",
    "\n",
    "    def remove_book(self, book):\n",
    "        \"\"\"\n",
    "        Remove a book from the library's collection.\n",
    "\n",
    "        Parameters:\n",
    "        book (Book): An instance of the Book class.\n",
    "        \"\"\"\n",
    "        if book in self.books:\n",
    "            self.books.remove(book)\n",
    "            print(f\"'{book.title}' has been removed from the '{self.name}'.\")\n",
    "        else:\n",
    "            print(f\"'{book.title}' is not found in the '{self.name}'.\")\n",
    "\n",
    "    def display_books(self):\n",
    "        \"\"\"Display all books currently in the library.\"\"\"\n",
    "        if self.books:\n",
    "            print(f\"Books in the '{self.name}':\")\n",
    "            for book in self.books:\n",
    "                book.display_info()\n",
    "                print()  # Adding a blank line for readability\n",
    "        else:\n",
    "            print(f\"The '{self.name}' has no books.\")\n",
    "\n"
   ]
  },
  {
   "cell_type": "code",
   "execution_count": 10,
   "id": "19bbc779-0b71-4b4c-8e50-1bf1e3f2e00f",
   "metadata": {},
   "outputs": [
    {
     "name": "stdout",
     "output_type": "stream",
     "text": [
      "'Pretzel' has been added to the library 'Children's Library'.\n",
      "'The Gruffalo' has been added to the library 'Children's Library'.\n",
      "Books in the 'Children's Library':\n",
      "Title: Pretzel\n",
      "Author: H.A. Rey\n",
      "Publication Year: 1944\n",
      "ISBN: 978-0395837337\n",
      "Status: Available\n",
      "\n",
      "Title: The Gruffalo\n",
      "Author: Julia Donaldson\n",
      "Publication Year: 1999\n",
      "ISBN: 978-0142403877\n",
      "Status: Available\n",
      "\n",
      "'Pretzel' has been removed from the 'Children's Library'.\n",
      "Books in the 'Children's Library':\n",
      "Title: The Gruffalo\n",
      "Author: Julia Donaldson\n",
      "Publication Year: 1999\n",
      "ISBN: 978-0142403877\n",
      "Status: Available\n",
      "\n",
      "Title: Pretzel\n",
      "Author: H.A. Rey\n",
      "Publication Year: 1944\n",
      "ISBN: 978-0395837337\n",
      "Status: Available\n"
     ]
    }
   ],
   "source": [
    "# Creating a library instance\n",
    "my_library = Library(\"Children's Library\")\n",
    "\n",
    "# Adding books to the library\n",
    "my_library.add_book(book1)\n",
    "my_library.add_book(book2)\n",
    "\n",
    "# Displaying books in the library\n",
    "my_library.display_books()\n",
    "\n",
    "# Removing a book from the library\n",
    "my_library.remove_book(book1)\n",
    "\n",
    "# Displaying books in the library after removal\n",
    "my_library.display_books()\n",
    "\n",
    "# Verifying that the removed book still exists independently\n",
    "book1.display_info()"
   ]
  },
  {
   "cell_type": "markdown",
   "id": "a6ef3e93-af41-4008-a3ab-57f3f763b866",
   "metadata": {},
   "source": [
    "## Who is feeling good about Objects?  Temperature check?\n",
    "\n",
    "## Side Comment: True and False\n",
    "In Python, it's more concise to write conditional statements that directly evaluate the truthiness of a variable, rather than explicitly comparing it to `True` or `False`. For example, instead of writing:\n",
    "\n",
    "```python\n",
    "if isTrue == True:\n",
    "    # do something\n",
    "```\n",
    "\n",
    "You can simply write:\n",
    "\n",
    "```python\n",
    "if isTrue:\n",
    "    # do something\n",
    "```\n",
    "\n",
    "Similarly, to check if a variable is `False`, instead of writing:\n",
    "\n",
    "```python\n",
    "if isTrue == False:\n",
    "    # do something\n",
    "```\n",
    "\n",
    "You can use the `not` operator:\n",
    "\n",
    "```python\n",
    "if not isTrue:\n",
    "    # do something\n",
    "```\n",
    "\n",
    "This approach leverages Python's ability to evaluate the truthiness of objects directly. In Python, several values are considered `False` in a boolean context, including `None`, `False`, numeric zero of all types, and empty sequences or collections (like `''`, `()`, `[]`, `{}`, and `set()`). All other values are considered `True`. \n",
    "\n",
    "\n"
   ]
  },
  {
   "cell_type": "markdown",
   "id": "58d6632f-5282-4d43-aa10-748f0e040b70",
   "metadata": {},
   "source": [
    "### Default parameter values \n",
    "We've seen this in constructors, but wanted to make an official DATA242 note about this.\n",
    "\n",
    "In the function header, you can give parameters default values if they are not passed in.  \n",
    "To do this, you simply follow the parameter with an equals sign and the value you wish to use.\n",
    "\n",
    "For example:\n"
   ]
  },
  {
   "cell_type": "code",
   "execution_count": 38,
   "id": "a387c202-ce97-40eb-aaf0-918905d366cb",
   "metadata": {},
   "outputs": [
    {
     "name": "stdout",
     "output_type": "stream",
     "text": [
      "$109.25\n",
      "$107.0\n",
      "Item with TN tax: 109.25\n",
      "Item formatted with 7% tax: $107.00\n"
     ]
    }
   ],
   "source": [
    "def item_plustax(item, tax=0.0925):  # tax is defaults to .0925 if nothing is passed in\n",
    "    return item*(1+tax)\n",
    "\n",
    "print(f'${item_plustax(100)}')  #prints $109.25\n",
    "print(f'${item_plustax(100,.07)}') #tax is passed .07 so this prints $107.0\n",
    "\n",
    "#This really bothers me so let's format this correctly.\n",
    "print(f'Item with TN tax: {item_plustax(100):.2f}')  #prints $109.25\n",
    "print(f'Item formatted with 7% tax: ${item_plustax(100,.07):.2f}')\n",
    "\n",
    "#This is a google-able trick and you might have seen this in 141, but you are \n",
    "# you simply follow the number in brackets with a : and a .[precisionValue] to specify a {number:.2f}\n",
    "\n"
   ]
  },
  {
   "cell_type": "markdown",
   "id": "d034e845-4f86-4c99-90d4-45fe154b048a",
   "metadata": {},
   "source": [
    "### Introduction to Recursion\n",
    "**Recursion** is a technique for solving problems by breaking them down into smaller instances of the same problem. It involves functions that call themselves within their own code, creating a loop-like process. However, each **recursive** call checks specific conditions that determine when the function should stop calling itself. These stopping conditions are known as the base case of the recursive function.\n",
    "\n",
    "There are entire programming languages called functional programming language that don't have while or for loops. You have to loop by using recursion.\n",
    "\n",
    "Every recursive function must include at least two key components:\n",
    "* **Base case:** The simplest scenario where the function does not call itself and returns a direct result.\n",
    "* **Recursive case:** A more complex scenario that cannot be solved immediately but can be expressed as a smaller version of the same problem. In this case, the function calls itself to solve the reduced problem.\n",
    "\n",
    "Below is an example of a recursive function that calculates the factorial of an integer."
   ]
  },
  {
   "cell_type": "code",
   "execution_count": 46,
   "id": "d960bb7f-60cb-48e3-bb23-b77b6c8dd5cb",
   "metadata": {},
   "outputs": [
    {
     "name": "stdout",
     "output_type": "stream",
     "text": [
      "120\n"
     ]
    }
   ],
   "source": [
    "# show factorial on the board and trace through this on the board\n",
    "\n",
    "def factorial(n):\n",
    "    if n == 0 or n == 1:  # Base case\n",
    "        return 1\n",
    "    return n * factorial(n - 1)  # Recursive case\n",
    "\n",
    "print(factorial(5))  # Output: 120"
   ]
  },
  {
   "cell_type": "markdown",
   "id": "1db49ee9-e074-44bb-a8d4-57296df796ab",
   "metadata": {},
   "source": [
    "In the example above, the base case occurs when n is 0 or 1, where the function does not need to call itself and simply returns 1. For all other values of n (i.e., n > 1), the function calls itself with a smaller instance of the problem (n - 1), making these the recursive cases.\n",
    "\n",
    "A recursive function must follow these principles:\n",
    "* It should handle all valid inputs.\n",
    "* It must have a base case that does not involve a recursive call.\n",
    "* Each recursive call should simplify the problem and move towards the base case to prevent infinite recursion."
   ]
  },
  {
   "cell_type": "markdown",
   "id": "195e8382-2e1a-4e51-9a21-67e363bc3275",
   "metadata": {},
   "source": [
    "### Example: Fibonacci Sequence\n",
    "The Fibonacci sequence is defined as:\n",
    "F(n)=F(n−1)+F(n−2)\n",
    "With base cases:\n",
    "F(0)=0,F(1)=1\n",
    "\n",
    "Write a function to calculate the nth fibonacci number"
   ]
  },
  {
   "cell_type": "code",
   "execution_count": null,
   "id": "5ee9a02a-173a-40b0-93ad-ba8ba4050214",
   "metadata": {},
   "outputs": [],
   "source": []
  },
  {
   "cell_type": "markdown",
   "id": "92ddc789-88e4-4616-b21c-fe43c2491c3c",
   "metadata": {},
   "source": [
    "### Example: Find the sum of digits.\n",
    "\n",
    "For example, to calculate 567, you add 5+6+7.\n"
   ]
  },
  {
   "cell_type": "code",
   "execution_count": null,
   "id": "d0d1798a-1b8c-4736-94c4-ab824e147645",
   "metadata": {},
   "outputs": [],
   "source": []
  },
  {
   "cell_type": "markdown",
   "id": "abea91fd-f2e8-4564-bfc3-e381947214bc",
   "metadata": {},
   "source": [
    "### Example: Sum a list\n",
    "Write a recursive function that takes in a list and calculates the sum."
   ]
  },
  {
   "cell_type": "markdown",
   "id": "1188f6fd-c26f-4627-ae1f-9da2e4d46531",
   "metadata": {},
   "source": [
    "### Example: is Palidrome\n",
    "\n",
    "Write a function to figure out whether or not a string is a palindrome."
   ]
  },
  {
   "cell_type": "markdown",
   "id": "afd0e439-02f7-4b50-8e99-32e204122b48",
   "metadata": {},
   "source": [
    "### Example: Search"
   ]
  },
  {
   "cell_type": "code",
   "execution_count": null,
   "id": "ab07e71c-c76a-4056-9d6f-c04968df5bd4",
   "metadata": {},
   "outputs": [],
   "source": []
  }
 ],
 "metadata": {
  "kernelspec": {
   "display_name": "Python [conda env:base] *",
   "language": "python",
   "name": "conda-base-py"
  },
  "language_info": {
   "codemirror_mode": {
    "name": "ipython",
    "version": 3
   },
   "file_extension": ".py",
   "mimetype": "text/x-python",
   "name": "python",
   "nbconvert_exporter": "python",
   "pygments_lexer": "ipython3",
   "version": "3.12.7"
  }
 },
 "nbformat": 4,
 "nbformat_minor": 5
}
