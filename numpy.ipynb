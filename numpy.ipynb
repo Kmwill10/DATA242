{
 "cells": [
  {
   "cell_type": "markdown",
   "id": "65288241-323d-4d83-b3b8-ce760ecc9b4a",
   "metadata": {},
   "source": [
    "### NumPy: Efficient Numerical Computing in Python\n",
    "\n",
    "NumPy, short for Numerical Python, is a powerful library used for analyzing numeric data in Python. Its core feature is the NumPy array, a highly efficient data structure designed for handling homogeneous multi-dimensional arrays. To utilize NumPy’s functions and methods, we first need to import the library and use the array() function to define a NumPy array:"
   ]
  },
  {
   "cell_type": "code",
   "execution_count": 4,
   "id": "e34af70a-73a8-4f0f-a602-64410ab5281d",
   "metadata": {},
   "outputs": [
    {
     "name": "stdout",
     "output_type": "stream",
     "text": [
      "[[1 2]\n",
      " [3 4]]\n",
      "<class 'numpy.ndarray'>\n"
     ]
    }
   ],
   "source": [
    "import numpy as np\n",
    "\n",
    "# Creating a NumPy array using the array() function\n",
    "numpy_array = np.array([[1, 2], [3, 4]])\n",
    "print(numpy_array)\n",
    "\n",
    "# Output:\n",
    "# array([[1, 2],\n",
    "#        [3, 4]])\n",
    "\n",
    "# Checking the type of the array\n",
    "print(type(numpy_array))  # Output: <class 'numpy.ndarray'>"
   ]
  },
  {
   "cell_type": "markdown",
   "id": "b4a16265-5f3d-40b3-bbd5-37d43acb22e7",
   "metadata": {},
   "source": [
    "The array() function generates an object of type numpy.ndarray, which is the fundamental data structure in NumPy.\n",
    "\n",
    "### Why Use NumPy Arrays?\n",
    "\n",
    "NumPy arrays, like lists, tuples, and Pandas DataFrames, can store and manipulate data. However, NumPy is particularly preferred for its efficiency, especially when working with large datasets.\n",
    "\n",
    "### Memory Efficiency\n",
    "A NumPy array consists of homogeneous data types stored in contiguous memory locations, which makes it more memory-efficient than lists. In contrast, Python lists store heterogeneous data types in non-contiguous memory locations, leading to increased memory overhead.\n",
    "\n",
    "The following example demonstrates how NumPy arrays consume less memory compared to lists, tuples, and Pandas DataFrames:\n",
    "\n",
    "\n"
   ]
  },
  {
   "cell_type": "code",
   "execution_count": 8,
   "id": "c632ecb3-8302-4988-a429-deb9ff2c70df",
   "metadata": {},
   "outputs": [
    {
     "name": "stdout",
     "output_type": "stream",
     "text": [
      "Memory usage:\n",
      "Tuple: 8024 bytes\n",
      "List: 8040 bytes\n",
      "Pandas DataFrame: 8132 bytes\n",
      "NumPy array: 8112 bytes\n"
     ]
    }
   ],
   "source": [
    "import pandas as pd\n",
    "\n",
    "# Creating a tuple, list, NumPy array, and Pandas DataFrame with 1000 elements\n",
    "tuple_ex = tuple(range(1000))\n",
    "list_ex = list(range(1000))\n",
    "numpy_ex = np.array(range(1000))\n",
    "pandas_df = pd.DataFrame(range(1000))\n",
    "\n",
    "# Checking memory usage\n",
    "print(\"Memory usage:\")\n",
    "print(\"Tuple:\", tuple_ex.__sizeof__(), \"bytes\")\n",
    "print(\"List:\", list_ex.__sizeof__(), \"bytes\")\n",
    "print(\"Pandas DataFrame:\", pandas_df.__sizeof__(), \"bytes\")\n",
    "print(\"NumPy array:\", numpy_ex.__sizeof__(), \"bytes\")"
   ]
  },
  {
   "cell_type": "markdown",
   "id": "bc418b76-6bd4-426e-a3a2-52fa480d9e60",
   "metadata": {},
   "source": [
    "As seen above, NumPy arrays take significantly less memory than other data structures.\n",
    "\n",
    "### Data Type Consistency\n",
    "NumPy’s memory efficiency is maximized only when the array contains homogeneous data types. Mixing data types increases memory usage, as shown below:\n",
    "\n"
   ]
  },
  {
   "cell_type": "code",
   "execution_count": 6,
   "id": "a39d8bce-5f40-44bd-ab0d-aaca6d9df8d9",
   "metadata": {},
   "outputs": [
    {
     "name": "stdout",
     "output_type": "stream",
     "text": [
      "Size of homogeneous NumPy array: 160 bytes\n",
      "Size of heterogeneous NumPy array: 464 bytes\n"
     ]
    }
   ],
   "source": [
    "# Homogeneous NumPy array (all integers)\n",
    "numpy_homogeneous = np.array([[1, 2], [3, 3]])\n",
    "print(\"Size of homogeneous NumPy array:\", numpy_homogeneous.__sizeof__(), \"bytes\")\n",
    "\n",
    "# Introducing a string into the array (heterogeneous data)\n",
    "numpy_heterogeneous = np.array([[1, '2'], [3, 3]])\n",
    "print(\"Size of heterogeneous NumPy array:\", numpy_heterogeneous.__sizeof__(), \"bytes\")"
   ]
  },
  {
   "cell_type": "markdown",
   "id": "6ddcf183-d022-4248-a445-14b5da1d095a",
   "metadata": {},
   "source": [
    "The heterogeneous array consumes more than twice the memory of the homogeneous array due to type conversion overhead.\n",
    "\n",
    "### Lists vs. NumPy Arrays\n",
    "In contrast, Python lists do not exhibit significant memory differences whether their elements are homogeneous or heterogeneous:"
   ]
  },
  {
   "cell_type": "code",
   "execution_count": 9,
   "id": "e8b6def2-83be-41ee-aa9f-e59560ed34a0",
   "metadata": {},
   "outputs": [
    {
     "name": "stdout",
     "output_type": "stream",
     "text": [
      "Size of homogeneous list: 72 bytes\n",
      "Size of heterogeneous list: 72 bytes\n"
     ]
    }
   ],
   "source": [
    "# Homogeneous list\n",
    "list_homogeneous = [1, 2, 3, 4]\n",
    "print(\"Size of homogeneous list:\", list_homogeneous.__sizeof__(), \"bytes\")\n",
    "\n",
    "# Heterogeneous list (mixed data types)\n",
    "list_heterogeneous = [1, '2', 3, 4]\n",
    "print(\"Size of heterogeneous list:\", list_heterogeneous.__sizeof__(), \"bytes\")"
   ]
  },
  {
   "cell_type": "markdown",
   "id": "83e6ff7a-e78d-438f-93ad-b9e45909c5e3",
   "metadata": {},
   "source": [
    "### Key points about NumPy\n",
    "\n",
    "* NumPy arrays store data more efficiently than lists, tuples, or Pandas DataFrames.\n",
    "* Memory efficiency increases with homogeneous data. Introducing mixed data types negates this advantage.\n",
    "* For small datasets, memory differences may be negligible. However, for large datasets, NumPy’s efficiency becomes significant.\n",
    "* Unlike NumPy arrays, lists do not benefit from data homogeneity.\n",
    "* For optimal performance, NumPy arrays should be used primarily for large-scale numerical computations involving homogeneous data."
   ]
  },
  {
   "cell_type": "markdown",
   "id": "380b5d9f-7785-4e25-afba-2f7abd4c379d",
   "metadata": {},
   "source": [
    "### NumPy Arrays Are Fast!!\n",
    "This is the most important point about NumPy arrays and the focus of this lecture.  You'll want to take advantage of this.  NumPy arrays enable significantly faster mathematical computations compared to other data structures due to several key factors:\n",
    "\n",
    "Since NumPy arrays store homogeneous data in a contiguous memory block, data retrieval is quicker, which enhances computational speed.\n",
    "NumPy supports vectorized operations, eliminating the need for slow Python for-loops. The package efficiently breaks down computations into multiple fragments and processes them in parallel.\n",
    "NumPy integrates C and C++ code within Python, leveraging the speed of these low-level languages, which execute much faster than pure Python code.  We won't worry about the Big-O but just know that it is fast!\n",
    "\n",
    "The following example demonstrates the performance advantage of NumPy for numerical computations.\n",
    "\n",
    "Example: Multiplying all whole numbers up to 1 million by 2 and comparing the time taken using different data structures."
   ]
  },
  {
   "cell_type": "code",
   "execution_count": 18,
   "id": "0875a0ab-37e5-410e-864a-3014ae25685b",
   "metadata": {},
   "outputs": [
    {
     "name": "stdout",
     "output_type": "stream",
     "text": [
      "Time taken to multiply numbers in a list = 0.038156986236572266\n",
      "Time taken to multiply numbers in a tuple = 0.03747200965881348\n",
      "Time taken to multiply numbers in a Pandas DataFrame = 0.0072021484375\n",
      "Time taken to multiply numbers in a NumPy array = 0.0016620159149169922\n"
     ]
    }
   ],
   "source": [
    "import numpy as np\n",
    "import pandas as pd\n",
    "import time as tm\n",
    "\n",
    "# Multiplication using a list\n",
    "start_time = tm.time()\n",
    "list_ex = list(range(1000000))\n",
    "a = [x * 2 for x in list_ex]\n",
    "print(\"Time taken to multiply numbers in a list =\", tm.time() - start_time)\n",
    "\n",
    "# Multiplication using a tuple\n",
    "start_time = tm.time()\n",
    "tuple_ex = tuple(range(1000000))\n",
    "a = tuple(x * 2 for x in tuple_ex)\n",
    "print(\"Time taken to multiply numbers in a tuple =\", tm.time() - start_time)\n",
    "\n",
    "# Multiplication using a Pandas DataFrame\n",
    "start_time = tm.time()\n",
    "df_ex = pd.DataFrame(range(1000000))\n",
    "a = df_ex * 2\n",
    "print(\"Time taken to multiply numbers in a Pandas DataFrame =\", tm.time() - start_time)\n",
    "\n",
    "# Multiplication using a NumPy array\n",
    "start_time = tm.time()\n",
    "numpy_ex = np.arange(1000000)\n",
    "a = numpy_ex * 2\n",
    "print(\"Time taken to multiply numbers in a NumPy array =\", tm.time() - start_time)"
   ]
  },
  {
   "cell_type": "markdown",
   "id": "066781d0-ee86-43a1-ab57-b90760649a5f",
   "metadata": {},
   "source": [
    "### Working with the NumPy Array\n",
    "\n",
    "Let’s define a NumPy array:\n",
    "\n"
   ]
  },
  {
   "cell_type": "code",
   "execution_count": 21,
   "id": "a8455764-1c0b-4f1b-8431-9b1a77015726",
   "metadata": {},
   "outputs": [
    {
     "data": {
      "text/plain": [
       "array([[1, 2, 3],\n",
       "       [4, 5, 6]])"
      ]
     },
     "execution_count": 21,
     "metadata": {},
     "output_type": "execute_result"
    }
   ],
   "source": [
    "numpy_ex = np.array([[1, 2, 3], [4, 5, 6]])\n",
    "numpy_ex\n",
    "#Output:\n",
    "#\n",
    "#array([[1, 2, 3],\n",
    "#       [4, 5, 6]])\n"
   ]
  },
  {
   "cell_type": "markdown",
   "id": "a048cdc9-2d76-489d-95b5-7846f3c1c972",
   "metadata": {},
   "source": [
    "The attributes of numpy_ex can be viewed by typing numpy_ex, followed by a period (.), and pressing the tab key.\n",
    "\n",
    "Here are some important attributes of a NumPy array:\n",
    "\n",
    "* **ndim**\n",
    "Indicates the number of dimensions (or axes) of the array.\n",
    "\n",
    "* **shape**\n",
    "A tuple that represents the size of the array along each dimension. For a matrix with n rows and m columns, the shape is (n, m). The number of dimensions, or rank, is the length of this tuple.\n",
    "\n",
    "* **size**\n",
    "The total number of elements in the array, which is the product of the elements in the shape tuple.\n",
    "\n",
    "* **dtype**\n",
    "Describes the type of the elements in the array. You can create or specify the dtype using standard Python types, or use the types provided by NumPy, such as bool_, int_, float32, complex64, etc.\n",
    "\n",
    "\n"
   ]
  },
  {
   "cell_type": "code",
   "execution_count": 30,
   "id": "246a76cd-caa2-4782-ae9b-303a8a40a306",
   "metadata": {},
   "outputs": [
    {
     "name": "stdout",
     "output_type": "stream",
     "text": [
      "ndim: 2\n",
      "shape: (2, 3)\n",
      "size 6\n"
     ]
    }
   ],
   "source": [
    "\n",
    "print(\"ndim:\", numpy_ex.ndim)\n",
    "print(\"shape:\", numpy_ex.shape)\n",
    "print(\"size\", numpy_ex.size)\n",
    "print(\"dtype\", numpy_ex.dtype)\n",
    "\n",
    "\n"
   ]
  },
  {
   "cell_type": "markdown",
   "id": "1faa015d-3f67-4419-ae08-3179d1cc0f44",
   "metadata": {},
   "source": [
    "* **T**\n",
    "This attribute returns the transpose of the NumPy array, which is often used to make 2D arrays compatible for matrix multiplication.\n",
    "\n",
    "For matrix multiplication to occur, the number of columns in the first matrix must equal the number of rows in the second. For example:\n",
    "\n"
   ]
  },
  {
   "cell_type": "code",
   "execution_count": 37,
   "id": "795658e5-eb91-431c-89d7-7367a118012b",
   "metadata": {},
   "outputs": [
    {
     "name": "stdout",
     "output_type": "stream",
     "text": [
      "(2, 3)\n",
      "(2, 3)\n"
     ]
    }
   ],
   "source": [
    "matrix_to_multiply = np.array([[1, 2, 1], [0, 1, 0]])\n",
    "print(matrix_to_multiply.shape)\n",
    "print(numpy_ex.shape)\n",
    "#Output:\n",
    "#matrix_to_multiply.shape -> (2, 3)\n",
    "#numpy_ex.shape -> (2, 3)\n"
   ]
  },
  {
   "cell_type": "markdown",
   "id": "e40b796e-2dfa-4e01-b9c2-c7640fa9a47c",
   "metadata": {},
   "source": [
    "The shapes of the two matrices are not compatible for multiplication because the number of columns in the first matrix (3) does not match the number of rows in the second matrix (2). However, by transposing one of the matrices, their shapes will align.    To do matrix multiplication you use the **.dot** \n",
    "\n"
   ]
  },
  {
   "cell_type": "code",
   "execution_count": 45,
   "id": "11983cab-d59f-442f-b961-4a0a3b5a1551",
   "metadata": {},
   "outputs": [
    {
     "name": "stdout",
     "output_type": "stream",
     "text": [
      "(3, 2)\n",
      "[[ 1  2  3]\n",
      " [ 6  9 12]\n",
      " [ 1  2  3]]\n",
      "[[ 8  2]\n",
      " [20  5]]\n"
     ]
    }
   ],
   "source": [
    "matrix_to_multiply_transpose = matrix_to_multiply.T\n",
    "\n",
    "print(matrix_to_multiply_transpose.shape)  #Output (3, 2)\n",
    "\n",
    "#Now, these matrices are compatible for multiplication, \n",
    "#and the result will depend on the multiplication order:\n",
    "\n",
    "# Matrix multiplication with the transposed matrix first\n",
    "print (matrix_to_multiply_transpose.dot(numpy_ex))\n",
    "#Output:\n",
    "#\n",
    "#array([[1, 2, 3],\n",
    "#       [6, 9, 12],\n",
    "#       [1, 2, 3]])\n",
    "\n",
    "# Matrix multiplication with numpy_ex first\n",
    "print(numpy_ex.dot(matrix_to_multiply_transpose))\n",
    "#Output:\n",
    "#\n",
    "#array([[8, 2],\n",
    "#       [20, 5]])\n",
    "#The resulting matrix shape will be (rows of the first matrix, columns of the second matrix). The order in which matrices are multiplied depends on the problem requirements.\n",
    "\n"
   ]
  },
  {
   "cell_type": "markdown",
   "id": "7fb8bedf-401a-4b88-8048-86f3995dbbc5",
   "metadata": {},
   "source": [
    "###  Arithmetic Operations\n",
    "\n",
    "NumPy arrays support arithmetic operators like +, -, *, and so on. You can perform arithmetic operations between an array and a scalar or between two arrays with the same shape. However, you cannot perform arithmetic operations between arrays with different shapes.\n",
    "\n",
    "Here are some examples of arithmetic operations on arrays:\n",
    "\n"
   ]
  },
  {
   "cell_type": "code",
   "execution_count": 47,
   "id": "41c96c0b-7988-4df8-ac64-d21063fae493",
   "metadata": {},
   "outputs": [
    {
     "name": "stdout",
     "output_type": "stream",
     "text": [
      "[[12 14 16 18]\n",
      " [20 22 24 26]\n",
      " [28 12 14 16]]\n",
      "[[10 10 10 10]\n",
      " [10 10 10 10]\n",
      " [10 10 10 10]]\n",
      "[[ 4  5  6  7]\n",
      " [ 8  9 10 11]\n",
      " [12  4  5  6]]\n",
      "[[0.5 1.  1.5 2. ]\n",
      " [2.5 3.  3.5 4. ]\n",
      " [4.5 0.5 1.  1.5]]\n",
      "[[ 11  24  39  56]\n",
      " [ 75  96 119 144]\n",
      " [171  11  24  39]]\n",
      "[[1 2 3 0]\n",
      " [1 2 3 0]\n",
      " [1 1 2 3]]\n"
     ]
    }
   ],
   "source": [
    "# Defining two arrays of the same shape\n",
    "arr1 = np.array([[1, 2, 3, 4], \n",
    "                 [5, 6, 7, 8], \n",
    "                 [9, 1, 2, 3]])\n",
    "arr2 = np.array([[11, 12, 13, 14], \n",
    "                 [15, 16, 17, 18], \n",
    "                 [19, 11, 12, 13]])\n",
    "\n",
    "# Element-wise summation of arrays\n",
    "arr3= arr1 + arr2\n",
    "print(arr3)\n",
    "\n",
    "#Output:\n",
    "#\n",
    "#array([[12, 14, 16, 18],\n",
    "#       [20, 22, 24, 26],\n",
    "#       [28, 12, 14, 16]])\n",
    "\n",
    "\n",
    "# Element-wise subtraction\n",
    "print(arr2 - arr1)\n",
    "\n",
    "#Output:\n",
    "#\n",
    "#array([[10, 10, 10, 10],\n",
    "#       [10, 10, 10, 10],\n",
    "#       [10, 10, 10, 10]])\n",
    "\n",
    "\n",
    "# Adding a scalar to an array adds the scalar to each element of the array\n",
    "print(arr1 + 3)\n",
    "\n",
    "#Output:\n",
    "#\n",
    "#array([[ 4,  5,  6,  7],\n",
    "#       [ 8,  9, 10, 11],\n",
    "#       [12,  4,  5,  6]])\n",
    "\n",
    "# Dividing an array by a scalar divides all elements by the scalar\n",
    "print(arr1 / 2)\n",
    "#Output:\n",
    "#\n",
    "#array([[0.5, 1. , 1.5, 2. ],\n",
    "#       [2.5, 3. , 3.5, 4. ],\n",
    "#       [4.5, 0.5, 1. , 1.5]])\n",
    "\n",
    "# Element-wise multiplication\n",
    "print(arr1 * arr2)\n",
    "\n",
    "#Output:\n",
    "#array([[ 11,  24,  39,  56],\n",
    "#       [ 75,  96, 119, 144],\n",
    "#       [171,  11,  24,  39]])\n",
    "\n",
    "# Modulus operator with scalar\n",
    "print (arr1 % 4)\n",
    "#Output:\n",
    "#\n",
    "#array([[1, 2, 3, 0],\n",
    "#       [1, 2, 3, 0],\n",
    "#       [1, 1, 2, 3]])"
   ]
  },
  {
   "cell_type": "markdown",
   "id": "6b1eade3-0c31-47a5-9bce-868adaf177fd",
   "metadata": {},
   "source": [
    "### Broadcasting\n",
    "Broadcasting enables arithmetic operations between arrays with different dimensions, provided their shapes are compatible.\n",
    "\n",
    "NumPy’s documentation describes broadcasting as follows:\n",
    "\n",
    "Broadcasting refers to how NumPy handles arrays of different shapes during arithmetic operations. Given certain conditions, the smaller array is expanded across the larger one to match its shape. This technique allows vectorized operations, ensuring computations are performed in C rather than Python, improving efficiency while avoiding unnecessary data duplication.\n",
    "The following example demonstrates broadcasting:"
   ]
  },
  {
   "cell_type": "code",
   "execution_count": 51,
   "id": "c3506ff2-1651-48d0-a14c-f5ab838133cd",
   "metadata": {},
   "outputs": [
    {
     "data": {
      "text/plain": [
       "array([[ 5,  7,  9, 11],\n",
       "       [ 9, 11, 13, 15],\n",
       "       [13,  6,  8, 10]])"
      ]
     },
     "execution_count": 51,
     "metadata": {},
     "output_type": "execute_result"
    }
   ],
   "source": [
    "arr1 = np.array([[1, 2, 3, 4], \n",
    "                 [5, 6, 7, 8], \n",
    "                 [9, 1, 2, 3]])\n",
    "arr2 = np.array([4, 5, 6, 7])\n",
    "\n",
    "arr1 + arr2"
   ]
  },
  {
   "cell_type": "markdown",
   "id": "9c1aecd6-e2b5-4611-93a9-c6a959ffc228",
   "metadata": {},
   "source": [
    "Here, arr2 has shape (4,), while arr1 has shape (3,4). NumPy expands arr2 across the rows of arr1, matching its shape without physically replicating data. This enhances performance while minimizing memory usage.\n",
    "\n",
    "Broadcasting occurs because both arrays have the same rightmost dimension (4). However, the leftmost dimension of one array must be 1 for broadcasting to take effect.\n",
    "\n",
    "NumPy follows specific rules to determine if broadcasting is possible:\n",
    "\n",
    "“When performing operations on two arrays, NumPy compares their shapes element-wise, starting from the rightmost dimension and moving left. Two dimensions are considered compatible if:\n",
    "They are equal, or\n",
    "One of them is 1”\n",
    "If arr2 had a shape (3,) instead of (4,), broadcasting would not occur, as the rightmost dimensions of arr1 and arr2 would not match."
   ]
  },
  {
   "cell_type": "code",
   "execution_count": 54,
   "id": "34f605c4-1a7c-4642-a47e-04fffa2e44d9",
   "metadata": {},
   "outputs": [
    {
     "ename": "ValueError",
     "evalue": "operands could not be broadcast together with shapes (3,4) (3,) ",
     "output_type": "error",
     "traceback": [
      "\u001b[0;31m---------------------------------------------------------------------------\u001b[0m",
      "\u001b[0;31mValueError\u001b[0m                                Traceback (most recent call last)",
      "Cell \u001b[0;32mIn[54], line 5\u001b[0m\n\u001b[1;32m      2\u001b[0m arr2 \u001b[38;5;241m=\u001b[39m np\u001b[38;5;241m.\u001b[39marray([\u001b[38;5;241m4\u001b[39m, \u001b[38;5;241m5\u001b[39m, \u001b[38;5;241m6\u001b[39m])\n\u001b[1;32m      4\u001b[0m \u001b[38;5;66;03m# Broadcasting fails due to shape mismatch\u001b[39;00m\n\u001b[0;32m----> 5\u001b[0m arr1 \u001b[38;5;241m+\u001b[39m arr2\n",
      "\u001b[0;31mValueError\u001b[0m: operands could not be broadcast together with shapes (3,4) (3,) "
     ]
    }
   ],
   "source": [
    "# Defining arr2 with shape (3,)\n",
    "arr2 = np.array([4, 5, 6])\n",
    "\n",
    "# Broadcasting fails due to shape mismatch\n",
    "arr1 + arr2"
   ]
  },
  {
   "cell_type": "markdown",
   "id": "c44d642f-fa90-4dd3-a4ea-b4a27137c4ca",
   "metadata": {},
   "source": [
    "### Comparison\n",
    "NumPy arrays support comparison operations such as ==, !=, and >, returning boolean arrays as results."
   ]
  },
  {
   "cell_type": "code",
   "execution_count": 59,
   "id": "00725073-694b-4931-aaf0-b9ef0545d47f",
   "metadata": {},
   "outputs": [
    {
     "name": "stdout",
     "output_type": "stream",
     "text": [
      "[[False  True  True]\n",
      " [False False  True]]\n",
      "[[ True False False]\n",
      " [ True  True False]]\n",
      "[[False False False]\n",
      " [ True  True False]]\n"
     ]
    }
   ],
   "source": [
    "arr1 = np.array([[1, 2, 3], [3, 4, 5]])\n",
    "arr2 = np.array([[2, 2, 3], [1, 2, 5]])\n",
    "\n",
    "print(arr1 == arr2)\n",
    "\n",
    "\n",
    "print(arr1 != arr2)\n",
    "\n",
    "print(arr1>arr2)\n",
    "\n",
    "\n"
   ]
  },
  {
   "cell_type": "code",
   "execution_count": 61,
   "id": "52778b2d-a039-4b5e-b644-e8b561593bb8",
   "metadata": {},
   "outputs": [
    {
     "name": "stdout",
     "output_type": "stream",
     "text": [
      "3\n"
     ]
    }
   ],
   "source": [
    "#Array comparisons are often used to count matching elements \n",
    "#between two arrays. Since True evaluates to 1 and False to 0 \n",
    "#in arithmetic operations, we can use the .sum() method:\n",
    "\n",
    "print((arr1 == arr2).sum())"
   ]
  },
  {
   "cell_type": "code",
   "execution_count": null,
   "id": "83bd0a09-41bc-4d3e-8e03-523b92f865c7",
   "metadata": {},
   "outputs": [],
   "source": []
  }
 ],
 "metadata": {
  "kernelspec": {
   "display_name": "Python [conda env:base] *",
   "language": "python",
   "name": "conda-base-py"
  },
  "language_info": {
   "codemirror_mode": {
    "name": "ipython",
    "version": 3
   },
   "file_extension": ".py",
   "mimetype": "text/x-python",
   "name": "python",
   "nbconvert_exporter": "python",
   "pygments_lexer": "ipython3",
   "version": "3.12.2"
  }
 },
 "nbformat": 4,
 "nbformat_minor": 5
}
