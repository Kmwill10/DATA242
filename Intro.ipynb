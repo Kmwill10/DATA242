{
 "cells": [
  {
   "cell_type": "markdown",
   "id": "58febfd4-8ed4-481b-80ff-fde2470f7d3f",
   "metadata": {},
   "source": [
    "# Refresher on Python and Our Programming Environment\n",
    "**Anaconda:** You will need to download the [Anaconda installer](https://docs.anaconda.com/anaconda/install/) and follow the instructions for installation.  You'll use the Jupyter Notebook to write code for class.  DO NOT ENABLE AI."
   ]
  },
  {
   "cell_type": "markdown",
   "id": "3792794c-4ad6-4327-94f8-73e74a7110e1",
   "metadata": {},
   "source": [
    "## Object--Oriented Programming\n",
    "Object-oriented programming takes center stage in COMP142, the second-level programming course at Rhodes. DATA242 builds on this foundation by integrating concepts from COMP142 (Object-Oriented Programming) and COMP241 (Data Structures and Algorithms). In this course, we’ll explore how algorithms and objects can be leveraged to work effectively with data. Let’s take a moment to review what we already know about objects—you encountered them in COMP141, even if you didn’t realize it at the time!\n",
    "\n",
    "Python is an object-oriented programming language. Simply put, this means that everything in Python—numbers, strings, data structures, functions, classes, modules, etc.—is represented as an object within the Python interpreter. Objects can have associated attributes and methods.   That is, object store data and there are specific opterations that we can do on the data.  For example, consider the following variable that stores an integer:\n"
   ]
  },
  {
   "cell_type": "code",
   "execution_count": 21,
   "id": "00578db9-faa0-4602-b4e7-68cebafefdf9",
   "metadata": {},
   "outputs": [],
   "source": [
    "myInt= 5"
   ]
  },
  {
   "cell_type": "markdown",
   "id": "c198a62d-2210-4cb3-9371-c872a31a704d",
   "metadata": {},
   "source": [
    "Here, the variable *myString* is an object that comes with predefined attributes (data) and methods (actions you can do on the data). For instance, the attributes real and imag store the real and imaginary parts of the object *myInt*:"
   ]
  },
  {
   "cell_type": "code",
   "execution_count": 23,
   "id": "a6b8afdc-0f96-4655-9357-c1f567948637",
   "metadata": {},
   "outputs": [
    {
     "name": "stdout",
     "output_type": "stream",
     "text": [
      "Hello DATA242\n",
      "Help on class str in module builtins:\n",
      "\n",
      "class str(object)\n",
      " |  str(object='') -> str\n",
      " |  str(bytes_or_buffer[, encoding[, errors]]) -> str\n",
      " |\n",
      " |  Create a new string object from the given object. If encoding or\n",
      " |  errors is specified, then the object must expose a data buffer\n",
      " |  that will be decoded using the given encoding and error handler.\n",
      " |  Otherwise, returns the result of object.__str__() (if defined)\n",
      " |  or repr(object).\n",
      " |  encoding defaults to sys.getdefaultencoding().\n",
      " |  errors defaults to 'strict'.\n",
      " |\n",
      " |  Methods defined here:\n",
      " |\n",
      " |  __add__(self, value, /)\n",
      " |      Return self+value.\n",
      " |\n",
      " |  __contains__(self, key, /)\n",
      " |      Return bool(key in self).\n",
      " |\n",
      " |  __eq__(self, value, /)\n",
      " |      Return self==value.\n",
      " |\n",
      " |  __format__(self, format_spec, /)\n",
      " |      Return a formatted version of the string as described by format_spec.\n",
      " |\n",
      " |  __ge__(self, value, /)\n",
      " |      Return self>=value.\n",
      " |\n",
      " |  __getitem__(self, key, /)\n",
      " |      Return self[key].\n",
      " |\n",
      " |  __getnewargs__(...)\n",
      " |\n",
      " |  __gt__(self, value, /)\n",
      " |      Return self>value.\n",
      " |\n",
      " |  __hash__(self, /)\n",
      " |      Return hash(self).\n",
      " |\n",
      " |  __iter__(self, /)\n",
      " |      Implement iter(self).\n",
      " |\n",
      " |  __le__(self, value, /)\n",
      " |      Return self<=value.\n",
      " |\n",
      " |  __len__(self, /)\n",
      " |      Return len(self).\n",
      " |\n",
      " |  __lt__(self, value, /)\n",
      " |      Return self<value.\n",
      " |\n",
      " |  __mod__(self, value, /)\n",
      " |      Return self%value.\n",
      " |\n",
      " |  __mul__(self, value, /)\n",
      " |      Return self*value.\n",
      " |\n",
      " |  __ne__(self, value, /)\n",
      " |      Return self!=value.\n",
      " |\n",
      " |  __repr__(self, /)\n",
      " |      Return repr(self).\n",
      " |\n",
      " |  __rmod__(self, value, /)\n",
      " |      Return value%self.\n",
      " |\n",
      " |  __rmul__(self, value, /)\n",
      " |      Return value*self.\n",
      " |\n",
      " |  __sizeof__(self, /)\n",
      " |      Return the size of the string in memory, in bytes.\n",
      " |\n",
      " |  __str__(self, /)\n",
      " |      Return str(self).\n",
      " |\n",
      " |  capitalize(self, /)\n",
      " |      Return a capitalized version of the string.\n",
      " |\n",
      " |      More specifically, make the first character have upper case and the rest lower\n",
      " |      case.\n",
      " |\n",
      " |  casefold(self, /)\n",
      " |      Return a version of the string suitable for caseless comparisons.\n",
      " |\n",
      " |  center(self, width, fillchar=' ', /)\n",
      " |      Return a centered string of length width.\n",
      " |\n",
      " |      Padding is done using the specified fill character (default is a space).\n",
      " |\n",
      " |  count(...)\n",
      " |      S.count(sub[, start[, end]]) -> int\n",
      " |\n",
      " |      Return the number of non-overlapping occurrences of substring sub in\n",
      " |      string S[start:end].  Optional arguments start and end are\n",
      " |      interpreted as in slice notation.\n",
      " |\n",
      " |  encode(self, /, encoding='utf-8', errors='strict')\n",
      " |      Encode the string using the codec registered for encoding.\n",
      " |\n",
      " |      encoding\n",
      " |        The encoding in which to encode the string.\n",
      " |      errors\n",
      " |        The error handling scheme to use for encoding errors.\n",
      " |        The default is 'strict' meaning that encoding errors raise a\n",
      " |        UnicodeEncodeError.  Other possible values are 'ignore', 'replace' and\n",
      " |        'xmlcharrefreplace' as well as any other name registered with\n",
      " |        codecs.register_error that can handle UnicodeEncodeErrors.\n",
      " |\n",
      " |  endswith(...)\n",
      " |      S.endswith(suffix[, start[, end]]) -> bool\n",
      " |\n",
      " |      Return True if S ends with the specified suffix, False otherwise.\n",
      " |      With optional start, test S beginning at that position.\n",
      " |      With optional end, stop comparing S at that position.\n",
      " |      suffix can also be a tuple of strings to try.\n",
      " |\n",
      " |  expandtabs(self, /, tabsize=8)\n",
      " |      Return a copy where all tab characters are expanded using spaces.\n",
      " |\n",
      " |      If tabsize is not given, a tab size of 8 characters is assumed.\n",
      " |\n",
      " |  find(...)\n",
      " |      S.find(sub[, start[, end]]) -> int\n",
      " |\n",
      " |      Return the lowest index in S where substring sub is found,\n",
      " |      such that sub is contained within S[start:end].  Optional\n",
      " |      arguments start and end are interpreted as in slice notation.\n",
      " |\n",
      " |      Return -1 on failure.\n",
      " |\n",
      " |  format(...)\n",
      " |      S.format(*args, **kwargs) -> str\n",
      " |\n",
      " |      Return a formatted version of S, using substitutions from args and kwargs.\n",
      " |      The substitutions are identified by braces ('{' and '}').\n",
      " |\n",
      " |  format_map(...)\n",
      " |      S.format_map(mapping) -> str\n",
      " |\n",
      " |      Return a formatted version of S, using substitutions from mapping.\n",
      " |      The substitutions are identified by braces ('{' and '}').\n",
      " |\n",
      " |  index(...)\n",
      " |      S.index(sub[, start[, end]]) -> int\n",
      " |\n",
      " |      Return the lowest index in S where substring sub is found,\n",
      " |      such that sub is contained within S[start:end].  Optional\n",
      " |      arguments start and end are interpreted as in slice notation.\n",
      " |\n",
      " |      Raises ValueError when the substring is not found.\n",
      " |\n",
      " |  isalnum(self, /)\n",
      " |      Return True if the string is an alpha-numeric string, False otherwise.\n",
      " |\n",
      " |      A string is alpha-numeric if all characters in the string are alpha-numeric and\n",
      " |      there is at least one character in the string.\n",
      " |\n",
      " |  isalpha(self, /)\n",
      " |      Return True if the string is an alphabetic string, False otherwise.\n",
      " |\n",
      " |      A string is alphabetic if all characters in the string are alphabetic and there\n",
      " |      is at least one character in the string.\n",
      " |\n",
      " |  isascii(self, /)\n",
      " |      Return True if all characters in the string are ASCII, False otherwise.\n",
      " |\n",
      " |      ASCII characters have code points in the range U+0000-U+007F.\n",
      " |      Empty string is ASCII too.\n",
      " |\n",
      " |  isdecimal(self, /)\n",
      " |      Return True if the string is a decimal string, False otherwise.\n",
      " |\n",
      " |      A string is a decimal string if all characters in the string are decimal and\n",
      " |      there is at least one character in the string.\n",
      " |\n",
      " |  isdigit(self, /)\n",
      " |      Return True if the string is a digit string, False otherwise.\n",
      " |\n",
      " |      A string is a digit string if all characters in the string are digits and there\n",
      " |      is at least one character in the string.\n",
      " |\n",
      " |  isidentifier(self, /)\n",
      " |      Return True if the string is a valid Python identifier, False otherwise.\n",
      " |\n",
      " |      Call keyword.iskeyword(s) to test whether string s is a reserved identifier,\n",
      " |      such as \"def\" or \"class\".\n",
      " |\n",
      " |  islower(self, /)\n",
      " |      Return True if the string is a lowercase string, False otherwise.\n",
      " |\n",
      " |      A string is lowercase if all cased characters in the string are lowercase and\n",
      " |      there is at least one cased character in the string.\n",
      " |\n",
      " |  isnumeric(self, /)\n",
      " |      Return True if the string is a numeric string, False otherwise.\n",
      " |\n",
      " |      A string is numeric if all characters in the string are numeric and there is at\n",
      " |      least one character in the string.\n",
      " |\n",
      " |  isprintable(self, /)\n",
      " |      Return True if the string is printable, False otherwise.\n",
      " |\n",
      " |      A string is printable if all of its characters are considered printable in\n",
      " |      repr() or if it is empty.\n",
      " |\n",
      " |  isspace(self, /)\n",
      " |      Return True if the string is a whitespace string, False otherwise.\n",
      " |\n",
      " |      A string is whitespace if all characters in the string are whitespace and there\n",
      " |      is at least one character in the string.\n",
      " |\n",
      " |  istitle(self, /)\n",
      " |      Return True if the string is a title-cased string, False otherwise.\n",
      " |\n",
      " |      In a title-cased string, upper- and title-case characters may only\n",
      " |      follow uncased characters and lowercase characters only cased ones.\n",
      " |\n",
      " |  isupper(self, /)\n",
      " |      Return True if the string is an uppercase string, False otherwise.\n",
      " |\n",
      " |      A string is uppercase if all cased characters in the string are uppercase and\n",
      " |      there is at least one cased character in the string.\n",
      " |\n",
      " |  join(self, iterable, /)\n",
      " |      Concatenate any number of strings.\n",
      " |\n",
      " |      The string whose method is called is inserted in between each given string.\n",
      " |      The result is returned as a new string.\n",
      " |\n",
      " |      Example: '.'.join(['ab', 'pq', 'rs']) -> 'ab.pq.rs'\n",
      " |\n",
      " |  ljust(self, width, fillchar=' ', /)\n",
      " |      Return a left-justified string of length width.\n",
      " |\n",
      " |      Padding is done using the specified fill character (default is a space).\n",
      " |\n",
      " |  lower(self, /)\n",
      " |      Return a copy of the string converted to lowercase.\n",
      " |\n",
      " |  lstrip(self, chars=None, /)\n",
      " |      Return a copy of the string with leading whitespace removed.\n",
      " |\n",
      " |      If chars is given and not None, remove characters in chars instead.\n",
      " |\n",
      " |  partition(self, sep, /)\n",
      " |      Partition the string into three parts using the given separator.\n",
      " |\n",
      " |      This will search for the separator in the string.  If the separator is found,\n",
      " |      returns a 3-tuple containing the part before the separator, the separator\n",
      " |      itself, and the part after it.\n",
      " |\n",
      " |      If the separator is not found, returns a 3-tuple containing the original string\n",
      " |      and two empty strings.\n",
      " |\n",
      " |  removeprefix(self, prefix, /)\n",
      " |      Return a str with the given prefix string removed if present.\n",
      " |\n",
      " |      If the string starts with the prefix string, return string[len(prefix):].\n",
      " |      Otherwise, return a copy of the original string.\n",
      " |\n",
      " |  removesuffix(self, suffix, /)\n",
      " |      Return a str with the given suffix string removed if present.\n",
      " |\n",
      " |      If the string ends with the suffix string and that suffix is not empty,\n",
      " |      return string[:-len(suffix)]. Otherwise, return a copy of the original\n",
      " |      string.\n",
      " |\n",
      " |  replace(self, old, new, count=-1, /)\n",
      " |      Return a copy with all occurrences of substring old replaced by new.\n",
      " |\n",
      " |        count\n",
      " |          Maximum number of occurrences to replace.\n",
      " |          -1 (the default value) means replace all occurrences.\n",
      " |\n",
      " |      If the optional argument count is given, only the first count occurrences are\n",
      " |      replaced.\n",
      " |\n",
      " |  rfind(...)\n",
      " |      S.rfind(sub[, start[, end]]) -> int\n",
      " |\n",
      " |      Return the highest index in S where substring sub is found,\n",
      " |      such that sub is contained within S[start:end].  Optional\n",
      " |      arguments start and end are interpreted as in slice notation.\n",
      " |\n",
      " |      Return -1 on failure.\n",
      " |\n",
      " |  rindex(...)\n",
      " |      S.rindex(sub[, start[, end]]) -> int\n",
      " |\n",
      " |      Return the highest index in S where substring sub is found,\n",
      " |      such that sub is contained within S[start:end].  Optional\n",
      " |      arguments start and end are interpreted as in slice notation.\n",
      " |\n",
      " |      Raises ValueError when the substring is not found.\n",
      " |\n",
      " |  rjust(self, width, fillchar=' ', /)\n",
      " |      Return a right-justified string of length width.\n",
      " |\n",
      " |      Padding is done using the specified fill character (default is a space).\n",
      " |\n",
      " |  rpartition(self, sep, /)\n",
      " |      Partition the string into three parts using the given separator.\n",
      " |\n",
      " |      This will search for the separator in the string, starting at the end. If\n",
      " |      the separator is found, returns a 3-tuple containing the part before the\n",
      " |      separator, the separator itself, and the part after it.\n",
      " |\n",
      " |      If the separator is not found, returns a 3-tuple containing two empty strings\n",
      " |      and the original string.\n",
      " |\n",
      " |  rsplit(self, /, sep=None, maxsplit=-1)\n",
      " |      Return a list of the substrings in the string, using sep as the separator string.\n",
      " |\n",
      " |        sep\n",
      " |          The separator used to split the string.\n",
      " |\n",
      " |          When set to None (the default value), will split on any whitespace\n",
      " |          character (including \\n \\r \\t \\f and spaces) and will discard\n",
      " |          empty strings from the result.\n",
      " |        maxsplit\n",
      " |          Maximum number of splits.\n",
      " |          -1 (the default value) means no limit.\n",
      " |\n",
      " |      Splitting starts at the end of the string and works to the front.\n",
      " |\n",
      " |  rstrip(self, chars=None, /)\n",
      " |      Return a copy of the string with trailing whitespace removed.\n",
      " |\n",
      " |      If chars is given and not None, remove characters in chars instead.\n",
      " |\n",
      " |  split(self, /, sep=None, maxsplit=-1)\n",
      " |      Return a list of the substrings in the string, using sep as the separator string.\n",
      " |\n",
      " |        sep\n",
      " |          The separator used to split the string.\n",
      " |\n",
      " |          When set to None (the default value), will split on any whitespace\n",
      " |          character (including \\n \\r \\t \\f and spaces) and will discard\n",
      " |          empty strings from the result.\n",
      " |        maxsplit\n",
      " |          Maximum number of splits.\n",
      " |          -1 (the default value) means no limit.\n",
      " |\n",
      " |      Splitting starts at the front of the string and works to the end.\n",
      " |\n",
      " |      Note, str.split() is mainly useful for data that has been intentionally\n",
      " |      delimited.  With natural text that includes punctuation, consider using\n",
      " |      the regular expression module.\n",
      " |\n",
      " |  splitlines(self, /, keepends=False)\n",
      " |      Return a list of the lines in the string, breaking at line boundaries.\n",
      " |\n",
      " |      Line breaks are not included in the resulting list unless keepends is given and\n",
      " |      true.\n",
      " |\n",
      " |  startswith(...)\n",
      " |      S.startswith(prefix[, start[, end]]) -> bool\n",
      " |\n",
      " |      Return True if S starts with the specified prefix, False otherwise.\n",
      " |      With optional start, test S beginning at that position.\n",
      " |      With optional end, stop comparing S at that position.\n",
      " |      prefix can also be a tuple of strings to try.\n",
      " |\n",
      " |  strip(self, chars=None, /)\n",
      " |      Return a copy of the string with leading and trailing whitespace removed.\n",
      " |\n",
      " |      If chars is given and not None, remove characters in chars instead.\n",
      " |\n",
      " |  swapcase(self, /)\n",
      " |      Convert uppercase characters to lowercase and lowercase characters to uppercase.\n",
      " |\n",
      " |  title(self, /)\n",
      " |      Return a version of the string where each word is titlecased.\n",
      " |\n",
      " |      More specifically, words start with uppercased characters and all remaining\n",
      " |      cased characters have lower case.\n",
      " |\n",
      " |  translate(self, table, /)\n",
      " |      Replace each character in the string using the given translation table.\n",
      " |\n",
      " |        table\n",
      " |          Translation table, which must be a mapping of Unicode ordinals to\n",
      " |          Unicode ordinals, strings, or None.\n",
      " |\n",
      " |      The table must implement lookup/indexing via __getitem__, for instance a\n",
      " |      dictionary or list.  If this operation raises LookupError, the character is\n",
      " |      left untouched.  Characters mapped to None are deleted.\n",
      " |\n",
      " |  upper(self, /)\n",
      " |      Return a copy of the string converted to uppercase.\n",
      " |\n",
      " |  zfill(self, width, /)\n",
      " |      Pad a numeric string with zeros on the left, to fill a field of the given width.\n",
      " |\n",
      " |      The string is never truncated.\n",
      " |\n",
      " |  ----------------------------------------------------------------------\n",
      " |  Static methods defined here:\n",
      " |\n",
      " |  __new__(*args, **kwargs)\n",
      " |      Create and return a new object.  See help(type) for accurate signature.\n",
      " |\n",
      " |  maketrans(...)\n",
      " |      Return a translation table usable for str.translate().\n",
      " |\n",
      " |      If there is only one argument, it must be a dictionary mapping Unicode\n",
      " |      ordinals (integers) or characters to Unicode ordinals, strings or None.\n",
      " |      Character keys will be then converted to ordinals.\n",
      " |      If there are two arguments, they must be strings of equal length, and\n",
      " |      in the resulting dictionary, each character in x will be mapped to the\n",
      " |      character at the same position in y. If there is a third argument, it\n",
      " |      must be a string, whose characters will be mapped to None in the result.\n",
      "\n"
     ]
    }
   ],
   "source": [
    "print(myInt)\n",
    "help(myInt)  #notice at the end there are descriptors \n",
    "       #It makes no sense for an integer to have an imaginary and real part but \n",
    "       #Python integers do.\n"
   ]
  },
  {
   "cell_type": "code",
   "execution_count": 29,
   "id": "1d2b4ed3-563f-404d-aa42-fec36f235233",
   "metadata": {},
   "outputs": [
    {
     "name": "stdout",
     "output_type": "stream",
     "text": [
      "3\n",
      "0\n"
     ]
    }
   ],
   "source": [
    "#To access the attributes and print them out just use the \".\" after the object\n",
    "print(myInt.real)\n",
    "print(myInt.imag)\n",
    "\n",
    "\n"
   ]
  },
  {
   "cell_type": "markdown",
   "id": "57841c53-3702-486d-9278-8d2ac83f67f4",
   "metadata": {},
   "source": [
    "Objects have both attributes and methods.  Let's define these ideas a little more concretely.\n",
    "* **Attribute:** A value or data associated with an object, defined within the object's class.\n",
    "* **Method:** A function associated with an object, defined within the object's class, and capable of accessing the object’s attributes/data\n",
    "\n",
    "Object-oriented programming is programming with objects.   \n",
    "\n",
    "To view the attributes and methods of an object, type the object nam followed by \".\", then press the Tab key.  Methods need to be called with brackets (and any parameters as needed).  More on this later...\n"
   ]
  },
  {
   "cell_type": "code",
   "execution_count": 37,
   "id": "428d07b4-f91b-412b-a4d1-b9cfc57dca0e",
   "metadata": {},
   "outputs": [
    {
     "name": "stdout",
     "output_type": "stream",
     "text": [
      "True\n"
     ]
    }
   ],
   "source": [
    "print(myInt.is_integer())\n",
    "#Note that is_integer() here is a function or method so you need the brackets.\n",
    "\n",
    "\n",
    "\n",
    "#You try one, maybe even try a different data type!"
   ]
  },
  {
   "cell_type": "markdown",
   "id": "33b4c10e-43bd-4a2e-968b-eb6e568fba2c",
   "metadata": {},
   "source": [
    "Here's an example of a class.  We'll talk more about this later.  But I think it's appropriate to make you first Python class on the first day of class.  "
   ]
  },
  {
   "cell_type": "code",
   "execution_count": 65,
   "id": "50684992-5fbb-4d13-a7e0-c953e22aceda",
   "metadata": {},
   "outputs": [
    {
     "name": "stdout",
     "output_type": "stream",
     "text": [
      "Hello DATA242\n"
     ]
    }
   ],
   "source": [
    "class data_class:\n",
    "    class_name = \"DATA242\"\n",
    "    def printhello(self):\n",
    "        print(\"Hello\", self.class_name)\n",
    "\n",
    "myclass=data_class()\n",
    "myclass.printhello()\n"
   ]
  },
  {
   "cell_type": "markdown",
   "id": "a5077414-bfba-4e0e-bab7-9487383d2b9a",
   "metadata": {},
   "source": [
    "In the class definition above **class_name** is an attribut and **printhello** is a method.  A class is a definition for an object.  You do not have an oject just by a class definition alone.  You have to create an object.  An object is one instance of a class.  myclass is declared to be an object of type data_class.  **myclass** is an object."
   ]
  },
  {
   "cell_type": "markdown",
   "id": "4d257fb8-4a49-4c74-8437-db5b761c276e",
   "metadata": {},
   "source": [
    "## Variables and Objects: Call by reference \n",
    "For non-primitive types, Python utilizes a system, which is known as *Call by Object Reference*. When an object is assigned to a variable name, the variable name serves as a reference to the object. For example, consider the following assignment:"
   ]
  },
  {
   "cell_type": "code",
   "execution_count": 74,
   "id": "afeaffef-a76c-4d6c-8dad-39d47f29e82c",
   "metadata": {},
   "outputs": [],
   "source": [
    "a = [2,4]"
   ]
  },
  {
   "cell_type": "markdown",
   "id": "6e5a0c16-dbaf-40dd-b30b-6e48c57d66d9",
   "metadata": {},
   "source": [
    "The variable name **a** is a reference to the memory location where the object [2, 4] is stored. Now, suppose we assign **a** to a new variable **b**:"
   ]
  },
  {
   "cell_type": "code",
   "execution_count": 79,
   "id": "1057b1b0-68c9-4697-b507-a0a63fcdf79f",
   "metadata": {},
   "outputs": [],
   "source": [
    "b = a"
   ]
  },
  {
   "cell_type": "markdown",
   "id": "9f858275-1686-4ecf-862a-f6cf8d692bb8",
   "metadata": {},
   "source": [
    "In the above statement the variable name **b** now refers to the same object [2,4]. The object [2,4] does not get copied to a new memory location referred by **a**.  Variable **a** and **b** point to the same location in memory and reference the same object.  To prove this, let us add an element to b.  Remember we use the list method append()..."
   ]
  },
  {
   "cell_type": "code",
   "execution_count": 82,
   "id": "3ca3fa98-2116-4724-8128-4fbb929c8b2c",
   "metadata": {},
   "outputs": [
    {
     "name": "stdout",
     "output_type": "stream",
     "text": [
      "[2, 4, 2]\n"
     ]
    }
   ],
   "source": [
    "b.append(2)\n",
    "print(b)\n"
   ]
  },
  {
   "cell_type": "code",
   "execution_count": 84,
   "id": "2a89a1f9-3446-4a75-a362-750511bac6df",
   "metadata": {},
   "outputs": [
    {
     "name": "stdout",
     "output_type": "stream",
     "text": [
      "[2, 4, 2]\n"
     ]
    }
   ],
   "source": [
    "print(a)"
   ]
  },
  {
   "cell_type": "markdown",
   "id": "967de259-f7c2-4843-ae80-35c92a958ae1",
   "metadata": {},
   "source": [
    "## Variables and Naming\n",
    "Values can be assigned to multiple variables in a single statement by separating the variable names and values with commas."
   ]
  },
  {
   "cell_type": "code",
   "execution_count": 87,
   "id": "22a85b1d-8558-4ca9-bad3-c583dee96f19",
   "metadata": {},
   "outputs": [],
   "source": [
    "dog1, dog2, dog3= \"Lucy\", \"GiGi\", \"Tilly\""
   ]
  },
  {
   "cell_type": "markdown",
   "id": "cb58b6b4-a267-4d81-8535-359c8793cfdf",
   "metadata": {},
   "source": [
    "To assign the same value to multiple variables, chain the assignment:"
   ]
  },
  {
   "cell_type": "code",
   "execution_count": 93,
   "id": "6fad93b6-983b-4a20-be34-9a9eab49ddca",
   "metadata": {},
   "outputs": [],
   "source": [
    "dog4 = dog5 = dog6 = \"Nater Tater\""
   ]
  },
  {
   "cell_type": "markdown",
   "id": "f3d31fe4-8423-4b09-b954-dc31f4ef7d6f",
   "metadata": {},
   "source": [
    "Variable names can be short (i, x, y, etc.) or descriptive ( fav_color, sales_tax, my_dachshunds, etc.). I recommend that you use descriptive variable names as it enhances code readability.\n",
    "\n",
    "The rules below must be followed while naming Python variables:\n",
    "* A variable’s name must start with a letter or the underscore character _. It cannot begin with a number.\n",
    "* A variable name can only contain lowercase (small) or uppercase (capital) letters, digits, or underscores (a-z, A-Z, 0-9, and _).\n",
    "* Variable names are case-sensitive, i.e., a_variable, A_Variable, and A_VARIABLE are all different variables."
   ]
  },
  {
   "cell_type": "code",
   "execution_count": 103,
   "id": "3473a7b7-2fd9-4017-a7a8-864575c2734c",
   "metadata": {},
   "outputs": [],
   "source": [
    "#Examples\n",
    "isRaining= True  #Boolean\n",
    "fav_color= \"teal\"\n",
    "dachshunds=[\"Lucy\", \"GiGi\", \"Tilly\"]"
   ]
  },
  {
   "cell_type": "markdown",
   "id": "3f9582fc-98a1-42cf-9df9-ef64cb1ac3ba",
   "metadata": {},
   "source": [
    "## Built-In Data Types\n",
    "\n",
    "In Python, a variable is created the moment a value is assigned to it. Unlike many other programming languages, Python does not require explicit type declarations for variables, as it automatically infers the data type (dynamically typed).\n",
    "\n",
    "Every value stored in a Python variable has a specific type, which can be identified using the type() function. For example:"
   ]
  },
  {
   "cell_type": "code",
   "execution_count": 107,
   "id": "22afee24-5528-4f29-8b92-19603ada4280",
   "metadata": {},
   "outputs": [
    {
     "name": "stdout",
     "output_type": "stream",
     "text": [
      "<class 'int'>\n"
     ]
    },
    {
     "data": {
      "text/plain": [
       "list"
      ]
     },
     "execution_count": 107,
     "metadata": {},
     "output_type": "execute_result"
    }
   ],
   "source": [
    "age= 32\n",
    "print(type(age))\n",
    "\n",
    "type(isRaining)\n",
    "type(fav_color)\n",
    "type(dachshunds)"
   ]
  },
  {
   "cell_type": "markdown",
   "id": "19b284d1-2e7b-4b64-944f-c727d9724640",
   "metadata": {},
   "source": [
    "Python provides several built-in data types to store different kinds of information in variables:\n",
    "\n",
    "* **Primitive Types:** These include integers, floats, booleans, None, and strings, representing single values.\n",
    "* **Containers:** Types like lists, tuples, and dictionaries, often referred to as data structures or containers, store multiple pieces of data."
   ]
  },
  {
   "cell_type": "markdown",
   "id": "08f2d9c5-30da-45e3-95e7-fb9d6ca0c00d",
   "metadata": {},
   "source": [
    "## Built-In Modules and Functions\n",
    "Python includes numerous built-in functions that can be used without importing additional libraries. The Python Standard Library also contains scripts and modules with pre-defined solutions for common programming problems.\n",
    "\n",
    "Example of Built-in Functions:\n",
    "\n",
    "* range(): Generates a sequence of integers. It’s often used in loops to define iteration ranges:"
   ]
  },
  {
   "cell_type": "code",
   "execution_count": 9,
   "id": "90982eb4-8bac-4412-8344-bdeca7e4d1bd",
   "metadata": {},
   "outputs": [
    {
     "name": "stdout",
     "output_type": "stream",
     "text": [
      "[1, 2, 3, 4]\n"
     ]
    }
   ],
   "source": [
    "print(list(range(1,5)))"
   ]
  },
  {
   "cell_type": "markdown",
   "id": "9b001b40-e66e-445d-a636-7418272f0c2b",
   "metadata": {},
   "source": [
    "The range object consumes minimal memory, as it only stores the start, stop, and step values and calculates items as needed.\n",
    "\n"
   ]
  },
  {
   "cell_type": "code",
   "execution_count": null,
   "id": "2b32747f-3923-4372-a98d-c68ad3319fa2",
   "metadata": {},
   "outputs": [],
   "source": [
    "The **datetime** Module: Handles date and time objects."
   ]
  },
  {
   "cell_type": "code",
   "execution_count": 11,
   "id": "00db7160-68a5-4b9e-8bd7-10466374fc02",
   "metadata": {},
   "outputs": [
    {
     "data": {
      "text/plain": [
       "'Jan-15-2025'"
      ]
     },
     "execution_count": 11,
     "metadata": {},
     "output_type": "execute_result"
    }
   ],
   "source": [
    "import datetime as dt  \n",
    "\n",
    "dt_object = dt.datetime(2025, 1, 15, 11, 30, 0)  \n",
    "\n",
    "# Access date attributes\n",
    "dt_object.day  # Output: 15  \n",
    "dt_object.year  # Output: 2025  \n",
    "\n",
    "# Format datetime as strings\n",
    "dt_object.strftime('%m/%d/%Y')  # Output: '01/15/2025'  \n",
    "dt_object.strftime('%m/%d/%y %H:%M')  # Output: '01/15/25 11:30'  \n",
    "dt_object.strftime('%h-%d-%Y')  # Output: 'Jan-15-2025' "
   ]
  },
  {
   "cell_type": "markdown",
   "id": "6068626c-47d7-4f01-97dd-d16c4fc8204c",
   "metadata": {
    "jp-MarkdownHeadingCollapsed": true
   },
   "source": [
    "## Importing Libraries\n",
    "Python provides built-in functions like print(), abs(), max(), and sum(), which do not require additional imports. However, for advanced tasks, external libraries are often necessary. Below are some commonly used libraries and their purposes:\n",
    "\n",
    "* NumPy: Supports numerical operations, arrays, and matrices.\n",
    "* Pandas: Enables data manipulation and analysis using structures like DataFrames and Series.\n",
    "* Matplotlib & Seaborn: Create visualizations and statistical graphics.\n",
    "* SciPy: Facilitates scientific computations, optimization, and statistical analysis.\n",
    "* Scikit-learn: Provides tools for machine learning, including classification, regression, and clustering.\n",
    "* Statsmodels: Focuses on statistical modeling and inference.\n",
    "\n",
    "Using Libraries:\n",
    "* Install required libraries (Anaconda includes many of these by default).\n",
    "* Import libraries in your script or notebook.\n",
    "* Use the library’s functions and classes.\n",
    "\n",
    "Examples of Importing:"
   ]
  },
  {
   "cell_type": "code",
   "execution_count": 15,
   "id": "eb4d9476-162d-479e-97b2-e374704ad742",
   "metadata": {},
   "outputs": [],
   "source": [
    "# Import the entire library with an alias\n",
    "import numpy as np  \n",
    "\n",
    "# Import specific methods\n",
    "from random import randint  \n",
    "from math import pi  \n",
    "\n",
    "# Import a specific method and rename it\n",
    "from os.path import join as join_path  "
   ]
  },
  {
   "attachments": {},
   "cell_type": "markdown",
   "id": "d7a47416-3efe-44f4-93c8-6bd30a0a5ed4",
   "metadata": {},
   "source": [
    "## Functions\n",
    "A function is a reusable block of code that accepts one or more inputs, performs a series of operations, and often produces an output.  ![](https://www.scientecheasy.com/wp-content/uploads/2022/11/python-function-definition.png)"
   ]
  },
  {
   "cell_type": "markdown",
   "id": "750f7ed7-e30d-47e9-a77d-e703f1810af4",
   "metadata": {},
   "source": [
    "### Creating and Using Functions\n",
    "\n",
    "Functions in Python are defined using the def keyword, followed by the function name, parentheses (), and a colon :. The body of the function contains indented statements that define the function’s behavior."
   ]
  },
  {
   "cell_type": "code",
   "execution_count": 33,
   "id": "bcb6236b-7847-4055-a8c5-1285ccb6a9dc",
   "metadata": {},
   "outputs": [],
   "source": [
    "def sing_happybirthday():\n",
    "    print('Happy Birthday to you, Happy Birthday to you')\n",
    "    print('Happy Birthday, to anyone, Happy Birthday to you')"
   ]
  },
  {
   "cell_type": "markdown",
   "id": "a21cd63a-b329-4cd5-9dab-950e2115aa69",
   "metadata": {},
   "source": [
    "The parentheses and colon are critical parts of the syntax. The function’s body executes only when the function is called or invoked:"
   ]
  },
  {
   "cell_type": "code",
   "execution_count": 35,
   "id": "8350ef00-d2b1-44d6-a0b4-feb958d65e04",
   "metadata": {},
   "outputs": [
    {
     "name": "stdout",
     "output_type": "stream",
     "text": [
      "Happy Birthday to you, Happy Birthday to you\n",
      "Happy Birthday, to anyone, Happy Birthday to you\n"
     ]
    }
   ],
   "source": [
    "sing_happybirthday()"
   ]
  },
  {
   "cell_type": "markdown",
   "id": "75d1372b-0ad9-4710-ae84-47979ed769dd",
   "metadata": {},
   "source": [
    "Functions can also accept arguments, allowing you to pass information during the call:"
   ]
  },
  {
   "cell_type": "code",
   "execution_count": 44,
   "id": "c5d9cd3f-cf89-4ef3-87c2-9ad0e3a74687",
   "metadata": {},
   "outputs": [],
   "source": [
    "def sing_happybirthday(name):\n",
    "    print('Happy Birthday to you, Happy Birthday to you')\n",
    "    print('Happy Birthday, dear', name, 'Happy Birthday to you')"
   ]
  },
  {
   "cell_type": "code",
   "execution_count": 46,
   "id": "2f583cc6-028e-4ef7-9182-54fc1b7e7f89",
   "metadata": {},
   "outputs": [
    {
     "name": "stdout",
     "output_type": "stream",
     "text": [
      "Happy Birthday to you, Happy Birthday to you\n",
      "Happy Birthday dear Tilly Happy Birthday to you\n"
     ]
    }
   ],
   "source": [
    "sing_happybirthday(\"Tilly\")"
   ]
  },
  {
   "cell_type": "code",
   "execution_count": 50,
   "id": "8a8ecd41-8790-4305-a903-77199a083b5b",
   "metadata": {},
   "outputs": [
    {
     "name": "stdin",
     "output_type": "stream",
     "text": [
      "Please enter your name:  fo\n"
     ]
    },
    {
     "name": "stdout",
     "output_type": "stream",
     "text": [
      "Happy Birthday to you, Happy Birthday to you\n",
      "Happy Birthday dear fo Happy Birthday to you\n"
     ]
    }
   ],
   "source": [
    "person = input('Please enter your name: ')\n",
    "sing_happybirthday(person)"
   ]
  },
  {
   "cell_type": "markdown",
   "id": "b1bd5186-f665-4dd6-a3c0-a579db87e594",
   "metadata": {},
   "source": [
    "## Variable Scope: Remembering Local and Global Variables\n",
    "\n",
    "**Local Variables:** Variables declared inside a function are local to that function and cannot be accessed outside of it."
   ]
  },
  {
   "cell_type": "code",
   "execution_count": null,
   "id": "6d805aac-01da-40cf-9e8f-d01995d36a62",
   "metadata": {},
   "outputs": [],
   "source": [
    "def bark():\n",
    "    message = 'Arf'  # Local variable\n",
    "    print('Local', message)\n",
    "\n",
    "bark()\n",
    "# Output: Local Arf\n",
    "\n",
    "print(message)  # Attempting to access the variable outside the function results in an error\n",
    "# Output:\n",
    "# NameError: name 'message' is not defined"
   ]
  },
  {
   "cell_type": "markdown",
   "id": "da0b408f-e2ad-4ecc-92b2-89a546f88e25",
   "metadata": {},
   "source": [
    "Since message is defined within the bark() function, it cannot be accessed elsewhere.\n",
    "\n",
    "Global Variables: Variables declared outside any function have global scope and can be accessed both inside and outside functions."
   ]
  },
  {
   "cell_type": "code",
   "execution_count": null,
   "id": "a0442a1e-0b00-49fe-934e-20d59806b8fd",
   "metadata": {},
   "outputs": [],
   "source": [
    "message = 'Arf'  # Global variable\n",
    "\n",
    "def bark():\n",
    "    print('Local', message)\n",
    "\n",
    "bark()\n",
    "print('Global', message)\n",
    "\n",
    "# Output:\n",
    "# Local Hello\n",
    "# Global Hello"
   ]
  }
 ],
 "metadata": {
  "kernelspec": {
   "display_name": "Python [conda env:base] *",
   "language": "python",
   "name": "conda-base-py"
  },
  "language_info": {
   "codemirror_mode": {
    "name": "ipython",
    "version": 3
   },
   "file_extension": ".py",
   "mimetype": "text/x-python",
   "name": "python",
   "nbconvert_exporter": "python",
   "pygments_lexer": "ipython3",
   "version": "3.12.7"
  }
 },
 "nbformat": 4,
 "nbformat_minor": 5
}
