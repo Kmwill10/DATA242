{
 "cells": [
  {
   "cell_type": "code",
   "execution_count": 5,
   "id": "d13e2a1a-ab79-43fb-a870-b1f2bb82cbcf",
   "metadata": {},
   "outputs": [],
   "source": [
    "#Create a class point that stores two points\n",
    "\n",
    "class Point:\n",
    "    def __init__(self, x, y):\n",
    "        self.x = x\n",
    "        self.y = y\n",
    "    \n",
    "    def sum(self):\n",
    "        return self.x + self.y\n",
    "    \n",
    "    def prod(self):\n",
    "        return self.x*self.y\n"
   ]
  },
  {
   "cell_type": "code",
   "execution_count": null,
   "id": "e9e08260-4b16-4ee9-a758-26e9f68d2951",
   "metadata": {},
   "outputs": [],
   "source": [
    "# Read text below and then come back and create an object of type Point"
   ]
  },
  {
   "cell_type": "markdown",
   "id": "0a3e0423-91e6-489c-ab27-0f46ad34f9a1",
   "metadata": {},
   "source": [
    "### Object Review\n",
    "\n",
    "Let's refresh our memory on objects based on the example above:  \n",
    "\n",
    "#### The `class` Statement  \n",
    "The `class` statement is used to define a class. According to the Python style guide, class names should follow the CamelCase convention.  \n",
    "\n",
    "#### The Constructor (`__init__()` Method)  \n",
    "Most classes include a special method called `__init__`, known as the constructor. This method is automatically invoked when an object (or instance) of the class is created. Its primary function is to initialize the class’s attributes.  \n",
    "\n",
    "In the example above, the constructor takes two arguments and assigns their values to the attributes `x` and `y`.  \n",
    "\n",
    "#### The `self` Argument  \n",
    "This is the first parameter of every method in a class. It represents the instance of the class, allowing access to its attributes and methods. Using `self` ensures that the class’s attributes and methods are distinguishable from other variables and functions in the program.  \n",
    "\n",
    "The `Point` class has the following: \n",
    "- Two attributes: `x` and `y`  \n",
    "- A constructor: `__init__()`  \n",
    "- Two methods: `sum()` and `prod()`  \n"
   ]
  },
  {
   "cell_type": "markdown",
   "id": "15e6d1b3-8cde-41dd-af00-7e9200f114d7",
   "metadata": {},
   "source": [
    "### You try: \n",
    "\n",
    "Create a class named PasswordManager.\n",
    "\n",
    "This class should contain a list called old_pass that stores all of the user’s previous passwords, with the most recent one being the current password, curr_pass.\n",
    "\n",
    "\n",
    "The class should have the following methods:\n",
    "- get_password(): Returns the current password.\n",
    "\n",
    "- set_password(new_password): Updates the user’s password to new_password only if it hasn’t been used before. This method should print 'Password changed successfully!' if the update is successful, or 'Old password cannot be reused, try again.' if the new password matches any previous password.\n",
    "\n",
    "- is_correct(password): Takes a string password as input and returns a boolean value (True or False) depending on whether the input matches the current password.\n",
    "\n",
    "- Your initializer should initialize the object of PasswordManager to empty list and initial password should be passed into the object.\n",
    "\n",
    "### Create your own ojbect:\n",
    "- Create an object of type Password manager and intitalize it to 'gigi'.\n",
    "- Use get_password() to retrieve the current password.\n",
    "- Attempt to set the password to 'gigi', then verify the current password.\n",
    "- Attempt to set the password to 'lucy', then verify the current password.\n",
    "- Test the is_correct() method with a sample input.\n",
    "\n",
    "\n",
    "###  TO DO:  Add a PrintDebug method"
   ]
  },
  {
   "cell_type": "code",
   "execution_count": 13,
   "id": "3ac9b690-4e0f-42e6-8331-bded93fa1c4a",
   "metadata": {},
   "outputs": [
    {
     "name": "stdout",
     "output_type": "stream",
     "text": [
      "Current password: gigi\n",
      "Old password cannot be reused, try again.\n",
      "Current password after attempt: gigi\n",
      "Password changed successfully!\n",
      "Current password after change: lucy\n",
      "Is 'lucy' the correct password? True\n",
      "Is 'gigi' the correct password? False\n"
     ]
    }
   ],
   "source": [
    "# Solution:  Discuss two different ways to do this..with and withouot\n",
    "\n",
    "class PasswordManager:\n",
    "    def __init__(self, initial_password):\n",
    "        \"\"\"Initialize with an empty list and set the initial password.\"\"\"\n",
    "        self.old_pass = [initial_password]  # Store passwords with current\n",
    "        self.curr_pass = initial_password\n",
    "\n",
    "    def get_password(self):\n",
    "        \"\"\"Returns the current password.\"\"\"\n",
    "        return self.curr_pass\n",
    "\n",
    "    def set_password(self, new_password):\n",
    "        \"\"\"Set a new password if it hasn’t been used before.\n",
    "           return: nothing but prints message indicating success or failure\"\"\"\n",
    "        if new_password in self.old_pass:\n",
    "            print(\"Old password cannot be reused, try again.\")\n",
    "        else:\n",
    "            self.old_pass.append(new_password)\n",
    "            self.curr_pass = new_password\n",
    "            print(\"Password changed successfully!\")\n",
    "\n",
    "    def is_correct(self, password):\n",
    "        \"\"\"Check if the given password matches the current password. \n",
    "            return: bool \"\"\"\n",
    "        return password == self.curr_pass\n",
    "\n",
    "\n",
    "# Create an object of PasswordManager initialized to 'gigi'\n",
    "manager = PasswordManager('gigi')\n",
    "\n",
    "# Retrieve the current password\n",
    "print(\"Current password:\", manager.get_password())\n",
    "\n",
    "# Attempt to set the password to 'gigi' ...should fail\n",
    "manager.set_password('gigi')\n",
    "print(\"Current password after attempt:\", manager.get_password())\n",
    "\n",
    "# Attempt to set the password to 'lucy' ...should succeed\n",
    "manager.set_password('lucy')\n",
    "print(\"Current password after change:\", manager.get_password())\n",
    "\n",
    "\n",
    "# Test is_correct() \n",
    "print(\"Is 'lucy' the correct password?\", manager.is_correct('lucy'))  # True\n",
    "print(\"Is 'gigi' the correct password?\", manager.is_correct('gigi'))  # False\n",
    "\n"
   ]
  },
  {
   "cell_type": "code",
   "execution_count": 17,
   "id": "7fe37756-f51f-443f-a278-bcb6e96d7a6f",
   "metadata": {},
   "outputs": [
    {
     "name": "stdout",
     "output_type": "stream",
     "text": [
      "Help on class PasswordManager in module __main__:\n",
      "\n",
      "class PasswordManager(builtins.object)\n",
      " |  PasswordManager(initial_password)\n",
      " |\n",
      " |  Methods defined here:\n",
      " |\n",
      " |  __init__(self, initial_password)\n",
      " |      Initialize with an empty list and set the initial password.\n",
      " |\n",
      " |  get_password(self)\n",
      " |      Returns the current password.\n",
      " |\n",
      " |  is_correct(self, password)\n",
      " |      Check if the given password matches the current password.\n",
      " |      return: bool\n",
      " |\n",
      " |  set_password(self, new_password)\n",
      " |      Set a new password if it hasn’t been used before.\n",
      " |      return: nothing but prints message indicating success or failure\n",
      " |\n",
      " |  ----------------------------------------------------------------------\n",
      " |  Data descriptors defined here:\n",
      " |\n",
      " |  __dict__\n",
      " |      dictionary for instance variables\n",
      " |\n",
      " |  __weakref__\n",
      " |      list of weak references to the object\n",
      "\n"
     ]
    }
   ],
   "source": [
    "#If you call help on Password manager then the strings underneath the functions\n",
    "#are printed out \"\"\" \"\"\".  Isn't that cool?\n",
    "help(PasswordManager)\n",
    "\n",
    "\n",
    "# Go back to the above method and add a printDebug method.\n"
   ]
  },
  {
   "cell_type": "markdown",
   "id": "994b20cc-4142-4d0b-8e79-7666d9cc7e01",
   "metadata": {},
   "source": [
    "### Using `__repr__()`\n",
    "\n",
    "The `__repr__()` method in Python is used to provide a string representation of an object that is useful for debugging and development. It defines what gets printed when you call print(object) or when you inspect an object in the console."
   ]
  },
  {
   "cell_type": "code",
   "execution_count": 3,
   "id": "a7233fef-e5f3-4ba0-8be5-b9063e0207ff",
   "metadata": {},
   "outputs": [
    {
     "name": "stdout",
     "output_type": "stream",
     "text": [
      "MyPoint(2, 4) MyPoint(2, 1)\n"
     ]
    }
   ],
   "source": [
    "class Point:\n",
    "    def __init__(self, x, y):  # This should appear first\n",
    "        self.x = x\n",
    "        self.y = y\n",
    "    \n",
    "    def sum(self):\n",
    "        \"\"\"Returns the sum of x and y.\"\"\"\n",
    "        return self.x + self.y\n",
    "    \n",
    "    def prod(self):\n",
    "        \"\"\"Returns the product of x and y.\"\"\"\n",
    "        return self.x * self.y\n",
    "\n",
    "    def __repr__(self):  #this is automatically called in printing\n",
    "        \"\"\"Returns a string representation of the point.\"\"\"\n",
    "        return f\"MyPoint({self.x}, {self.y})\"\n",
    "\n",
    "# Example usage:\n",
    "p1 = Point(2, 4)\n",
    "p2 = Point(2, 1)\n",
    "\n",
    "# Printing the objects\n",
    "print(p1,p2)  # Calls __repr__(), output: Point(3, 4)"
   ]
  },
  {
   "cell_type": "markdown",
   "id": "e824ad2a-69de-49e5-a47e-75ce04464349",
   "metadata": {},
   "source": [
    "###  What if you wanted to add two points together?\n",
    "\n",
    " -  For example,  `Point(2,4)`+`Point(2,1)` should return a `Point(4,5)` just like real point addition.\n",
    "\n",
    " -  Let's update the `Point` class and create a method for addition\n",
    "\n"
   ]
  },
  {
   "cell_type": "code",
   "execution_count": 9,
   "id": "e5748c8b-5eeb-4ccb-b183-dc74a21d3e95",
   "metadata": {},
   "outputs": [
    {
     "name": "stdout",
     "output_type": "stream",
     "text": [
      "Point 1: Point(2, 3)\n",
      "Point 2: Point(4, 5)\n",
      "Point 1 + Point 2 = Point(6, 8)\n"
     ]
    }
   ],
   "source": [
    "class Point:\n",
    "    def __init__(self, x, y):\n",
    "        self.x = x\n",
    "        self.y = y\n",
    "    \n",
    "    def sum(self):\n",
    "        \"\"\"Returns the sum of x and y.\"\"\"\n",
    "        return self.x + self.y\n",
    "    \n",
    "    def prod(self):\n",
    "        \"\"\"Returns the product of x and y.\"\"\"\n",
    "        return self.x * self.y\n",
    "\n",
    "    def add(self, other):\n",
    "        return Point(self.x + other.x, self.y + other.y)\n",
    "       \n",
    "    def __repr__(self):\n",
    "        \"\"\"Returns a string representation of the point.\"\"\"\n",
    "        return f\"Point({self.x}, {self.y})\"\n",
    "\n",
    "# Example usage:\n",
    "p1 = Point(2, 3)\n",
    "p2 = Point(4, 5)\n",
    "\n",
    "# Adding two points\n",
    "p3 = p1.add(p2)\n",
    "\n",
    "print(\"Point 1:\", p1)\n",
    "print(\"Point 2:\", p2)\n",
    "print(\"Point 1 + Point 2 =\", p3)  # Expected output: Point(6, 8)\n",
    "\n",
    "#p4=p1.add(2) # write code that other people can't break\n"
   ]
  },
  {
   "cell_type": "markdown",
   "id": "6a929423-c0be-4a2e-9dda-26f37150f349",
   "metadata": {},
   "source": [
    "### Error Checking\n",
    "We can check to see if the argument passed to add is a Point object before performing the operation.  \n",
    "\n",
    "We will use a built in function called `isinstance()` for error handling. It ensures that the input to a method or function is of the correct type, preventing runtime errors and improving code robustness.\n",
    "\n",
    "#### Syntax of `isinstance()`\n",
    "`isinstance(object, class_or_tuple)`\n",
    "- **object** The variable or object you want to check.\n",
    "- **class_or_tuple** The class (or tuple of classes) you want to check against.\n",
    "- Example:\n",
    "\n",
    "```python\n",
    "x = 5\n",
    "print(isinstance(x, int))  # True\n",
    "print(isinstance(x, str))  # False\n",
    "```\n",
    "\n",
    "\n",
    "\n",
    "#### Why is this Important?\n",
    "- **Prevents Type Errors**:\n",
    "Without type checking, passing an incorrect type (e.g., an integer instead of a Point object) could cause unexpected crashes.\n",
    "- **Provides Clear Error Messages**:\n",
    "Instead of getting a vague AttributeError, you can raise a custom TypeError with a helpful message.\n",
    "- **Improves Code Readability and Maintainability**:\n",
    "Future developers (or even yourself later) will find it easier to understand the constraints on function inputs.\n"
   ]
  },
  {
   "cell_type": "code",
   "execution_count": 18,
   "id": "dbaa5b23-775c-4d7a-8bfe-4db094667eb2",
   "metadata": {},
   "outputs": [
    {
     "name": "stdout",
     "output_type": "stream",
     "text": [
      "Point 1: Point(2, 3)\n",
      "Point 2: Point(4, 5)\n",
      "Point 1 + Point 2 = Point(6, 8)\n"
     ]
    }
   ],
   "source": [
    "class Point:\n",
    "    def __init__(self, x, y):\n",
    "        self.x = x\n",
    "        self.y = y\n",
    "    \n",
    "    def sum(self):\n",
    "        \"\"\"Returns the sum of x and y.\"\"\"\n",
    "        return self.x + self.y\n",
    "    \n",
    "    def prod(self):\n",
    "        \"\"\"Returns the product of x and y.\"\"\"\n",
    "        return self.x * self.y\n",
    "\n",
    "    def add(self, other):\n",
    "        \"\"\"Performs point addition by adding corresponding coordinates.\"\"\"\n",
    "        if isinstance(other, Point):  # Ensure the input is a Point object\n",
    "            return Point(self.x + other.x, self.y + other.y)\n",
    "        else:\n",
    "            raise TypeError(\"Argument must be of type Point.\")\n",
    "\n",
    "    def __repr__(self):\n",
    "        \"\"\"Returns a string representation of the point.\"\"\"\n",
    "        return f\"Point({self.x}, {self.y})\"\n",
    "\n",
    "# Example usage:\n",
    "p1 = Point(2, 3)\n",
    "p2 = Point(4, 5)\n",
    "\n",
    "# Adding two points\n",
    "p3 = p1.add(p2)\n",
    "\n",
    "print(\"Point 1:\", p1)\n",
    "print(\"Point 2:\", p2)\n",
    "print(\"Point 1 + Point 2 =\", p3)  # Expected output: Point(6, 8)"
   ]
  },
  {
   "cell_type": "markdown",
   "id": "a906d115-8988-4da8-a683-57fdabb50b76",
   "metadata": {},
   "source": [
    "#### Class Attributes and Instance Attributes\n",
    "\n",
    "Let's look more closely at the attributes or the data that the object will store.\n",
    "\n",
    "- **Instance Attributes:** Attributes unique to each instance (defined inside __init__).\n",
    "\n",
    "- **Class Attributes:** Shared across all instances (defined outside __init__)."
   ]
  },
  {
   "cell_type": "code",
   "execution_count": 24,
   "id": "f4ff56c1-8841-4285-8088-c3b40dcc0e3d",
   "metadata": {},
   "outputs": [
    {
     "name": "stdout",
     "output_type": "stream",
     "text": [
      "dachshund\n",
      "dachshund\n"
     ]
    }
   ],
   "source": [
    "class Dog:\n",
    "    breed = \"dachshund\"  # Class attribute\n",
    "\n",
    "    \n",
    "    def __init__(self, name, age):\n",
    "        self.name = name  # Instance attribute\n",
    "        self.age = age  # Instance attribute\n",
    "\n",
    "# Accessing attributes\n",
    "dog1 = Dog(\"Lucy\", 15)\n",
    "dog2 = Dog(\"Tilly\", 2)\n",
    "\n",
    "print(dog1.breed)  # Output: dachshund\n",
    "print(dog2.breed)  # Output: dachshund\n",
    "\n",
    "\n",
    "# To Do:  Add a more logical class attribute like races_won=0 and move breed to init"
   ]
  },
  {
   "cell_type": "markdown",
   "id": "96f2b8dc-509b-4e7c-b4c5-33e54c8c27b3",
   "metadata": {},
   "source": [
    "### Putting it together: Valentine's Day Dachshund Delivery Service \n",
    "\n",
    "You’ve been hired to create a Valentine's Day delivery system where dachshunds deliver Valentine's gifts to recipients. Each dachshund can carry a limited number of gifts, and they have a special message they bark upon delivery.\n",
    "\n",
    "## Requirements:\n",
    "Create a class Dachshund with:\n",
    "* An instance attribute name (the name of the dachshund).\n",
    "* An instance attribute max_capacity (maximum number of gifts the dachshund can carry).\n",
    "* An instance attribute gifts (a list to store the gifts).\n",
    "* A method add_gift(gift) that adds a gift to the dachshund’s list if it doesn’t exceed max_capacity.\n",
    "* A method deliver_gifts() that prints out each gift being delivered along with a cute message, then empties the gifts list.\n",
    "\n",
    "Create a class ValentineDelivery with:\n",
    "* A class attribute delivery_message that stores a default bark message \"Woof! Your Valentine's gift has arrived!\"\n",
    "* A method change_message(new_message), which allows changing the delivery message for all dachshunds.\n",
    "\n",
    "Test your classes by:\n",
    "* Creating two dachshund objects (pup1 and pup2) with different capacities.\n",
    "* Adding gifts and attempting to exceed capacity.\n",
    "* Changing the delivery message.\n",
    "* Delivering the gifts and ensuring the list resets.\n",
    "\n"
   ]
  },
  {
   "cell_type": "code",
   "execution_count": null,
   "id": "2b6bffb6-9851-4b26-a079-d69853115216",
   "metadata": {},
   "outputs": [],
   "source": []
  },
  {
   "cell_type": "code",
   "execution_count": null,
   "id": "9b3c3884-cbc3-4f43-bfb1-93453c32ad55",
   "metadata": {},
   "outputs": [],
   "source": [
    "#Put your code here"
   ]
  },
  {
   "cell_type": "code",
   "execution_count": null,
   "id": "fc8d5efd-15a7-4bb9-a87b-4edc588f8741",
   "metadata": {},
   "outputs": [],
   "source": [
    "# Example that uses your code\n",
    "\n",
    "\n",
    "# Creating dachshunds\n",
    "pup1 = Dachshund(\"Lucy\", 15)\n",
    "pup2 = Dachshund(\"Tilly\", 2)\n",
    "\n",
    "# Adding gifts\n",
    "pup1.add_gift(\"Box of Chocolates\")\n",
    "pup1.add_gift(\"Love Letter\")\n",
    "pup1.add_gift(\"Teddy Bear\")\n",
    "pup1.add_gift(\"Roses\")  # Should not be added\n",
    "\n",
    "pup2.add_gift(\"Heart Balloon\")\n",
    "pup2.add_gift(\"Diamond Ring\")\n",
    "\n",
    "# Changing the delivery message\n",
    "ValentineDelivery.change_message(\"Arf! A special Valentine's surprise for you!\")\n",
    "\n",
    "# Delivering gifts\n",
    "pup1.deliver_gifts()\n",
    "pup2.deliver_gifts()"
   ]
  }
 ],
 "metadata": {
  "kernelspec": {
   "display_name": "Python [conda env:base] *",
   "language": "python",
   "name": "conda-base-py"
  },
  "language_info": {
   "codemirror_mode": {
    "name": "ipython",
    "version": 3
   },
   "file_extension": ".py",
   "mimetype": "text/x-python",
   "name": "python",
   "nbconvert_exporter": "python",
   "pygments_lexer": "ipython3",
   "version": "3.12.7"
  }
 },
 "nbformat": 4,
 "nbformat_minor": 5
}
