{
 "cells": [
  {
   "cell_type": "code",
   "execution_count": null,
   "id": "d1c44725-752b-41e3-9e8a-8436999ee263",
   "metadata": {},
   "outputs": [],
   "source": [
    "#Warm up Exercise Binary Search\n",
    "def binary_search(a, target):\n",
    "    left=0\n",
    "    right=len(a)-1\n",
    "\n",
    "    while (left <=right):\n",
    "        mid=(left+right)//2\n",
    "        if (a[mid]==target):\n",
    "            return mid\n",
    "        elif target> a[mid]:\n",
    "            left=mid+1\n",
    "        else :\n",
    "            right=mid-1\n",
    "   # if get here no target\n",
    "    return -1"
   ]
  },
  {
   "cell_type": "code",
   "execution_count": null,
   "id": "4dca11fd-cce8-4d39-a164-72c6dcaa1174",
   "metadata": {},
   "outputs": [],
   "source": [
    "#Write this recursively"
   ]
  },
  {
   "cell_type": "markdown",
   "id": "c212faec-83f8-444a-a49b-63efcb80d6d8",
   "metadata": {},
   "source": [
    "#### Problem 1 \n",
    "Write a recursive algorithm to calculate the value of n raised to a power.  Your function, pow, takes in two integers `n` and `m`,  and returns the calculation of `nm`.  For example, \n",
    "`pow(2,3)=23=2*2*2=8`\n",
    "`pow(3,4)=34=3*3*3*3=81`\n",
    "To help you figure out this problem, notice the pattern and write a recursive mathematical equation similar to what we did in class on paper before writing the computer code.\n"
   ]
  },
  {
   "cell_type": "code",
   "execution_count": null,
   "id": "d1f3fb46-9a1d-4541-9644-9c7136d7fa99",
   "metadata": {},
   "outputs": [],
   "source": []
  },
  {
   "cell_type": "markdown",
   "id": "9d30a283-e90b-4a87-ab27-b6f02fa5d2ef",
   "metadata": {},
   "source": [
    "#### Problem 2\n",
    "Write a recursive function that computes the sum of squares of the first n integers starting at 1, where n is a parameter passed to the function."
   ]
  },
  {
   "cell_type": "code",
   "execution_count": null,
   "id": "d6527e37-fccd-4108-99d5-584b0d51b076",
   "metadata": {},
   "outputs": [],
   "source": []
  },
  {
   "cell_type": "markdown",
   "id": "731abe63-e8fd-4828-8169-1f149ecfad1b",
   "metadata": {},
   "source": [
    "#### Problem 3\n",
    "Write a function that counts the occurrence of digit in a given integer using recursion. This solution is similar to sum of digits.  Do not do any fancy string tricks or call special functions as it defeats the purpose of the exercise:) "
   ]
  },
  {
   "cell_type": "code",
   "execution_count": null,
   "id": "f847b6e6-de01-4a15-b2c6-89de0050f80a",
   "metadata": {},
   "outputs": [],
   "source": []
  },
  {
   "cell_type": "markdown",
   "id": "4f92f78c-8497-4777-b064-49b0b049daef",
   "metadata": {},
   "source": [
    "#### Problem 4\n",
    "Given a binary number as an input string (Example: `1011`), write a program to convert the binary string into an equivalent integer value.  \n",
    "Here's the algorithm:\n",
    " - Each digit in a binary number represents a power of 2, starting from the rightmost digit (least significant bit).  \n",
    "   The rightmost digit represents \\( 2^0 \\), the next one represents \\( 2^1 \\), then \\( 2^2 \\), and so on.\n",
    "- Multiply each binary digit (0 or 1) by \\( 2^n \\), where \\( n \\) is its position from the right (starting at 0).\n",
    "- Add up all the results to get the decimal equivalent.\n",
    "\n",
    "---\n",
    "\n",
    "#### **Example: Convert 1011₂ to Decimal**\n",
    " \n",
    "\\[\n",
    "(1 * 2^3) + (0 * 2^2) + (1 * 2^1) + (1 * 2^0)\n",
    "\\]\n",
    "\n",
    "  \n",
    "\\[\n",
    "(1 * 8) + (0 * 4) + (1 * 2) + (1* 1)\n",
    "\\]\n",
    "\n",
    "\\[\n",
    "8 + 0 + 2 + 1 = 11\n",
    "\\]\n",
    "\n",
    "So, **1011₂ = 11₁₀**.\n",
    "\n",
    "---\n",
    "\n",
    "#### **Example: Convert 11010₂ to Decimal**\n",
    "\n",
    "\\[\n",
    "(1* 2^4) + (1 * 2^3) + (0 * 2^2) + (1 * 2^1) + (0 * 2^0)\n",
    "\\]\n",
    " \n",
    "\\[\n",
    "(1 * 16) + (1 * 8) + (0* 4) + (1 * 2) + (0 * 1)\n",
    "\\]\n",
    "\n",
    "\\[\n",
    "16 + 8 + 0 + 2 + 0 = 26\n",
    "\\]\n",
    "\n",
    "So, **11010₂ = 26₁₀**.\n",
    "\n",
    "\n"
   ]
  },
  {
   "cell_type": "code",
   "execution_count": null,
   "id": "81ef24bc-a01f-4f49-8b01-2746a38b6e42",
   "metadata": {},
   "outputs": [],
   "source": []
  },
  {
   "cell_type": "code",
   "execution_count": null,
   "id": "13e67c7e-af62-49e7-a2c6-82b4edbcde6a",
   "metadata": {},
   "outputs": [],
   "source": []
  },
  {
   "cell_type": "markdown",
   "id": "ae7cf8d1-d5ba-405f-b4f8-cd88bd132ba8",
   "metadata": {},
   "source": [
    "### Recursion and the Stack Frame\n",
    "When a recursive function is executed in a programming language, stack memory is used to track each function invocation. Here’s a breakdown of how stack memory is utilized during recursion:\n",
    "- Each time a recursive function is called, a new stack frame is created. This frame stores the function’s parameters, local variables, and return address.  So a frame is just a `chunk` of memory.\n",
    "- If the function calls itself, a new stack frame is added for the new invocation. This process continues until the base case is reached.\n",
    "- Every recursive call pushes a new stack frame onto the call stack, forming a sequence of frames. The stack depth increases with each recursive call.\n",
    "- Each function call maintains its own set of local variables and parameters in its respective stack frame. These values remain distinct and independent across different recursion levels.  We have seen this when we have traced through examples on the board.\n"
   ]
  },
  {
   "cell_type": "markdown",
   "id": "adbe59b6-a1ee-42d4-b0bb-5a8e6e30741f",
   "metadata": {},
   "source": [
    "### Recursion versus Iteration\n",
    "Recursion is particularly useful when the problem itself has a naturally recursive structure, such as generating a Fibonacci sequence, or when dealing with recursive data structures like filesystems. Even though it may not seem like it now, recursive solutions are often more readable and easier to understand compared to their iterative counterparts.  \n",
    "\n",
    "However, a drawback of recursion is that it can require more memory than an iterative approach. Each recursive call adds a new frame to the call stack, consuming temporary memory. Since the stack has a finite size, this can impose a limitation on the problem size that a recursive implementation can handle.\n",
    "\n",
    "In the factorial examples below, recursion causes the stack memory usage to grow with each call, the iterative approach maintains a constant memory footprint. "
   ]
  },
  {
   "cell_type": "code",
   "execution_count": 14,
   "id": "aae50312-9f67-44cf-996f-b44ba8391ac9",
   "metadata": {},
   "outputs": [],
   "source": [
    "\n",
    "\n",
    "\n",
    "# Recursive Fibonacci \n",
    "def fib_recursive(n):\n",
    "    if n <= 1:\n",
    "        return n\n",
    "    return fib_recursive(n - 1) + fib_recursive(n - 2)\n",
    "\n",
    "# Iterative Fibonacci\n",
    "def fib_iterative(n):\n",
    "    if n <= 1:\n",
    "        return n\n",
    "    a, b = 0, 1\n",
    "    for n in range(2, n + 1):\n",
    "        a, b = b, a + b\n",
    "    return b\n",
    "\n",
    "\n"
   ]
  },
  {
   "cell_type": "markdown",
   "id": "f8085486-af76-4850-8db5-394fc56291e8",
   "metadata": {},
   "source": [
    "Now, let's make a card class."
   ]
  },
  {
   "cell_type": "code",
   "execution_count": null,
   "id": "9bee2826-1d74-447a-8c34-1da7f6926166",
   "metadata": {},
   "outputs": [],
   "source": []
  }
 ],
 "metadata": {
  "kernelspec": {
   "display_name": "Python [conda env:base] *",
   "language": "python",
   "name": "conda-base-py"
  },
  "language_info": {
   "codemirror_mode": {
    "name": "ipython",
    "version": 3
   },
   "file_extension": ".py",
   "mimetype": "text/x-python",
   "name": "python",
   "nbconvert_exporter": "python",
   "pygments_lexer": "ipython3",
   "version": "3.12.7"
  }
 },
 "nbformat": 4,
 "nbformat_minor": 5
}
